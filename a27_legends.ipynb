{
 "cells": [
  {
   "cell_type": "code",
   "execution_count": null,
   "metadata": {
    "collapsed": true
   },
   "outputs": [],
   "source": []
  },
  {
   "cell_type": "code",
   "execution_count": 1,
   "metadata": {
    "collapsed": true
   },
   "outputs": [],
   "source": [
    "from bs4 import BeautifulSoup\n",
    "import requests\n",
    "import re\n",
    "import pandas as pd\n",
    "import time\n",
    "import os\n",
    "\n",
    "\n",
    "def get_players_and_links(search_link, pages):\n",
    "    \n",
    "    players = []\n",
    "    links = []\n",
    "        \n",
    "    for page in range(1, pages):\n",
    "        link2 = ''.join([search_link,str(page)])\n",
    "        soup = BeautifulSoup(requests.get(link2).content, 'lxml')\n",
    "\n",
    "        table = soup.find('table', attrs={'class':'listing'})\n",
    "        table_rows = table.find_all('tr')\n",
    "\n",
    "        \n",
    "        for tr in table_rows[1:]:\n",
    "            td = tr.find_all('td')\n",
    "            row = [tr.text for tr in td]\n",
    "            players.append(row)\n",
    "\n",
    "        for link in soup.findAll('a', attrs={'href': re.compile(\"19/players/prices\")}):\n",
    "                            links.append(link.get('href'))\n",
    "        \n",
    "        assert len(links)==len(players)\n",
    "    \n",
    "    return players, links\n",
    "\n",
    "\n",
    "class PlayerItem:\n",
    "    def __init__(self, item, link):\n",
    "        #item = l[1]\n",
    "        self.name = item[1].split('\\n ')[1].strip()\n",
    "        self.program = item[1].split('\\n ')[-1].strip()\n",
    "        self.ovr = int(item[2])\n",
    "        self.pos = item[3]\n",
    "        self.date = None\n",
    "        self.link = 'https://www.muthead.com' + link\n",
    "        \n",
    "    def string(self):\n",
    "        return f\"Player: {self.name}\\nProgram: {self.program}\\nOVR: {self.ovr}\\nDate: {self.date}\"\n",
    "    \n",
    "    def as_dataframe(self):\n",
    "        return pd.DataFrame([{'name': self.name, 'program': self.program, 'date': self.date, \n",
    "                              'link': self.link, 'ovr': self.ovr, 'pos': self.pos}])\n",
    "    \n",
    "def get_release_date(link):\n",
    "    soup = BeautifulSoup(requests.get(link).content, 'lxml')\n",
    "    try:\n",
    "        date = soup.find_all('script', type=\"text/javascript\")[1].string.split('series:')[1].split('Date.UTC')[1].split(')')[0].lstrip('()').split(', ')\n",
    "        date = [int(x) for x in date]\n",
    "    except:\n",
    "        date = soup.find_all('script', type=\"text/javascript\")\n",
    "        print('(exception)')\n",
    "    # year, month, day = date\n",
    "    return date\n",
    "\n",
    "\n",
    "def get_and_save_player_dates(goal_program, date):\n",
    "    global pages_map\n",
    "    global link_map\n",
    "    \n",
    "    n_pages = pages_map[goal_program]\n",
    "    link = f'https://www.muthead.com/19/players?filter-market=4&filter-program-19={link_map[goal_program]}&page='\n",
    "    players, links = get_players_and_links(link, n_pages)\n",
    "    \n",
    "    # create list of PlayerItem objects to store data including dates\n",
    "    player_items = [PlayerItem(item=player, link=link_) for player, link_ in zip(players, links)]#[:5]\n",
    "    \n",
    "    if os.path.isfile(f'{date}_{goal_program}.csv'):\n",
    "        df = pd.read_csv(f'{date}_{goal_program}.csv', index_col=0)\n",
    "        print('reading previous file... (not doing anything yet)')\n",
    "        \n",
    "    # TODO: put full filtering here to limit unneccessary scraping\n",
    "    \n",
    "    \n",
    "    \n",
    "    # Fetch release dates of players\n",
    "    for p in player_items:\n",
    "        time.sleep(5)\n",
    "        p.date = get_release_date(p.link)\n",
    "    \n",
    "    # Convert to dataframe and save as csv\n",
    "    df = pd.concat([p.as_dataframe() for p in player_items])\n",
    "    df.reset_index(drop=True, inplace=True)\n",
    "\n",
    "    df['date_dtype'] = df['date'].apply(lambda x: type(x[0])).astype(str)\n",
    "    df['dated'] = df['date_dtype'].apply(lambda x: x ==\"<class 'int'>\")*1\n",
    "    \n",
    "    df['full'] = 0\n",
    "    indices = [idx[0] for name, idx in df.groupby(['name'])['ovr'].groups.items()]\n",
    "    df['index'] = df.index\n",
    "    df['full'] = df['index'].apply(lambda x: 1 if x in indices else 0)\n",
    "\n",
    "    df.to_csv(f'{date}_{goal_program}.csv')\n",
    "    \n",
    "    return df"
   ]
  },
  {
   "cell_type": "code",
   "execution_count": 2,
   "metadata": {
    "collapsed": true
   },
   "outputs": [],
   "source": []
  },
  {
   "cell_type": "code",
   "execution_count": 7,
   "metadata": {
    "collapsed": true
   },
   "outputs": [],
   "source": [
    "# Pages of players, TODO: lazy! make it better\n",
    "pages_map = {'L': 16, 'UL': 9, 'Ghosts': 1, 'SBP': 1, 'Gauntlet': 1} \n",
    "# Legend: 227, UL: 265\n",
    "link_map = {'L': 227, 'UL': 265, 'Ghosts': 256, 'SBP': 262, 'Gauntlet': 224}\n",
    "\n",
    "# INPUTS\n",
    "goal_program = 'L'\n",
    "date = 'apr27'\n",
    "\n",
    "df = get_and_save_player_dates(goal_program=goal_program, date='apr27')"
   ]
  },
  {
   "cell_type": "code",
   "execution_count": 8,
   "metadata": {},
   "outputs": [
    {
     "data": {
      "text/html": [
       "<div>\n",
       "<style scoped>\n",
       "    .dataframe tbody tr th:only-of-type {\n",
       "        vertical-align: middle;\n",
       "    }\n",
       "\n",
       "    .dataframe tbody tr th {\n",
       "        vertical-align: top;\n",
       "    }\n",
       "\n",
       "    .dataframe thead th {\n",
       "        text-align: right;\n",
       "    }\n",
       "</style>\n",
       "<table border=\"1\" class=\"dataframe\">\n",
       "  <thead>\n",
       "    <tr style=\"text-align: right;\">\n",
       "      <th></th>\n",
       "      <th>date</th>\n",
       "      <th>link</th>\n",
       "      <th>name</th>\n",
       "      <th>ovr</th>\n",
       "      <th>pos</th>\n",
       "      <th>program</th>\n",
       "      <th>date_dtype</th>\n",
       "      <th>dated</th>\n",
       "      <th>full</th>\n",
       "      <th>index</th>\n",
       "    </tr>\n",
       "  </thead>\n",
       "  <tbody>\n",
       "    <tr>\n",
       "      <th>0</th>\n",
       "      <td>[2019, 0, 26]</td>\n",
       "      <td>https://www.muthead.com/19/players/prices/5238...</td>\n",
       "      <td>Tedy Bruschi</td>\n",
       "      <td>96</td>\n",
       "      <td>MLB</td>\n",
       "      <td>Legends</td>\n",
       "      <td>&lt;class 'int'&gt;</td>\n",
       "      <td>1</td>\n",
       "      <td>1</td>\n",
       "      <td>0</td>\n",
       "    </tr>\n",
       "    <tr>\n",
       "      <th>1</th>\n",
       "      <td>[2019, 0, 26]</td>\n",
       "      <td>https://www.muthead.com/19/players/prices/5237...</td>\n",
       "      <td>Kam Chancellor</td>\n",
       "      <td>96</td>\n",
       "      <td>SS</td>\n",
       "      <td>Legends</td>\n",
       "      <td>&lt;class 'int'&gt;</td>\n",
       "      <td>1</td>\n",
       "      <td>1</td>\n",
       "      <td>1</td>\n",
       "    </tr>\n",
       "    <tr>\n",
       "      <th>2</th>\n",
       "      <td>[2019, 0, 26]</td>\n",
       "      <td>https://www.muthead.com/19/players/prices/5237...</td>\n",
       "      <td>Larry Fitzgerald</td>\n",
       "      <td>96</td>\n",
       "      <td>WR</td>\n",
       "      <td>Legends</td>\n",
       "      <td>&lt;class 'int'&gt;</td>\n",
       "      <td>1</td>\n",
       "      <td>1</td>\n",
       "      <td>2</td>\n",
       "    </tr>\n",
       "    <tr>\n",
       "      <th>3</th>\n",
       "      <td>[2019, 0, 12]</td>\n",
       "      <td>https://www.muthead.com/19/players/prices/5235...</td>\n",
       "      <td>Chris Johnson</td>\n",
       "      <td>96</td>\n",
       "      <td>HB</td>\n",
       "      <td>Legends</td>\n",
       "      <td>&lt;class 'int'&gt;</td>\n",
       "      <td>1</td>\n",
       "      <td>1</td>\n",
       "      <td>3</td>\n",
       "    </tr>\n",
       "    <tr>\n",
       "      <th>4</th>\n",
       "      <td>[2019, 0, 19]</td>\n",
       "      <td>https://www.muthead.com/19/players/prices/5237...</td>\n",
       "      <td>Ed Too Tall Jones</td>\n",
       "      <td>96</td>\n",
       "      <td>LE</td>\n",
       "      <td>Legends</td>\n",
       "      <td>&lt;class 'int'&gt;</td>\n",
       "      <td>1</td>\n",
       "      <td>1</td>\n",
       "      <td>4</td>\n",
       "    </tr>\n",
       "  </tbody>\n",
       "</table>\n",
       "</div>"
      ],
      "text/plain": [
       "            date                                               link  \\\n",
       "0  [2019, 0, 26]  https://www.muthead.com/19/players/prices/5238...   \n",
       "1  [2019, 0, 26]  https://www.muthead.com/19/players/prices/5237...   \n",
       "2  [2019, 0, 26]  https://www.muthead.com/19/players/prices/5237...   \n",
       "3  [2019, 0, 12]  https://www.muthead.com/19/players/prices/5235...   \n",
       "4  [2019, 0, 19]  https://www.muthead.com/19/players/prices/5237...   \n",
       "\n",
       "                name  ovr  pos  program     date_dtype  dated  full  index  \n",
       "0       Tedy Bruschi   96  MLB  Legends  <class 'int'>      1     1      0  \n",
       "1     Kam Chancellor   96   SS  Legends  <class 'int'>      1     1      1  \n",
       "2   Larry Fitzgerald   96   WR  Legends  <class 'int'>      1     1      2  \n",
       "3      Chris Johnson   96   HB  Legends  <class 'int'>      1     1      3  \n",
       "4  Ed Too Tall Jones   96   LE  Legends  <class 'int'>      1     1      4  "
      ]
     },
     "execution_count": 8,
     "metadata": {},
     "output_type": "execute_result"
    }
   ],
   "source": [
    "df.head()"
   ]
  },
  {
   "cell_type": "code",
   "execution_count": 9,
   "metadata": {},
   "outputs": [
    {
     "data": {
      "text/plain": [
       "1    84\n",
       "Name: dated, dtype: int64"
      ]
     },
     "execution_count": 9,
     "metadata": {},
     "output_type": "execute_result"
    }
   ],
   "source": [
    "full = df[ df['full']==1]\n",
    "full['dated'].value_counts()"
   ]
  },
  {
   "cell_type": "code",
   "execution_count": null,
   "metadata": {
    "collapsed": true
   },
   "outputs": [],
   "source": []
  },
  {
   "cell_type": "code",
   "execution_count": 11,
   "metadata": {
    "collapsed": true
   },
   "outputs": [],
   "source": [
    "full.to_csv('april27_full_legend.csv')"
   ]
  },
  {
   "cell_type": "code",
   "execution_count": null,
   "metadata": {
    "collapsed": true
   },
   "outputs": [],
   "source": []
  },
  {
   "cell_type": "code",
   "execution_count": null,
   "metadata": {
    "collapsed": true
   },
   "outputs": [],
   "source": []
  }
 ],
 "metadata": {
  "kernelspec": {
   "display_name": "Python 3",
   "language": "python",
   "name": "python3"
  },
  "language_info": {
   "codemirror_mode": {
    "name": "ipython",
    "version": 3
   },
   "file_extension": ".py",
   "mimetype": "text/x-python",
   "name": "python",
   "nbconvert_exporter": "python",
   "pygments_lexer": "ipython3",
   "version": "3.6.3"
  }
 },
 "nbformat": 4,
 "nbformat_minor": 2
}
