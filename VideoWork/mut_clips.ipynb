{
 "cells": [
  {
   "cell_type": "markdown",
   "metadata": {},
   "source": [
    "# Taking frames from video clips using CV2\n",
    "\n",
    "##### Matthew Johnson, 2019\n",
    "\n",
    "\n",
    "TODO:\n",
    "- Cropping:\n",
    "    - Top piece - Classify as H2H, Squads, or Solo.\n",
    "    - Bottom piece - Classify as Verticals, WR Post, HB Pitch, Fake FG, etc."
   ]
  },
  {
   "cell_type": "code",
   "execution_count": 75,
   "metadata": {},
   "outputs": [],
   "source": [
    "import cv2\n",
    "import os\n",
    "import pandas as pd\n",
    "\n",
    "\n",
    "save_path = 'saved_frames'\n",
    "if not os.path.isdir(save_path):\n",
    "    os.mkdir(save_path)\n",
    "\n",
    "\n",
    "def extract_final_frame(video_file):\n",
    "    \n",
    "    folder_path = '/Volumes/PS4 MyPassp/PS4/SHARE/Video Clips/Madden NFL 19'\n",
    "    #video_file = 'Madden NFL 19_20190202233415.mp4'\n",
    "    video_path = os.path.join(folder_path, video_file)\n",
    "\n",
    "    # Opens the Video file\n",
    "    cap= cv2.VideoCapture(video_path)\n",
    "    i=0\n",
    "    frame_holder = None\n",
    "    \n",
    "    while(cap.isOpened()):\n",
    "        ret, frame = cap.read()\n",
    "        \n",
    "        if ret:\n",
    "            frame_holder = frame  \n",
    "        else:\n",
    "            break    \n",
    "        i+=1\n",
    "\n",
    "    save_prefix = video_file.rstrip('.mp4')\n",
    "    save_filename = f'{save_path}/{save_prefix}-frame{i}.jpg'\n",
    "    cv2.imwrite(save_filename, frame_holder)\n",
    "    cap.release()\n",
    "    cv2.destroyAllWindows()\n",
    "    \n",
    "    # \n",
    "    suffix = video_file.rstrip('.mp4').split('_')[-1]\n",
    "    entry = {'video_file': video_file,\n",
    "              'cap_file': save_filename,\n",
    "              'date': suffix\n",
    "             }\n",
    "    return entry\n",
    "\n",
    "\n",
    "def get_todo_filenames():\n",
    "    \n",
    "    clip_file = 'all_clip_names.csv'\n",
    "    if os.path.isfile(clip_file):\n",
    "        all_clips = pd.read_csv(clip_file)\n",
    "        todo_files = all_clips[ all_clips['capped'] == 0]['filename'].values\n",
    "    else:\n",
    "        source_path = '/Volumes/PS4 MyPassp/PS4/SHARE/Video Clips/Madden NFL 19'\n",
    "        todo_files = [f for f in os.listdir(source_path) if f.endswith('.mp4')]\n",
    "        \n",
    "    return todo_files\n",
    "\n",
    "\n",
    "def combined_dataframes(new_df):\n",
    "    old_df = pd.read_csv('all_clip_names.csv')\n",
    "    old_df = old_df[ old_df['capped'] == 1]\n",
    "    \n",
    "    cdf = pd.concat([old_df, new_df], axis=0)\n",
    "    # rename when confirmed working\n",
    "    cdf.to_csv('all_clip_names_TEST.csv')"
   ]
  },
  {
   "cell_type": "markdown",
   "metadata": {},
   "source": [
    "# ..."
   ]
  },
  {
   "cell_type": "code",
   "execution_count": 76,
   "metadata": {},
   "outputs": [],
   "source": [
    "#\n",
    "save_name = 'may19_capped_videos'\n",
    "\n",
    "filenames = get_todo_filenames()\n",
    "stop_idx = min(100, len(filenames))\n",
    "print(f'{len(filenames)} video files available...')\n",
    "data_entries = [extract_final_frame(file) for file in filenames[:stop_idx]]\n",
    "df = pd.DataFrame(data_entries)\n",
    "\n",
    "if not os.path.isfile(save_name):\n",
    "    df.to_csv(save_name + '.csv')\n",
    "else: \n",
    "    for i in range(100):\n",
    "        if not os.path.isfile(save_name + f'_{i}.csv')\n",
    "            df.to_csv(save_name + f'_{i}.csv')\n",
    "            break\n",
    "#\n",
    "df2 = pd.DataFrame({'filename': filenames})\n",
    "df2['date'] = df2['filename'].str.split('Madden NFL 19_').apply(lambda x: x[1]).str[:8]\n",
    "df2['date'] = pd.to_datetime(df2['date'], format='%Y%m%d', errors='coerce')\n",
    "df2['capped'] = df2['filename'].apply(lambda x: x in df['video_file'].values)*1\n",
    "df2.sort_values('date', ascending=False, inplace=True)\n",
    "df2.reset_index(drop=True, inplace=True)"
   ]
  },
  {
   "cell_type": "code",
   "execution_count": 78,
   "metadata": {},
   "outputs": [],
   "source": []
  },
  {
   "cell_type": "code",
   "execution_count": 66,
   "metadata": {
    "collapsed": true
   },
   "outputs": [],
   "source": []
  },
  {
   "cell_type": "code",
   "execution_count": null,
   "metadata": {},
   "outputs": [],
   "source": []
  },
  {
   "cell_type": "code",
   "execution_count": null,
   "metadata": {
    "collapsed": true
   },
   "outputs": [],
   "source": []
  }
 ],
 "metadata": {
  "kernelspec": {
   "display_name": "Python 3",
   "language": "python",
   "name": "python3"
  },
  "language_info": {
   "codemirror_mode": {
    "name": "ipython",
    "version": 3
   },
   "file_extension": ".py",
   "mimetype": "text/x-python",
   "name": "python",
   "nbconvert_exporter": "python",
   "pygments_lexer": "ipython3",
   "version": "3.6.3"
  }
 },
 "nbformat": 4,
 "nbformat_minor": 2
}
