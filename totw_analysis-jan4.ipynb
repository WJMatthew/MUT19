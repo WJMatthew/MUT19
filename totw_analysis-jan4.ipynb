{
 "cells": [
  {
   "cell_type": "markdown",
   "metadata": {},
   "source": [
    "# MUT19 TOTW Analysis\n",
    "### Jan 4, 2019\n",
    "- Scraping using BeautifulSoup and requests\n",
    "- Looking at the number of elite and gold TOTW Players compared with the respective team records"
   ]
  },
  {
   "cell_type": "code",
   "execution_count": 1,
   "metadata": {
    "collapsed": true
   },
   "outputs": [],
   "source": [
    "%matplotlib inline\n",
    "from bs4 import BeautifulSoup\n",
    "import matplotlib.pyplot as plt \n",
    "import seaborn as sns\n",
    "import urllib\n",
    "import pandas as pd\n",
    "import requests\n",
    "import warnings; warnings.simplefilter('ignore')  \n",
    "import time\n",
    "import re\n",
    "import os"
   ]
  },
  {
   "cell_type": "markdown",
   "metadata": {
    "collapsed": true
   },
   "source": [
    "### Helper Functions"
   ]
  },
  {
   "cell_type": "code",
   "execution_count": 2,
   "metadata": {
    "collapsed": true
   },
   "outputs": [],
   "source": [
    "# \n",
    "def get_player(player_raw):\n",
    "    try:\n",
    "        player_team = str(player_raw.find('span', class_='team-logo')).split(' ')[2].split('\"')[0]\n",
    "    except:\n",
    "        player_team = '-'\n",
    "    try:\n",
    "        player_name = player_raw.find('a').contents[0].strip('\\n').lstrip().split('\\n')[0]\n",
    "        print(player_name)\n",
    "    except:\n",
    "        player_name = '-'\n",
    "    try:\n",
    "        price_link = str(player_raw.find('a', class_='player-price tip')).split('\"')[3]\n",
    "    except:\n",
    "        price_link = '-'\n",
    "    try:\n",
    "        ovr = player_raw.find('td', class_='col-overall').contents[0]\n",
    "    except: \n",
    "        ovr = '-'\n",
    "    try:\n",
    "        pos = player_raw.find('td', class_='col-position').contents[0]\n",
    "    except:\n",
    "        pos = '-'\n",
    "    \n",
    "    return {'name': player_name,\n",
    "            'team': player_team,\n",
    "            'ovr': ovr,\n",
    "            'pos': pos,\n",
    "            'price_link': price_link}\n",
    "\n",
    "# \n",
    "def list_to_df(players):\n",
    "    df = pd.DataFrame(players)\n",
    "    df = df[ df['name']!='-']\n",
    "    df['team'] = df['team'].str.upper()\n",
    "    df['ovr'] = df['ovr'].astype(int)\n",
    "    return df\n",
    "\n",
    "# \n",
    "def get_players(tier, start=1, n_pages=1):\n",
    "    players = []\n",
    "    \n",
    "    for i in range(start, n_pages + 1):\n",
    "        try:\n",
    "            tier_num = {'e': 16, 'g': 8}\n",
    "            prefix = 'https://www.muthead.com/19'\n",
    "            suffix = f'players?filter-market=3&filter-program-19=243&filter-tier={tier_num[tier.lower()]}&page={i}'\n",
    "            url = os.path.join(prefix, suffix)\n",
    "        \n",
    "            print('url', url)\n",
    "            response = requests.get(url)\n",
    "            soup = BeautifulSoup(response.text, 'lxml')\n",
    "            table = soup.find('table')\n",
    "            for j in range(1, len(table.find('tbody').contents)):\n",
    "                time.sleep(2)\n",
    "                player_raw = table.find('tbody').contents[j]\n",
    "                players.append(get_player(player_raw))\n",
    "        except ConnectionError:\n",
    "            print('connection error', url, 'i:', i)\n",
    "            return list_to_df(players)\n",
    "    return list_to_df(players)"
   ]
  },
  {
   "cell_type": "code",
   "execution_count": 36,
   "metadata": {
    "collapsed": true
   },
   "outputs": [],
   "source": [
    "#def set_palette(self):\n",
    "team_palette = {'PHI': 'xkcd:green', 'NE': 'darkblue', 'NO': 'gold', 'GB': 'green', 'MIN': 'xkcd:purple',\n",
    "                     'WAS': 'maroon', 'TEN': 'cyan', 'TB': 'xkcd:crimson', 'SEA': 'chartreuse',\n",
    "                     'LAC': 'xkcd:azure', 'ATL': 'xkcd:red', 'BAL': 'indigo', 'LA': 'xkcd:khaki',\n",
    "                     'KC': 'red', 'NYJ': 'darkgreen', 'JAX': 'xkcd:darkgreen', 'OAK': 'grey',\n",
    "                     'BUF': 'xkcd:blue', 'CAR': 'aqua', 'CLE': 'chocolate', 'PIT': 'xkcd:yellow', 'NYG': 'blue',\n",
    "                     'SF': 'xkcd:gold', 'CHI': 'xkcd:orange', 'DAL': 'xkcd:darkblue', 'MIA': 'xkcd:aqua',\n",
    "                     'DEN': 'xkcd:orangered', 'HOU': 'xkcd:navy', 'ARI': 'xkcd:red', 'CIN': 'xkcd:orange',\n",
    "                     'DET': 'xkcd:lightblue', 'IND': 'xkcd:azure'}"
   ]
  },
  {
   "cell_type": "markdown",
   "metadata": {},
   "source": [
    "**Need: number of pages for each page:**\n",
    "- elite: https://www.muthead.com/19/players?filter-market=3&filter-program-19=243&filter-tier=16&page=1\n",
    "- gold: https://www.muthead.com/19/players?filter-market=3&filter-program-19=243&filter-tier=8&page=1\n",
    "\n",
    "TODO:\n",
    "- better way to do this without specifying pages"
   ]
  },
  {
   "cell_type": "code",
   "execution_count": 3,
   "metadata": {
    "collapsed": true
   },
   "outputs": [],
   "source": [
    "elite_pages = 8\n",
    "gold_pages = 3\n",
    "date = 'jan4'"
   ]
  },
  {
   "cell_type": "markdown",
   "metadata": {},
   "source": [
    "### Elite"
   ]
  },
  {
   "cell_type": "code",
   "execution_count": 4,
   "metadata": {
    "collapsed": true
   },
   "outputs": [
    {
     "name": "stdout",
     "output_type": "stream",
     "text": [
      "url https://www.muthead.com/19/players?filter-market=3&filter-program-19=243&filter-tier=16&page=1\n",
      "Justin Houston\n",
      "Michael Thomas\n",
      "Amari Cooper\n",
      "Zach Ertz\n",
      "DeMarcus Lawrence\n",
      "Khalil Mack\n",
      "Bobby Wagner\n",
      "Keenan Allen\n",
      "Anthony Barr\n",
      "Derrick Henry\n",
      "T.Y. Hilton\n",
      "Malcolm Jenkins\n",
      "Josh Allen\n",
      "Adrian Amos\n",
      "Jared Goff\n",
      "Melvin Gordon\n",
      "Darius Leonard\n",
      "Cam Newton\n",
      "Calvin Ridley\n",
      "Jaylon Smith\n",
      "Jimmy Smith\n",
      "Geno Atkins\n",
      "DeForest Buckner\n",
      "Kirk Cousins\n",
      "Kyle Fuller\n",
      "url https://www.muthead.com/19/players?filter-market=3&filter-program-19=243&filter-tier=16&page=2\n",
      "Akiem Hicks\n",
      "Matthew Judon\n",
      "George Kittle\n",
      "Marlon Mack\n",
      "Devin McCourty\n",
      "Alec Ogletree\n",
      "Dak Prescott\n",
      "Robert Woods\n",
      "James Conner\n",
      "Danielle Hunter\n",
      "Aaron Jones\n",
      "Whitney Mercilus\n",
      "Josh Norman\n",
      "Adrian Peterson\n",
      "Sheldon Rankins\n",
      "Matt Ryan\n",
      "James White\n",
      "Wesley Woodyard\n",
      "Kevin Byard\n",
      "Brandin Cooks\n",
      "Micah Hyde\n",
      "Melvin Ingram\n",
      "Myles Jack\n",
      "Patrick Mahomes\n",
      "Christian McCaffrey\n",
      "url https://www.muthead.com/19/players?filter-market=3&filter-program-19=243&filter-tier=16&page=3\n",
      "Emmanuel Sanders\n",
      "Adam Thielen\n",
      "T.J. Watt\n",
      "Tyreek Hill\n",
      "Terrell Suggs\n",
      "Nelson Agholor\n",
      "Damontae Kazee\n",
      "Brian Poole\n",
      "Kyle Rudolph\n",
      "Lorenzo Alexander\n",
      "C.J. Anderson\n",
      "Dalvin Cook\n",
      "Jared Cook\n",
      "Amari Cooper\n",
      "Kyle Fuller\n",
      "Bruce Irvin\n",
      "Eric Kendricks\n",
      "Phillip Lindsay\n",
      "Damarious Randall\n",
      "Jarran Reed\n",
      "Justin Reid\n",
      "Kenny Stills\n",
      "Jamaal Williams\n",
      "Josh Allen\n",
      "Jamie Collins Sr\n",
      "url https://www.muthead.com/19/players?filter-market=3&filter-program-19=243&filter-tier=16&page=4\n",
      "Samson Ebukam\n",
      "Leonard Floyd\n",
      "Chris Godwin\n",
      "Jordan Hicks\n",
      "John Johnson III\n",
      "George Kittle\n",
      "Sony Michel\n",
      "Matt Milano\n",
      "Dak Prescott\n",
      "Philip Rivers\n",
      "Allen Robinson\n",
      "Tre'quan Smith\n",
      "D.J. Swearinger\n",
      "Olivier Vernon\n",
      "Spencer Ware\n",
      "Sammy Watkins\n",
      "Tahir Whitehead\n",
      "Kyle Williams\n",
      "Mario Addison\n",
      "Prince Amukamara\n",
      "Nick Chubb\n",
      "Frank Clark\n",
      "Randall Cobb\n",
      "James Conner\n",
      "Jared Goff\n",
      "url https://www.muthead.com/19/players?filter-market=3&filter-program-19=243&filter-tier=16&page=5\n",
      "DeSean Jackson\n",
      "Kerryon Johnson\n",
      "Chandler Jones\n",
      "Joe Mixon\n",
      "Latavius Murray\n",
      "Julius Peppers\n",
      "Eric Reid\n",
      "Calvin Ridley\n",
      "Mitchell Trubisky\n",
      "T.J. Watt\n",
      "Trevor Williams\n",
      "Vince Williams\n",
      "Wesley Woodyard\n",
      "Ricardo Allen\n",
      "Robby Anderson\n",
      "Jared Cook\n",
      "Andy Dalton\n",
      "Quandre Diggs\n",
      "Kyler Fackrell\n",
      "Ryan Fitzpatrick\n",
      "Xavien Howard\n",
      "Carlos Hyde\n",
      "Zay Jones\n",
      "Blake Martinez\n",
      "Christian McCaffrey\n"
     ]
    }
   ],
   "source": [
    "elitesA = get_players(tier='e', start=1, n_pages=5)\n",
    "elitesA.to_csv(f'totw_elite_a_{date}.csv')"
   ]
  },
  {
   "cell_type": "code",
   "execution_count": 5,
   "metadata": {
    "collapsed": true
   },
   "outputs": [
    {
     "name": "stdout",
     "output_type": "stream",
     "text": [
      "url https://www.muthead.com/19/players?filter-market=3&filter-program-19=243&filter-tier=16&page=6\n",
      "Joe Schobert\n",
      "JuJu Smith-Schuster\n",
      "Darren Sproles\n",
      "Denzel Ward\n",
      "Briean Boddy-Calhoun\n",
      "Jayon Brown\n",
      "Chris Conley\n",
      "Darqueze Dennard\n",
      "Kenyan Drake\n",
      "Marcus Gilchrist\n",
      "D.J. Hayden\n",
      "Karl Joseph\n",
      "Carl Lawson\n",
      "Josh Reynolds\n",
      "Curtis Riley\n",
      "Sterling Shepard\n",
      "Preston Smith\n",
      "Ryan Tannehill\n",
      "Damien Williams\n",
      "Jameis Winston\n",
      "Andrew Adams\n",
      "Josh Allen\n",
      "Peyton Barber\n",
      "Tyrone Crawford\n",
      "Dee Ford\n",
      "url https://www.muthead.com/19/players?filter-market=3&filter-program-19=243&filter-tier=16&page=7\n",
      "Javon Hargrave\n",
      "Austin Hooper\n",
      "Duke Johnson Jr\n",
      "Desmond King\n",
      "Tyquan Lewis\n",
      "Vance McDonald\n",
      "Dante Pettis\n",
      "D.J. Reed\n",
      "Josh Rosen\n",
      "Jaylen Samuels\n",
      "Jaylon Smith\n",
      "Roquan Smith\n",
      "Courtland Sutton\n",
      "Trae Waynes\n",
      "Tyrell Williams\n",
      "Mike Adams\n",
      "Cole Beasley\n",
      "Brandon Carr\n",
      "Morris Claiborne\n",
      "Keelan Cole\n",
      "Isaiah Crowell\n",
      "Dante Fowler Jr\n",
      "Eddie Jackson\n",
      "Derwin James\n",
      "T.J. Jones\n",
      "url https://www.muthead.com/19/players?filter-market=3&filter-program-19=243&filter-tier=16&page=8\n",
      "Phillip Lindsay\n",
      "Tyler Lockett\n",
      "Marlon Mack\n",
      "Steven Nelson\n",
      "Patrick Onwuasor\n",
      "Adrian Peterson\n",
      "Jarran Reed\n",
      "Calvin Ridley\n",
      "Curtis Samuel\n",
      "Daniel Sorensen\n",
      "M. Valdes-Scantling\n",
      "Kyle Van Noy\n",
      "P.J. Williams\n",
      "T.J. Yeldon\n",
      "Mark Andrews\n",
      "Denico Autry\n",
      "Chris Banjo\n",
      "Matt Breida\n",
      "Anthony Brown\n",
      "Jaron Brown\n",
      "John Brown\n",
      "Josh Bynes\n",
      "Garrett Celek\n",
      "Gareon Conley\n",
      "Phillip Dorsett\n"
     ]
    }
   ],
   "source": [
    "elitesB = get_players(tier='e', start=6, n_pages=elite_pages)\n",
    "elitesB.to_csv(f'totw_elite_b_{date}.csv')"
   ]
  },
  {
   "cell_type": "code",
   "execution_count": 6,
   "metadata": {
    "collapsed": true
   },
   "outputs": [],
   "source": [
    "elites = pd.concat([elitesA, elitesB])\n",
    "elites.to_csv(f'totw_elite_{date}.csv')"
   ]
  },
  {
   "cell_type": "code",
   "execution_count": null,
   "metadata": {
    "collapsed": true
   },
   "outputs": [],
   "source": []
  },
  {
   "cell_type": "code",
   "execution_count": 43,
   "metadata": {},
   "outputs": [
    {
     "data": {
      "image/png": "[encoded data removed]",
      "text/plain": [
       "<Figure size 1080x360 with 1 Axes>"
      ]
     },
     "metadata": {},
     "output_type": "display_data"
    }
   ],
   "source": [
    "plt.figure(figsize=(15, 5))\n",
    "sns.countplot(elites['team'], palette=team_palette);\n",
    "plt.title('Count of Elite TOTW Players per Team');"
   ]
  },
  {
   "cell_type": "markdown",
   "metadata": {},
   "source": [
    "### Gold"
   ]
  },
  {
   "cell_type": "code",
   "execution_count": 8,
   "metadata": {
    "collapsed": true
   },
   "outputs": [],
   "source": [
    "#golds = get_players('g', n_pages=gold_pages)\n",
    "#golds.to_csv(f'totw_gold_{date}.csv')"
   ]
  },
  {
   "cell_type": "code",
   "execution_count": 11,
   "metadata": {},
   "outputs": [],
   "source": [
    "golds = pd.read_csv('totw_gold_jan2.csv')\n",
    "df = pd.concat([elites, golds])"
   ]
  },
  {
   "cell_type": "code",
   "execution_count": 44,
   "metadata": {},
   "outputs": [
    {
     "data": {
      "image/png": "[encoded data removed]",
      "text/plain": [
       "<Figure size 1080x360 with 1 Axes>"
      ]
     },
     "metadata": {},
     "output_type": "display_data"
    }
   ],
   "source": [
    "plt.figure(figsize=(15, 5))\n",
    "sns.countplot(golds['team'], palette=team_palette);\n",
    "plt.title('Count of Gold TOTW Players per Team');"
   ]
  },
  {
   "cell_type": "markdown",
   "metadata": {},
   "source": [
    "### All TOTW Players"
   ]
  },
  {
   "cell_type": "code",
   "execution_count": 45,
   "metadata": {},
   "outputs": [
    {
     "data": {
      "image/png": "[encoded data removed]",
      "text/plain": [
       "<Figure size 1080x360 with 1 Axes>"
      ]
     },
     "metadata": {},
     "output_type": "display_data"
    }
   ],
   "source": [
    "plt.figure(figsize=(15, 5))\n",
    "sns.countplot(df['team'], palette=team_palette);\n",
    "plt.title('Count of All TOTW Players per Team');"
   ]
  },
  {
   "cell_type": "markdown",
   "metadata": {},
   "source": [
    "## NFL Standings"
   ]
  },
  {
   "cell_type": "code",
   "execution_count": 13,
   "metadata": {
    "collapsed": true
   },
   "outputs": [],
   "source": [
    "afc_path = '/Users/mattjohnson/PycharmProjects/MUT19/afc_standings.csv'\n",
    "nfc_path = '/Users/mattjohnson/PycharmProjects/MUT19/nfc_standings.csv'\n",
    "afc = pd.read_csv(afc_path)\n",
    "nfc = pd.read_csv(nfc_path)\n",
    "standings = pd.concat([afc, nfc])"
   ]
  },
  {
   "cell_type": "code",
   "execution_count": 14,
   "metadata": {
    "collapsed": true
   },
   "outputs": [],
   "source": [
    "#standings.sort_values('W', ascending=False)\n",
    "teams = pd.read_csv('nfl_teams.csv')\n",
    "teams.set_index('Name', drop=True, inplace=True)\n",
    "team_dict = teams['Abbreviation'].to_dict()\n",
    "\n",
    "standings['abbrev'] = standings['Tm'].map(team_dict)"
   ]
  },
  {
   "cell_type": "code",
   "execution_count": 15,
   "metadata": {},
   "outputs": [
    {
     "name": "stdout",
     "output_type": "stream",
     "text": [
      "32 - 32\n"
     ]
    },
    {
     "data": {
      "text/plain": [
       "True"
      ]
     },
     "execution_count": 15,
     "metadata": {},
     "output_type": "execute_result"
    }
   ],
   "source": [
    "#\n",
    "abbrevs1 = set(df['team'].unique())\n",
    "abbrevs2 = set(standings['abbrev'].unique())\n",
    "print(len(abbrevs1), '-', len(abbrevs2))\n",
    "abbrevs1 == abbrevs2"
   ]
  },
  {
   "cell_type": "code",
   "execution_count": 16,
   "metadata": {
    "collapsed": true
   },
   "outputs": [],
   "source": [
    "team_count_dict = df['team'].value_counts().to_dict()"
   ]
  },
  {
   "cell_type": "code",
   "execution_count": 17,
   "metadata": {
    "collapsed": true
   },
   "outputs": [],
   "source": [
    "standings['count'] = standings['abbrev'].map(team_count_dict)"
   ]
  },
  {
   "cell_type": "code",
   "execution_count": 18,
   "metadata": {
    "collapsed": true
   },
   "outputs": [],
   "source": [
    "all_df = standings[['Tm', 'W', 'PF', 'PA', 'PD', 'abbrev', 'count']]\n",
    "all_df.sort_values('W', ascending=False, inplace=True)"
   ]
  },
  {
   "cell_type": "code",
   "execution_count": 19,
   "metadata": {
    "collapsed": true
   },
   "outputs": [],
   "source": [
    "def tidy(df):\n",
    "    try:\n",
    "        df = df[['abbrev', 'W', 'count']]\n",
    "    except:\n",
    "        print('xx')\n",
    "        return []\n",
    "    if len(df.columns) != 3:\n",
    "        print('x')\n",
    "        return []\n",
    "    tidy = (\n",
    "    df.set_index('abbrev')\n",
    "      .stack()  # un-pivots the data \n",
    "      .reset_index()  # moves all data out of the index\n",
    "      .rename(columns={'level_1': 'Variable', 0: 'Value'})\n",
    "    )\n",
    "    return tidy"
   ]
  },
  {
   "cell_type": "code",
   "execution_count": null,
   "metadata": {
    "collapsed": true
   },
   "outputs": [],
   "source": []
  },
  {
   "cell_type": "code",
   "execution_count": 20,
   "metadata": {
    "collapsed": true
   },
   "outputs": [],
   "source": [
    "tidied = tidy(all_df)"
   ]
  },
  {
   "cell_type": "code",
   "execution_count": 22,
   "metadata": {},
   "outputs": [
    {
     "data": {
      "image/png": "[encoded data removed]",
      "text/plain": [
       "<Figure size 1080x360 with 1 Axes>"
      ]
     },
     "metadata": {},
     "output_type": "display_data"
    }
   ],
   "source": [
    "plt.figure(figsize=(15, 5))\n",
    "sns.barplot(data=tidied, x='abbrev', y='Value', hue='Variable');"
   ]
  },
  {
   "cell_type": "code",
   "execution_count": null,
   "metadata": {
    "collapsed": true
   },
   "outputs": [],
   "source": []
  },
  {
   "cell_type": "markdown",
   "metadata": {},
   "source": [
    "W: Wins, PF: Points For, PA: Points Against, PD: Net Points, count: number of TOTW players in season"
   ]
  },
  {
   "cell_type": "code",
   "execution_count": 33,
   "metadata": {},
   "outputs": [
    {
     "data": {
      "image/png": "[encoded data removed]",
      "text/plain": [
       "<Figure size 432x288 with 2 Axes>"
      ]
     },
     "metadata": {},
     "output_type": "display_data"
    }
   ],
   "source": [
    "sns.heatmap(all_df.corr(), annot=True);"
   ]
  },
  {
   "cell_type": "code",
   "execution_count": 35,
   "metadata": {},
   "outputs": [
    {
     "data": {
      "text/plain": [
       "12    143\n",
       "8     151\n",
       "4     138\n",
       "13     99\n",
       "12    144\n",
       "0     111\n",
       "8      86\n",
       "9      89\n",
       "13     81\n",
       "0      15\n",
       "4     102\n",
       "10      7\n",
       "1      19\n",
       "5      68\n",
       "5      19\n",
       "2     -78\n",
       "6     -33\n",
       "1    -114\n",
       "9      -6\n",
       "10     -9\n",
       "7     -36\n",
       "2    -105\n",
       "14    -20\n",
       "6     -24\n",
       "7     -87\n",
       "3     -43\n",
       "11    -71\n",
       "11    -68\n",
       "14    -93\n",
       "15   -177\n",
       "3    -108\n",
       "15   -200\n",
       "dtype: int64"
      ]
     },
     "execution_count": 35,
     "metadata": {},
     "output_type": "execute_result"
    }
   ],
   "source": []
  },
  {
   "cell_type": "code",
   "execution_count": null,
   "metadata": {
    "collapsed": true
   },
   "outputs": [],
   "source": []
  }
 ],
 "metadata": {
  "kernelspec": {
   "display_name": "Python 3",
   "language": "python",
   "name": "python3"
  },
  "language_info": {
   "codemirror_mode": {
    "name": "ipython",
    "version": 3
   },
   "file_extension": ".py",
   "mimetype": "text/x-python",
   "name": "python",
   "nbconvert_exporter": "python",
   "pygments_lexer": "ipython3",
   "version": "3.6.3"
  }
 },
 "nbformat": 4,
 "nbformat_minor": 2
}
