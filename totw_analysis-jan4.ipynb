{
 "cells": [
  {
   "cell_type": "markdown",
   "metadata": {},
   "source": [
    "# MUT19 TOTW Analysis\n",
    "### Jan 4, 2019\n",
    "- Scraping using BeautifulSoup and requests\n",
    "- Looking at the number of elite and gold TOTW Players compared with the respective team records\n",
    "\n",
    "TODO:\n",
    "- filter by offense/defense\n",
    "- add some annotations to plots for clarity"
   ]
  },
  {
   "cell_type": "code",
   "execution_count": 1,
   "metadata": {
    "collapsed": true
   },
   "outputs": [],
   "source": [
    "%matplotlib inline\n",
    "from bs4 import BeautifulSoup\n",
    "import matplotlib.pyplot as plt \n",
    "import seaborn as sns\n",
    "import urllib\n",
    "import pandas as pd\n",
    "import requests\n",
    "import warnings; warnings.simplefilter('ignore')  \n",
    "import time\n",
    "import re\n",
    "import os"
   ]
  },
  {
   "cell_type": "markdown",
   "metadata": {
    "collapsed": true
   },
   "source": [
    "### Helper Functions"
   ]
  },
  {
   "cell_type": "code",
   "execution_count": 2,
   "metadata": {
    "collapsed": true
   },
   "outputs": [],
   "source": [
    "# \n",
    "def get_player(player_raw):\n",
    "    try:\n",
    "        player_team = str(player_raw.find('span', class_='team-logo')).split(' ')[2].split('\"')[0]\n",
    "    except:\n",
    "        player_team = '-'\n",
    "    try:\n",
    "        player_name = player_raw.find('a').contents[0].strip('\\n').lstrip().split('\\n')[0]\n",
    "        #print(player_name)\n",
    "    except:\n",
    "        player_name = '-'\n",
    "    try:\n",
    "        price_link = str(player_raw.find('a', class_='player-price tip')).split('\"')[3]\n",
    "    except:\n",
    "        price_link = '-'\n",
    "    try:\n",
    "        ovr = player_raw.find('td', class_='col-overall').contents[0]\n",
    "    except: \n",
    "        ovr = '-'\n",
    "    try:\n",
    "        pos = player_raw.find('td', class_='col-position').contents[0]\n",
    "    except:\n",
    "        pos = '-'\n",
    "    \n",
    "    return {'name': player_name,\n",
    "            'team': player_team,\n",
    "            'ovr': ovr,\n",
    "            'pos': pos,\n",
    "            'price_link': price_link}\n",
    "\n",
    "# \n",
    "def list_to_df(players):\n",
    "    df = pd.DataFrame(players)\n",
    "    df = df[ df['name']!='-']\n",
    "    df['team'] = df['team'].str.upper()\n",
    "    df['ovr'] = df['ovr'].astype(int)\n",
    "    return df\n",
    "\n",
    "# \n",
    "def get_players(tier, start=1, n_pages=1):\n",
    "    players = []\n",
    "    \n",
    "    for i in range(start, n_pages + 1):\n",
    "        try:\n",
    "            tier_num = {'e': 16, 'g': 8}\n",
    "            prefix = 'https://www.muthead.com/19'\n",
    "            suffix = f'players?filter-market=3&filter-program-19=243&filter-tier={tier_num[tier.lower()]}&page={i}'\n",
    "            url = os.path.join(prefix, suffix)\n",
    "        \n",
    "            #print('url', url)\n",
    "            response = requests.get(url)\n",
    "            soup = BeautifulSoup(response.text, 'lxml')\n",
    "            table = soup.find('table')\n",
    "            for j in range(1, len(table.find('tbody').contents)):\n",
    "                time.sleep(2)\n",
    "                player_raw = table.find('tbody').contents[j]\n",
    "                players.append(get_player(player_raw))\n",
    "        except ConnectionError:\n",
    "            print('connection error', url, 'i:', i)\n",
    "            return list_to_df(players)\n",
    "    return list_to_df(players)"
   ]
  },
  {
   "cell_type": "code",
   "execution_count": 36,
   "metadata": {
    "collapsed": true
   },
   "outputs": [],
   "source": [
    "#def set_palette(self):\n",
    "team_palette = {'PHI': 'xkcd:green', 'NE': 'darkblue', 'NO': 'gold', 'GB': 'green', 'MIN': 'xkcd:purple',\n",
    "                     'WAS': 'maroon', 'TEN': 'cyan', 'TB': 'xkcd:crimson', 'SEA': 'chartreuse',\n",
    "                     'LAC': 'xkcd:azure', 'ATL': 'xkcd:red', 'BAL': 'indigo', 'LA': 'xkcd:khaki',\n",
    "                     'KC': 'red', 'NYJ': 'darkgreen', 'JAX': 'xkcd:darkgreen', 'OAK': 'grey',\n",
    "                     'BUF': 'xkcd:blue', 'CAR': 'aqua', 'CLE': 'chocolate', 'PIT': 'xkcd:yellow', 'NYG': 'blue',\n",
    "                     'SF': 'xkcd:gold', 'CHI': 'xkcd:orange', 'DAL': 'xkcd:darkblue', 'MIA': 'xkcd:aqua',\n",
    "                     'DEN': 'xkcd:orangered', 'HOU': 'xkcd:navy', 'ARI': 'xkcd:red', 'CIN': 'xkcd:orange',\n",
    "                     'DET': 'xkcd:lightblue', 'IND': 'xkcd:azure'}"
   ]
  },
  {
   "cell_type": "markdown",
   "metadata": {},
   "source": [
    "**Need: number of pages for each page:**\n",
    "- elite: https://www.muthead.com/19/players?filter-market=3&filter-program-19=243&filter-tier=16&page=1\n",
    "- gold: https://www.muthead.com/19/players?filter-market=3&filter-program-19=243&filter-tier=8&page=1\n",
    "\n",
    "TODO:\n",
    "- better way to do this without specifying pages"
   ]
  },
  {
   "cell_type": "code",
   "execution_count": 3,
   "metadata": {
    "collapsed": true
   },
   "outputs": [],
   "source": [
    "elite_pages = 8\n",
    "gold_pages = 3\n",
    "date = 'jan4'"
   ]
  },
  {
   "cell_type": "markdown",
   "metadata": {},
   "source": [
    "### Elite"
   ]
  },
  {
   "cell_type": "code",
   "execution_count": null,
   "metadata": {},
   "outputs": [],
   "source": [
    "elitesA = get_players(tier='e', start=1, n_pages=5)\n",
    "elitesA.to_csv(f'totw_elite_a_{date}.csv')"
   ]
  },
  {
   "cell_type": "code",
   "execution_count": null,
   "metadata": {},
   "outputs": [],
   "source": [
    "elitesB = get_players(tier='e', start=6, n_pages=elite_pages)\n",
    "elitesB.to_csv(f'totw_elite_b_{date}.csv')"
   ]
  },
  {
   "cell_type": "code",
   "execution_count": 6,
   "metadata": {
    "collapsed": true
   },
   "outputs": [],
   "source": [
    "elites = pd.concat([elitesA, elitesB])\n",
    "elites.to_csv(f'totw_elite_{date}.csv')"
   ]
  },
  {
   "cell_type": "code",
   "execution_count": 69,
   "metadata": {},
   "outputs": [
    {
     "data": {
      "image/png": "[encoded data removed]",
      "text/plain": [
       "<Figure size 1080x360 with 1 Axes>"
      ]
     },
     "metadata": {},
     "output_type": "display_data"
    }
   ],
   "source": [
    "plt.figure(figsize=(15, 5))\n",
    "sns.countplot(elites['team'], palette=team_palette, order = elites['team'].value_counts().index);\n",
    "plt.title('Count of Elite TOTW Players per Team');"
   ]
  },
  {
   "cell_type": "markdown",
   "metadata": {},
   "source": [
    "### Gold"
   ]
  },
  {
   "cell_type": "code",
   "execution_count": 8,
   "metadata": {},
   "outputs": [],
   "source": [
    "#golds = get_players('g', n_pages=gold_pages)\n",
    "#golds.to_csv(f'totw_gold_{date}.csv')"
   ]
  },
  {
   "cell_type": "code",
   "execution_count": 11,
   "metadata": {},
   "outputs": [],
   "source": [
    "golds = pd.read_csv('totw_gold_jan2.csv')\n",
    "df = pd.concat([elites, golds])"
   ]
  },
  {
   "cell_type": "code",
   "execution_count": 173,
   "metadata": {},
   "outputs": [
    {
     "data": {
      "image/png": "[encoded data removed]",
      "text/plain": [
       "<Figure size 1080x360 with 1 Axes>"
      ]
     },
     "metadata": {},
     "output_type": "display_data"
    }
   ],
   "source": [
    "plt.figure(figsize=(15, 5))\n",
    "sns.countplot(golds['team'], palette=team_palette, order = golds['team'].value_counts().index);\n",
    "plt.title('Count of Gold TOTW Players per Team');"
   ]
  },
  {
   "cell_type": "markdown",
   "metadata": {},
   "source": [
    "### All TOTW Players"
   ]
  },
  {
   "cell_type": "code",
   "execution_count": 159,
   "metadata": {
    "scrolled": true
   },
   "outputs": [
    {
     "data": {
      "text/html": [
       "<div>\n",
       "<style scoped>\n",
       "    .dataframe tbody tr th:only-of-type {\n",
       "        vertical-align: middle;\n",
       "    }\n",
       "\n",
       "    .dataframe tbody tr th {\n",
       "        vertical-align: top;\n",
       "    }\n",
       "\n",
       "    .dataframe thead th {\n",
       "        text-align: right;\n",
       "    }\n",
       "</style>\n",
       "<table border=\"1\" class=\"dataframe\">\n",
       "  <thead>\n",
       "    <tr style=\"text-align: right;\">\n",
       "      <th></th>\n",
       "      <th>name</th>\n",
       "      <th>ovr</th>\n",
       "      <th>pos</th>\n",
       "      <th>price_link</th>\n",
       "      <th>team</th>\n",
       "      <th>off_def</th>\n",
       "    </tr>\n",
       "  </thead>\n",
       "  <tbody>\n",
       "    <tr>\n",
       "      <th>0</th>\n",
       "      <td>Justin Houston</td>\n",
       "      <td>96</td>\n",
       "      <td>LOLB</td>\n",
       "      <td>/19/players/prices/56271-justin-houston</td>\n",
       "      <td>KC</td>\n",
       "      <td>D</td>\n",
       "    </tr>\n",
       "    <tr>\n",
       "      <th>1</th>\n",
       "      <td>Michael Thomas</td>\n",
       "      <td>96</td>\n",
       "      <td>WR</td>\n",
       "      <td>/19/players/prices/56270-michael-thomas</td>\n",
       "      <td>NO</td>\n",
       "      <td>O</td>\n",
       "    </tr>\n",
       "    <tr>\n",
       "      <th>2</th>\n",
       "      <td>Amari Cooper</td>\n",
       "      <td>95</td>\n",
       "      <td>WR</td>\n",
       "      <td>/19/players/prices/56268-amari-cooper</td>\n",
       "      <td>DAL</td>\n",
       "      <td>O</td>\n",
       "    </tr>\n",
       "    <tr>\n",
       "      <th>3</th>\n",
       "      <td>Zach Ertz</td>\n",
       "      <td>95</td>\n",
       "      <td>TE</td>\n",
       "      <td>/19/players/prices/56265-zach-ertz</td>\n",
       "      <td>PHI</td>\n",
       "      <td>O</td>\n",
       "    </tr>\n",
       "    <tr>\n",
       "      <th>4</th>\n",
       "      <td>DeMarcus Lawrence</td>\n",
       "      <td>95</td>\n",
       "      <td>LE</td>\n",
       "      <td>/19/players/prices/56266-demarcus-lawrence</td>\n",
       "      <td>DAL</td>\n",
       "      <td>D</td>\n",
       "    </tr>\n",
       "  </tbody>\n",
       "</table>\n",
       "</div>"
      ],
      "text/plain": [
       "                name  ovr   pos                                  price_link  \\\n",
       "0     Justin Houston   96  LOLB     /19/players/prices/56271-justin-houston   \n",
       "1     Michael Thomas   96    WR     /19/players/prices/56270-michael-thomas   \n",
       "2       Amari Cooper   95    WR       /19/players/prices/56268-amari-cooper   \n",
       "3          Zach Ertz   95    TE          /19/players/prices/56265-zach-ertz   \n",
       "4  DeMarcus Lawrence   95    LE  /19/players/prices/56266-demarcus-lawrence   \n",
       "\n",
       "  team off_def  \n",
       "0   KC       D  \n",
       "1   NO       O  \n",
       "2  DAL       O  \n",
       "3  PHI       O  \n",
       "4  DAL       D  "
      ]
     },
     "execution_count": 159,
     "metadata": {},
     "output_type": "execute_result"
    }
   ],
   "source": [
    "if 'Unnamed: 0' in df.columns:\n",
    "    df.drop('Unnamed: 0', axis=1, inplace=True)\n",
    "df.head()"
   ]
  },
  {
   "cell_type": "markdown",
   "metadata": {},
   "source": [
    "#### Offense vs Defense distribution for Teams"
   ]
  },
  {
   "cell_type": "markdown",
   "metadata": {},
   "source": [
    "TODO: stacked bar plot"
   ]
  },
  {
   "cell_type": "code",
   "execution_count": 181,
   "metadata": {},
   "outputs": [
    {
     "data": {
      "image/png": "[encoded data removed]",
      "text/plain": [
       "<Figure size 1080x432 with 1 Axes>"
      ]
     },
     "metadata": {},
     "output_type": "display_data"
    }
   ],
   "source": [
    "pd.pivot_table(index='team', values='ovr', columns='off_def', aggfunc='count',data=df).fillna(0)\\\n",
    "    .plot(kind='bar',figsize=(15,6));"
   ]
  },
  {
   "cell_type": "code",
   "execution_count": 67,
   "metadata": {},
   "outputs": [
    {
     "data": {
      "image/png": "[encoded data removed]",
      "text/plain": [
       "<Figure size 1080x360 with 1 Axes>"
      ]
     },
     "metadata": {},
     "output_type": "display_data"
    }
   ],
   "source": [
    "plt.figure(figsize=(15, 5))\n",
    "sns.countplot(df['team'], palette=team_palette, order = df['team'].value_counts().index);\n",
    "plt.title('Count of All TOTW Players per Team');"
   ]
  },
  {
   "cell_type": "markdown",
   "metadata": {},
   "source": [
    "## NFL Standings"
   ]
  },
  {
   "cell_type": "code",
   "execution_count": 13,
   "metadata": {
    "collapsed": true
   },
   "outputs": [],
   "source": [
    "afc_path = '/Users/mattjohnson/PycharmProjects/MUT19/afc_standings.csv'\n",
    "nfc_path = '/Users/mattjohnson/PycharmProjects/MUT19/nfc_standings.csv'\n",
    "afc = pd.read_csv(afc_path)\n",
    "nfc = pd.read_csv(nfc_path)\n",
    "standings = pd.concat([afc, nfc])"
   ]
  },
  {
   "cell_type": "code",
   "execution_count": 150,
   "metadata": {
    "collapsed": true
   },
   "outputs": [],
   "source": [
    "# position dict to map to off/def\n",
    "pos_dict = {'LOLB':'D', 'WR':'O', 'TE':'O', 'LE':'D', 'MLB':'D', 'ROLB':'D', 'HB':'O', 'SS':'D', \n",
    "            'QB':'O', 'CB':'D', 'DT':'D', 'FS':'D', 'RE':'D'}\n",
    "\n",
    "# mapping positions\n",
    "df['off_def'] = df['pos'].map(pos_dict)"
   ]
  },
  {
   "cell_type": "code",
   "execution_count": 156,
   "metadata": {},
   "outputs": [
    {
     "data": {
      "text/html": [
       "<div>\n",
       "<style scoped>\n",
       "    .dataframe tbody tr th:only-of-type {\n",
       "        vertical-align: middle;\n",
       "    }\n",
       "\n",
       "    .dataframe tbody tr th {\n",
       "        vertical-align: top;\n",
       "    }\n",
       "\n",
       "    .dataframe thead th {\n",
       "        text-align: right;\n",
       "    }\n",
       "</style>\n",
       "<table border=\"1\" class=\"dataframe\">\n",
       "  <thead>\n",
       "    <tr style=\"text-align: right;\">\n",
       "      <th></th>\n",
       "      <th>Unnamed: 0</th>\n",
       "      <th>name</th>\n",
       "      <th>ovr</th>\n",
       "      <th>pos</th>\n",
       "      <th>price_link</th>\n",
       "      <th>team</th>\n",
       "      <th>off_def</th>\n",
       "    </tr>\n",
       "  </thead>\n",
       "  <tbody>\n",
       "    <tr>\n",
       "      <th>0</th>\n",
       "      <td>NaN</td>\n",
       "      <td>Justin Houston</td>\n",
       "      <td>96</td>\n",
       "      <td>LOLB</td>\n",
       "      <td>/19/players/prices/56271-justin-houston</td>\n",
       "      <td>KC</td>\n",
       "      <td>D</td>\n",
       "    </tr>\n",
       "    <tr>\n",
       "      <th>1</th>\n",
       "      <td>NaN</td>\n",
       "      <td>Michael Thomas</td>\n",
       "      <td>96</td>\n",
       "      <td>WR</td>\n",
       "      <td>/19/players/prices/56270-michael-thomas</td>\n",
       "      <td>NO</td>\n",
       "      <td>O</td>\n",
       "    </tr>\n",
       "    <tr>\n",
       "      <th>2</th>\n",
       "      <td>NaN</td>\n",
       "      <td>Amari Cooper</td>\n",
       "      <td>95</td>\n",
       "      <td>WR</td>\n",
       "      <td>/19/players/prices/56268-amari-cooper</td>\n",
       "      <td>DAL</td>\n",
       "      <td>O</td>\n",
       "    </tr>\n",
       "    <tr>\n",
       "      <th>3</th>\n",
       "      <td>NaN</td>\n",
       "      <td>Zach Ertz</td>\n",
       "      <td>95</td>\n",
       "      <td>TE</td>\n",
       "      <td>/19/players/prices/56265-zach-ertz</td>\n",
       "      <td>PHI</td>\n",
       "      <td>O</td>\n",
       "    </tr>\n",
       "    <tr>\n",
       "      <th>4</th>\n",
       "      <td>NaN</td>\n",
       "      <td>DeMarcus Lawrence</td>\n",
       "      <td>95</td>\n",
       "      <td>LE</td>\n",
       "      <td>/19/players/prices/56266-demarcus-lawrence</td>\n",
       "      <td>DAL</td>\n",
       "      <td>D</td>\n",
       "    </tr>\n",
       "  </tbody>\n",
       "</table>\n",
       "</div>"
      ],
      "text/plain": [
       "   Unnamed: 0               name  ovr   pos  \\\n",
       "0         NaN     Justin Houston   96  LOLB   \n",
       "1         NaN     Michael Thomas   96    WR   \n",
       "2         NaN       Amari Cooper   95    WR   \n",
       "3         NaN          Zach Ertz   95    TE   \n",
       "4         NaN  DeMarcus Lawrence   95    LE   \n",
       "\n",
       "                                   price_link team off_def  \n",
       "0     /19/players/prices/56271-justin-houston   KC       D  \n",
       "1     /19/players/prices/56270-michael-thomas   NO       O  \n",
       "2       /19/players/prices/56268-amari-cooper  DAL       O  \n",
       "3          /19/players/prices/56265-zach-ertz  PHI       O  \n",
       "4  /19/players/prices/56266-demarcus-lawrence  DAL       D  "
      ]
     },
     "execution_count": 156,
     "metadata": {},
     "output_type": "execute_result"
    }
   ],
   "source": [
    "df.head()"
   ]
  },
  {
   "cell_type": "code",
   "execution_count": 149,
   "metadata": {},
   "outputs": [],
   "source": [
    "#standings.sort_values('W', ascending=False)\n",
    "teams = pd.read_csv('nfl_teams.csv')\n",
    "teams.set_index('Name', drop=True, inplace=True)\n",
    "team_dict = teams['Abbreviation'].to_dict()\n",
    "\n",
    "standings['abbrev'] = standings['Tm'].map(team_dict)\n",
    "\n",
    "# dict for tidy df team counts\n",
    "team_count_dict = df['team'].value_counts().to_dict()\n",
    "offdef_dict = df['off_def'].\n",
    "# mapping by abbrev\n",
    "standings['count'] = standings['abbrev'].map(team_count_dict)\n",
    "\n",
    "# new df with wanted variables\n",
    "all_df = standings[['Tm', 'W', 'PF', 'PA', 'PD', 'abbrev', 'count']]\n",
    "all_df.sort_values('W', ascending=False, inplace=True)"
   ]
  },
  {
   "cell_type": "code",
   "execution_count": 185,
   "metadata": {
    "collapsed": true
   },
   "outputs": [],
   "source": [
    "def tidy(df):\n",
    "    try:\n",
    "        df = df[['abbrev', 'W', 'count']]\n",
    "    except:\n",
    "        print('must have columns: abbrev, W, count')\n",
    "        print('your columns:', df.columns)\n",
    "        return []\n",
    "    if len(df.columns) != 3:\n",
    "        print('x')\n",
    "    try:\n",
    "        tidy = (\n",
    "        df.set_index('abbrev')\n",
    "          .stack()  # un-pivots the data \n",
    "          .reset_index()  # moves all data out of the index\n",
    "          .rename(columns={'level_1': 'Variable', 0: 'Value'})\n",
    "        )\n",
    "    except:\n",
    "        print('error')\n",
    "        return []\n",
    "    return tidy"
   ]
  },
  {
   "cell_type": "code",
   "execution_count": 186,
   "metadata": {},
   "outputs": [],
   "source": [
    "tidied = tidy(all_df)"
   ]
  },
  {
   "cell_type": "code",
   "execution_count": 47,
   "metadata": {},
   "outputs": [
    {
     "data": {
      "image/png": "[encoded data removed]",
      "text/plain": [
       "<Figure size 1080x360 with 1 Axes>"
      ]
     },
     "metadata": {},
     "output_type": "display_data"
    }
   ],
   "source": [
    "plt.figure(figsize=(15, 5))\n",
    "sns.barplot(data=tidied, x='abbrev', y='Value', hue='Variable');\n",
    "plt.title('NFL Team Wins and TOTW Players in the 2018 Season');"
   ]
  },
  {
   "cell_type": "markdown",
   "metadata": {},
   "source": [
    "### Correlation"
   ]
  },
  {
   "cell_type": "markdown",
   "metadata": {},
   "source": [
    "W: Wins, PF: Points For, PA: Points Against, PD: Net Points, count: number of TOTW players in season"
   ]
  },
  {
   "cell_type": "code",
   "execution_count": 33,
   "metadata": {},
   "outputs": [
    {
     "data": {
      "image/png": "[encoded data removed]",
      "text/plain": [
       "<Figure size 432x288 with 2 Axes>"
      ]
     },
     "metadata": {},
     "output_type": "display_data"
    }
   ],
   "source": [
    "sns.heatmap(all_df.corr(), annot=True);"
   ]
  },
  {
   "cell_type": "code",
   "execution_count": null,
   "metadata": {
    "collapsed": true
   },
   "outputs": [],
   "source": [
    "sns.heatmap(all_df[ all_.corr(), annot=True);"
   ]
  },
  {
   "cell_type": "code",
   "execution_count": 56,
   "metadata": {},
   "outputs": [
    {
     "data": {
      "image/png": "[encoded data removed]",
      "text/plain": [
       "<Figure size 432x288 with 1 Axes>"
      ]
     },
     "metadata": {},
     "output_type": "display_data"
    }
   ],
   "source": [
    "sns.scatterplot(data = all_df[['W', 'count']].reset_index(drop=True), x='W', y='count');"
   ]
  },
  {
   "cell_type": "code",
   "execution_count": 57,
   "metadata": {},
   "outputs": [
    {
     "data": {
      "text/plain": [
       "<seaborn.axisgrid.PairGrid at 0x11ceb8358>"
      ]
     },
     "execution_count": 57,
     "metadata": {},
     "output_type": "execute_result"
    },
    {
     "data": {
      "image/png": "[encoded data removed]",
      "text/plain": [
       "<Figure size 900x900 with 30 Axes>"
      ]
     },
     "metadata": {},
     "output_type": "display_data"
    }
   ],
   "source": [
    "sns.pairplot(all_df)"
   ]
  },
  {
   "cell_type": "markdown",
   "metadata": {},
   "source": [
    "### Trying with only elites:"
   ]
  },
  {
   "cell_type": "code",
   "execution_count": 61,
   "metadata": {
    "collapsed": true
   },
   "outputs": [],
   "source": [
    "teams = pd.read_csv('nfl_teams.csv')\n",
    "teams.set_index('Name', drop=True, inplace=True)\n",
    "team_dict = teams['Abbreviation'].to_dict()\n",
    "\n",
    "standings['abbrev'] = standings['Tm'].map(team_dict)\n",
    "\n",
    "# dict for tidy df team counts\n",
    "team_count_dict = elites['team'].value_counts().to_dict()\n",
    "\n",
    "# mapping by abbrev\n",
    "standings['count'] = standings['abbrev'].map(team_count_dict)\n",
    "\n",
    "# new df with wanted variables\n",
    "elite_df = standings[['Tm', 'W', 'PF', 'PA', 'PD', 'abbrev', 'count']]\n",
    "elite_df.sort_values('W', ascending=False, inplace=True)"
   ]
  },
  {
   "cell_type": "code",
   "execution_count": 63,
   "metadata": {},
   "outputs": [],
   "source": [
    "tidy_elites = tidy(elite_df)"
   ]
  },
  {
   "cell_type": "code",
   "execution_count": 64,
   "metadata": {},
   "outputs": [
    {
     "data": {
      "image/png": "[encoded data removed]",
      "text/plain": [
       "<Figure size 1080x360 with 1 Axes>"
      ]
     },
     "metadata": {},
     "output_type": "display_data"
    }
   ],
   "source": [
    "plt.figure(figsize=(15, 5))\n",
    "sns.barplot(data=tidy_elites, x='abbrev', y='Value', hue='Variable');\n",
    "plt.title('NFL Team Wins and Elite TOTW Players in the 2018 Season');"
   ]
  },
  {
   "cell_type": "code",
   "execution_count": 66,
   "metadata": {},
   "outputs": [
    {
     "data": {
      "image/png": "[encoded data removed]",
      "text/plain": [
       "<Figure size 432x288 with 2 Axes>"
      ]
     },
     "metadata": {},
     "output_type": "display_data"
    }
   ],
   "source": [
    "sns.heatmap(elite_df.corr(), annot=True);"
   ]
  },
  {
   "cell_type": "code",
   "execution_count": 74,
   "metadata": {},
   "outputs": [
    {
     "data": {
      "text/html": [
       "<div>\n",
       "<style scoped>\n",
       "    .dataframe tbody tr th:only-of-type {\n",
       "        vertical-align: middle;\n",
       "    }\n",
       "\n",
       "    .dataframe tbody tr th {\n",
       "        vertical-align: top;\n",
       "    }\n",
       "\n",
       "    .dataframe thead th {\n",
       "        text-align: right;\n",
       "    }\n",
       "</style>\n",
       "<table border=\"1\" class=\"dataframe\">\n",
       "  <thead>\n",
       "    <tr style=\"text-align: right;\">\n",
       "      <th></th>\n",
       "      <th>name</th>\n",
       "      <th>ovr</th>\n",
       "      <th>pos</th>\n",
       "      <th>price_link</th>\n",
       "      <th>team</th>\n",
       "    </tr>\n",
       "  </thead>\n",
       "  <tbody>\n",
       "    <tr>\n",
       "      <th>110</th>\n",
       "      <td>Eric Reid</td>\n",
       "      <td>85</td>\n",
       "      <td>SS</td>\n",
       "      <td>/19/players/prices/56118-eric-reid</td>\n",
       "      <td>CAR</td>\n",
       "    </tr>\n",
       "    <tr>\n",
       "      <th>35</th>\n",
       "      <td>Danielle Hunter</td>\n",
       "      <td>91</td>\n",
       "      <td>LE</td>\n",
       "      <td>/19/players/prices/56128-danielle-hunter</td>\n",
       "      <td>MIN</td>\n",
       "    </tr>\n",
       "    <tr>\n",
       "      <th>75</th>\n",
       "      <td>Josh Allen</td>\n",
       "      <td>86</td>\n",
       "      <td>QB</td>\n",
       "      <td>/19/players/prices/56215-josh-allen</td>\n",
       "      <td>BUF</td>\n",
       "    </tr>\n",
       "  </tbody>\n",
       "</table>\n",
       "</div>"
      ],
      "text/plain": [
       "                name  ovr pos                                price_link team\n",
       "110        Eric Reid   85  SS        /19/players/prices/56118-eric-reid  CAR\n",
       "35   Danielle Hunter   91  LE  /19/players/prices/56128-danielle-hunter  MIN\n",
       "75        Josh Allen   86  QB       /19/players/prices/56215-josh-allen  BUF"
      ]
     },
     "execution_count": 74,
     "metadata": {},
     "output_type": "execute_result"
    }
   ],
   "source": [
    "elites.iloc[elites.groupby('team').groups['ARI']]"
   ]
  },
  {
   "cell_type": "code",
   "execution_count": 75,
   "metadata": {},
   "outputs": [
    {
     "data": {
      "image/png": "[encoded data removed]",
      "text/plain": [
       "<Figure size 360x360 with 1 Axes>"
      ]
     },
     "metadata": {},
     "output_type": "display_data"
    }
   ],
   "source": [
    "sns.lmplot(data = all_df[['W', 'count']].reset_index(drop=True), x='W', y='count');"
   ]
  },
  {
   "cell_type": "code",
   "execution_count": 84,
   "metadata": {},
   "outputs": [],
   "source": [
    "elite_df['diff'] = elite_df['W'] - elite_df['count']"
   ]
  },
  {
   "cell_type": "code",
   "execution_count": 189,
   "metadata": {},
   "outputs": [
    {
     "data": {
      "text/html": [
       "<div>\n",
       "<style scoped>\n",
       "    .dataframe tbody tr th:only-of-type {\n",
       "        vertical-align: middle;\n",
       "    }\n",
       "\n",
       "    .dataframe tbody tr th {\n",
       "        vertical-align: top;\n",
       "    }\n",
       "\n",
       "    .dataframe thead th {\n",
       "        text-align: right;\n",
       "    }\n",
       "</style>\n",
       "<table border=\"1\" class=\"dataframe\">\n",
       "  <thead>\n",
       "    <tr style=\"text-align: right;\">\n",
       "      <th></th>\n",
       "      <th>Tm</th>\n",
       "      <th>W</th>\n",
       "      <th>PF</th>\n",
       "      <th>PA</th>\n",
       "      <th>PD</th>\n",
       "      <th>abbrev</th>\n",
       "      <th>count</th>\n",
       "      <th>diff</th>\n",
       "    </tr>\n",
       "  </thead>\n",
       "  <tbody>\n",
       "    <tr>\n",
       "      <th>0</th>\n",
       "      <td>Houston Texans</td>\n",
       "      <td>11</td>\n",
       "      <td>402</td>\n",
       "      <td>316</td>\n",
       "      <td>86</td>\n",
       "      <td>HOU</td>\n",
       "      <td>2</td>\n",
       "      <td>9</td>\n",
       "    </tr>\n",
       "    <tr>\n",
       "      <th>1</th>\n",
       "      <td>New Orleans Saints</td>\n",
       "      <td>13</td>\n",
       "      <td>504</td>\n",
       "      <td>353</td>\n",
       "      <td>151</td>\n",
       "      <td>NO</td>\n",
       "      <td>5</td>\n",
       "      <td>8</td>\n",
       "    </tr>\n",
       "    <tr>\n",
       "      <th>2</th>\n",
       "      <td>New England Patriots</td>\n",
       "      <td>11</td>\n",
       "      <td>436</td>\n",
       "      <td>325</td>\n",
       "      <td>111</td>\n",
       "      <td>NE</td>\n",
       "      <td>5</td>\n",
       "      <td>6</td>\n",
       "    </tr>\n",
       "    <tr>\n",
       "      <th>3</th>\n",
       "      <td>Los Angeles Rams</td>\n",
       "      <td>13</td>\n",
       "      <td>527</td>\n",
       "      <td>384</td>\n",
       "      <td>143</td>\n",
       "      <td>LA</td>\n",
       "      <td>9</td>\n",
       "      <td>4</td>\n",
       "    </tr>\n",
       "    <tr>\n",
       "      <th>4</th>\n",
       "      <td>Tennessee Titans</td>\n",
       "      <td>9</td>\n",
       "      <td>310</td>\n",
       "      <td>303</td>\n",
       "      <td>7</td>\n",
       "      <td>TEN</td>\n",
       "      <td>5</td>\n",
       "      <td>4</td>\n",
       "    </tr>\n",
       "    <tr>\n",
       "      <th>5</th>\n",
       "      <td>Los Angeles Chargers</td>\n",
       "      <td>12</td>\n",
       "      <td>428</td>\n",
       "      <td>329</td>\n",
       "      <td>99</td>\n",
       "      <td>LAC</td>\n",
       "      <td>8</td>\n",
       "      <td>4</td>\n",
       "    </tr>\n",
       "    <tr>\n",
       "      <th>6</th>\n",
       "      <td>Indianapolis Colts</td>\n",
       "      <td>10</td>\n",
       "      <td>433</td>\n",
       "      <td>344</td>\n",
       "      <td>89</td>\n",
       "      <td>IND</td>\n",
       "      <td>6</td>\n",
       "      <td>4</td>\n",
       "    </tr>\n",
       "    <tr>\n",
       "      <th>7</th>\n",
       "      <td>Seattle Seahawks</td>\n",
       "      <td>10</td>\n",
       "      <td>428</td>\n",
       "      <td>347</td>\n",
       "      <td>81</td>\n",
       "      <td>SEA</td>\n",
       "      <td>6</td>\n",
       "      <td>4</td>\n",
       "    </tr>\n",
       "    <tr>\n",
       "      <th>8</th>\n",
       "      <td>Philadelphia Eagles</td>\n",
       "      <td>9</td>\n",
       "      <td>367</td>\n",
       "      <td>348</td>\n",
       "      <td>19</td>\n",
       "      <td>PHI</td>\n",
       "      <td>5</td>\n",
       "      <td>4</td>\n",
       "    </tr>\n",
       "    <tr>\n",
       "      <th>9</th>\n",
       "      <td>Miami Dolphins</td>\n",
       "      <td>7</td>\n",
       "      <td>319</td>\n",
       "      <td>433</td>\n",
       "      <td>-114</td>\n",
       "      <td>MIA</td>\n",
       "      <td>4</td>\n",
       "      <td>3</td>\n",
       "    </tr>\n",
       "    <tr>\n",
       "      <th>10</th>\n",
       "      <td>Baltimore Ravens</td>\n",
       "      <td>10</td>\n",
       "      <td>389</td>\n",
       "      <td>287</td>\n",
       "      <td>102</td>\n",
       "      <td>BAL</td>\n",
       "      <td>7</td>\n",
       "      <td>3</td>\n",
       "    </tr>\n",
       "    <tr>\n",
       "      <th>11</th>\n",
       "      <td>Detroit Lions</td>\n",
       "      <td>6</td>\n",
       "      <td>324</td>\n",
       "      <td>360</td>\n",
       "      <td>-36</td>\n",
       "      <td>DET</td>\n",
       "      <td>3</td>\n",
       "      <td>3</td>\n",
       "    </tr>\n",
       "    <tr>\n",
       "      <th>12</th>\n",
       "      <td>Denver Broncos</td>\n",
       "      <td>6</td>\n",
       "      <td>329</td>\n",
       "      <td>349</td>\n",
       "      <td>-20</td>\n",
       "      <td>DEN</td>\n",
       "      <td>4</td>\n",
       "      <td>2</td>\n",
       "    </tr>\n",
       "    <tr>\n",
       "      <th>13</th>\n",
       "      <td>Washington Redskins</td>\n",
       "      <td>7</td>\n",
       "      <td>281</td>\n",
       "      <td>359</td>\n",
       "      <td>-78</td>\n",
       "      <td>WAS</td>\n",
       "      <td>5</td>\n",
       "      <td>2</td>\n",
       "    </tr>\n",
       "    <tr>\n",
       "      <th>14</th>\n",
       "      <td>Kansas City Chiefs</td>\n",
       "      <td>12</td>\n",
       "      <td>565</td>\n",
       "      <td>421</td>\n",
       "      <td>144</td>\n",
       "      <td>KC</td>\n",
       "      <td>10</td>\n",
       "      <td>2</td>\n",
       "    </tr>\n",
       "    <tr>\n",
       "      <th>15</th>\n",
       "      <td>New York Jets</td>\n",
       "      <td>4</td>\n",
       "      <td>333</td>\n",
       "      <td>441</td>\n",
       "      <td>-108</td>\n",
       "      <td>NYJ</td>\n",
       "      <td>3</td>\n",
       "      <td>1</td>\n",
       "    </tr>\n",
       "    <tr>\n",
       "      <th>16</th>\n",
       "      <td>Jacksonville Jaguars</td>\n",
       "      <td>5</td>\n",
       "      <td>245</td>\n",
       "      <td>316</td>\n",
       "      <td>-71</td>\n",
       "      <td>JAX</td>\n",
       "      <td>4</td>\n",
       "      <td>1</td>\n",
       "    </tr>\n",
       "    <tr>\n",
       "      <th>17</th>\n",
       "      <td>New York Giants</td>\n",
       "      <td>5</td>\n",
       "      <td>369</td>\n",
       "      <td>412</td>\n",
       "      <td>-43</td>\n",
       "      <td>NYG</td>\n",
       "      <td>4</td>\n",
       "      <td>1</td>\n",
       "    </tr>\n",
       "    <tr>\n",
       "      <th>18</th>\n",
       "      <td>Chicago Bears</td>\n",
       "      <td>12</td>\n",
       "      <td>421</td>\n",
       "      <td>283</td>\n",
       "      <td>138</td>\n",
       "      <td>CHI</td>\n",
       "      <td>11</td>\n",
       "      <td>1</td>\n",
       "    </tr>\n",
       "    <tr>\n",
       "      <th>19</th>\n",
       "      <td>Cincinnati Bengals</td>\n",
       "      <td>6</td>\n",
       "      <td>368</td>\n",
       "      <td>455</td>\n",
       "      <td>-87</td>\n",
       "      <td>CIN</td>\n",
       "      <td>5</td>\n",
       "      <td>1</td>\n",
       "    </tr>\n",
       "    <tr>\n",
       "      <th>20</th>\n",
       "      <td>Green Bay Packers</td>\n",
       "      <td>6</td>\n",
       "      <td>376</td>\n",
       "      <td>400</td>\n",
       "      <td>-24</td>\n",
       "      <td>GB</td>\n",
       "      <td>6</td>\n",
       "      <td>0</td>\n",
       "    </tr>\n",
       "    <tr>\n",
       "      <th>21</th>\n",
       "      <td>Arizona Cardinals</td>\n",
       "      <td>3</td>\n",
       "      <td>225</td>\n",
       "      <td>425</td>\n",
       "      <td>-200</td>\n",
       "      <td>ARI</td>\n",
       "      <td>3</td>\n",
       "      <td>0</td>\n",
       "    </tr>\n",
       "    <tr>\n",
       "      <th>22</th>\n",
       "      <td>Pittsburgh Steelers</td>\n",
       "      <td>9</td>\n",
       "      <td>428</td>\n",
       "      <td>360</td>\n",
       "      <td>68</td>\n",
       "      <td>PIT</td>\n",
       "      <td>9</td>\n",
       "      <td>0</td>\n",
       "    </tr>\n",
       "    <tr>\n",
       "      <th>23</th>\n",
       "      <td>Dallas Cowboys</td>\n",
       "      <td>10</td>\n",
       "      <td>339</td>\n",
       "      <td>324</td>\n",
       "      <td>15</td>\n",
       "      <td>DAL</td>\n",
       "      <td>10</td>\n",
       "      <td>0</td>\n",
       "    </tr>\n",
       "    <tr>\n",
       "      <th>24</th>\n",
       "      <td>Carolina Panthers</td>\n",
       "      <td>7</td>\n",
       "      <td>376</td>\n",
       "      <td>382</td>\n",
       "      <td>-6</td>\n",
       "      <td>CAR</td>\n",
       "      <td>8</td>\n",
       "      <td>-1</td>\n",
       "    </tr>\n",
       "    <tr>\n",
       "      <th>25</th>\n",
       "      <td>Minnesota Vikings</td>\n",
       "      <td>8</td>\n",
       "      <td>360</td>\n",
       "      <td>341</td>\n",
       "      <td>19</td>\n",
       "      <td>MIN</td>\n",
       "      <td>9</td>\n",
       "      <td>-1</td>\n",
       "    </tr>\n",
       "    <tr>\n",
       "      <th>26</th>\n",
       "      <td>Tampa Bay Buccaneers</td>\n",
       "      <td>5</td>\n",
       "      <td>396</td>\n",
       "      <td>464</td>\n",
       "      <td>-68</td>\n",
       "      <td>TB</td>\n",
       "      <td>6</td>\n",
       "      <td>-1</td>\n",
       "    </tr>\n",
       "    <tr>\n",
       "      <th>27</th>\n",
       "      <td>Cleveland Browns</td>\n",
       "      <td>7</td>\n",
       "      <td>359</td>\n",
       "      <td>392</td>\n",
       "      <td>-33</td>\n",
       "      <td>CLE</td>\n",
       "      <td>8</td>\n",
       "      <td>-1</td>\n",
       "    </tr>\n",
       "    <tr>\n",
       "      <th>28</th>\n",
       "      <td>Buffalo Bills</td>\n",
       "      <td>6</td>\n",
       "      <td>269</td>\n",
       "      <td>374</td>\n",
       "      <td>-105</td>\n",
       "      <td>BUF</td>\n",
       "      <td>8</td>\n",
       "      <td>-2</td>\n",
       "    </tr>\n",
       "    <tr>\n",
       "      <th>29</th>\n",
       "      <td>Atlanta Falcons</td>\n",
       "      <td>7</td>\n",
       "      <td>414</td>\n",
       "      <td>423</td>\n",
       "      <td>-9</td>\n",
       "      <td>ATL</td>\n",
       "      <td>9</td>\n",
       "      <td>-2</td>\n",
       "    </tr>\n",
       "    <tr>\n",
       "      <th>30</th>\n",
       "      <td>Oakland Raiders</td>\n",
       "      <td>4</td>\n",
       "      <td>290</td>\n",
       "      <td>467</td>\n",
       "      <td>-177</td>\n",
       "      <td>OAK</td>\n",
       "      <td>6</td>\n",
       "      <td>-2</td>\n",
       "    </tr>\n",
       "    <tr>\n",
       "      <th>31</th>\n",
       "      <td>San Francisco 49ers</td>\n",
       "      <td>4</td>\n",
       "      <td>342</td>\n",
       "      <td>435</td>\n",
       "      <td>-93</td>\n",
       "      <td>SF</td>\n",
       "      <td>7</td>\n",
       "      <td>-3</td>\n",
       "    </tr>\n",
       "  </tbody>\n",
       "</table>\n",
       "</div>"
      ],
      "text/plain": [
       "                      Tm   W   PF   PA   PD abbrev  count  diff\n",
       "0         Houston Texans  11  402  316   86    HOU      2     9\n",
       "1     New Orleans Saints  13  504  353  151     NO      5     8\n",
       "2   New England Patriots  11  436  325  111     NE      5     6\n",
       "3       Los Angeles Rams  13  527  384  143     LA      9     4\n",
       "4       Tennessee Titans   9  310  303    7    TEN      5     4\n",
       "5   Los Angeles Chargers  12  428  329   99    LAC      8     4\n",
       "6     Indianapolis Colts  10  433  344   89    IND      6     4\n",
       "7       Seattle Seahawks  10  428  347   81    SEA      6     4\n",
       "8    Philadelphia Eagles   9  367  348   19    PHI      5     4\n",
       "9         Miami Dolphins   7  319  433 -114    MIA      4     3\n",
       "10      Baltimore Ravens  10  389  287  102    BAL      7     3\n",
       "11         Detroit Lions   6  324  360  -36    DET      3     3\n",
       "12        Denver Broncos   6  329  349  -20    DEN      4     2\n",
       "13   Washington Redskins   7  281  359  -78    WAS      5     2\n",
       "14    Kansas City Chiefs  12  565  421  144     KC     10     2\n",
       "15         New York Jets   4  333  441 -108    NYJ      3     1\n",
       "16  Jacksonville Jaguars   5  245  316  -71    JAX      4     1\n",
       "17       New York Giants   5  369  412  -43    NYG      4     1\n",
       "18         Chicago Bears  12  421  283  138    CHI     11     1\n",
       "19    Cincinnati Bengals   6  368  455  -87    CIN      5     1\n",
       "20     Green Bay Packers   6  376  400  -24     GB      6     0\n",
       "21     Arizona Cardinals   3  225  425 -200    ARI      3     0\n",
       "22   Pittsburgh Steelers   9  428  360   68    PIT      9     0\n",
       "23        Dallas Cowboys  10  339  324   15    DAL     10     0\n",
       "24     Carolina Panthers   7  376  382   -6    CAR      8    -1\n",
       "25     Minnesota Vikings   8  360  341   19    MIN      9    -1\n",
       "26  Tampa Bay Buccaneers   5  396  464  -68     TB      6    -1\n",
       "27      Cleveland Browns   7  359  392  -33    CLE      8    -1\n",
       "28         Buffalo Bills   6  269  374 -105    BUF      8    -2\n",
       "29       Atlanta Falcons   7  414  423   -9    ATL      9    -2\n",
       "30       Oakland Raiders   4  290  467 -177    OAK      6    -2\n",
       "31   San Francisco 49ers   4  342  435  -93     SF      7    -3"
      ]
     },
     "execution_count": 189,
     "metadata": {},
     "output_type": "execute_result"
    }
   ],
   "source": [
    "elite_df.sort_values('diff', ascending=False).reset_index(drop=True)"
   ]
  },
  {
   "cell_type": "code",
   "execution_count": 94,
   "metadata": {},
   "outputs": [
    {
     "data": {
      "text/html": [
       "<div>\n",
       "<style scoped>\n",
       "    .dataframe tbody tr th:only-of-type {\n",
       "        vertical-align: middle;\n",
       "    }\n",
       "\n",
       "    .dataframe tbody tr th {\n",
       "        vertical-align: top;\n",
       "    }\n",
       "\n",
       "    .dataframe thead th {\n",
       "        text-align: right;\n",
       "    }\n",
       "</style>\n",
       "<table border=\"1\" class=\"dataframe\">\n",
       "  <thead>\n",
       "    <tr style=\"text-align: right;\">\n",
       "      <th></th>\n",
       "      <th>abbrev</th>\n",
       "      <th>Variable</th>\n",
       "      <th>Value</th>\n",
       "    </tr>\n",
       "  </thead>\n",
       "  <tbody>\n",
       "    <tr>\n",
       "      <th>0</th>\n",
       "      <td>LA</td>\n",
       "      <td>W</td>\n",
       "      <td>13</td>\n",
       "    </tr>\n",
       "    <tr>\n",
       "      <th>1</th>\n",
       "      <td>LA</td>\n",
       "      <td>count</td>\n",
       "      <td>9</td>\n",
       "    </tr>\n",
       "    <tr>\n",
       "      <th>2</th>\n",
       "      <td>NO</td>\n",
       "      <td>W</td>\n",
       "      <td>13</td>\n",
       "    </tr>\n",
       "    <tr>\n",
       "      <th>3</th>\n",
       "      <td>NO</td>\n",
       "      <td>count</td>\n",
       "      <td>5</td>\n",
       "    </tr>\n",
       "    <tr>\n",
       "      <th>4</th>\n",
       "      <td>CHI</td>\n",
       "      <td>W</td>\n",
       "      <td>12</td>\n",
       "    </tr>\n",
       "  </tbody>\n",
       "</table>\n",
       "</div>"
      ],
      "text/plain": [
       "  abbrev Variable  Value\n",
       "0     LA        W     13\n",
       "1     LA    count      9\n",
       "2     NO        W     13\n",
       "3     NO    count      5\n",
       "4    CHI        W     12"
      ]
     },
     "execution_count": 94,
     "metadata": {},
     "output_type": "execute_result"
    }
   ],
   "source": [
    "tidy_elites.head()"
   ]
  },
  {
   "cell_type": "code",
   "execution_count": 126,
   "metadata": {},
   "outputs": [
    {
     "data": {
      "image/png": "[encoded data removed]",
      "text/plain": [
       "<Figure size 1100.92x576 with 1 Axes>"
      ]
     },
     "metadata": {},
     "output_type": "display_data"
    }
   ],
   "source": [
    "#plt.figure(figsize=(15, 8))\n",
    "sns.catplot(x='abbrev', y='Value',hue='Variable', data = tidy_elites.set_index('abbrev', drop=False), \n",
    "            kind='bar', height=8, aspect=1.8); #palette=team_palette);\n",
    "plt.title('Count of All TOTW Players per Team');"
   ]
  }
 ],
 "metadata": {
  "kernelspec": {
   "display_name": "Python 3",
   "language": "python",
   "name": "python3"
  },
  "language_info": {
   "codemirror_mode": {
    "name": "ipython",
    "version": 3
   },
   "file_extension": ".py",
   "mimetype": "text/x-python",
   "name": "python",
   "nbconvert_exporter": "python",
   "pygments_lexer": "ipython3",
   "version": "3.6.3"
  }
 },
 "nbformat": 4,
 "nbformat_minor": 2
}
