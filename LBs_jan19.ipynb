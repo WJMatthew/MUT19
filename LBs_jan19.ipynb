{
 "cells": [
  {
   "cell_type": "markdown",
   "metadata": {
    "collapsed": true
   },
   "source": [
    "# Linebackers\n",
    "- Jan 19, 2018"
   ]
  },
  {
   "cell_type": "code",
   "execution_count": 1,
   "metadata": {
    "collapsed": true
   },
   "outputs": [],
   "source": [
    "%matplotlib inline\n",
    "import matplotlib.pyplot as plt\n",
    "from MUTScraper import Player, PlayerHandler\n",
    "%load_ext autoreload\n",
    "%autoreload 2"
   ]
  },
  {
   "cell_type": "code",
   "execution_count": 2,
   "metadata": {
    "collapsed": true
   },
   "outputs": [],
   "source": [
    "import plotly as py\n",
    "import plotly.plotly as py\n",
    "import plotly.graph_objs as go\n",
    "import pandas as pd\n",
    "from ipywidgets import interactive, HBox, VBox, widgets, interact"
   ]
  },
  {
   "cell_type": "code",
   "execution_count": 3,
   "metadata": {},
   "outputs": [
    {
     "name": "stdout",
     "output_type": "stream",
     "text": [
      " 100 player links gathered.\n"
     ]
    }
   ],
   "source": [
    "ph = PlayerHandler(position='LB', min_ovr=90, date='jan19', pages=4)\n",
    "ph.handle_players()"
   ]
  },
  {
   "cell_type": "code",
   "execution_count": null,
   "metadata": {
    "collapsed": true
   },
   "outputs": [],
   "source": []
  },
  {
   "cell_type": "code",
   "execution_count": 5,
   "metadata": {
    "collapsed": true
   },
   "outputs": [],
   "source": [
    "lb_groups = ph.player_df.groupby('Position')\n",
    "\n",
    "df_dict = {}\n",
    "\n",
    "for name, group in lb_groups:\n",
    "    df_dict.update({name: group})"
   ]
  },
  {
   "cell_type": "code",
   "execution_count": 6,
   "metadata": {},
   "outputs": [
    {
     "data": {
      "text/html": [
       "<div>\n",
       "<style scoped>\n",
       "    .dataframe tbody tr th:only-of-type {\n",
       "        vertical-align: middle;\n",
       "    }\n",
       "\n",
       "    .dataframe tbody tr th {\n",
       "        vertical-align: top;\n",
       "    }\n",
       "\n",
       "    .dataframe thead th {\n",
       "        text-align: right;\n",
       "    }\n",
       "</style>\n",
       "<table border=\"1\" class=\"dataframe\">\n",
       "  <thead>\n",
       "    <tr style=\"text-align: right;\">\n",
       "      <th></th>\n",
       "      <th>ACC</th>\n",
       "      <th>AGI</th>\n",
       "      <th>AWR</th>\n",
       "      <th>BKS</th>\n",
       "      <th>CIT</th>\n",
       "      <th>CTH</th>\n",
       "      <th>FNM</th>\n",
       "      <th>JMP</th>\n",
       "      <th>MCV</th>\n",
       "      <th>POW</th>\n",
       "      <th>...</th>\n",
       "      <th>DL Swim Move</th>\n",
       "      <th>High Motor</th>\n",
       "      <th>LB Style</th>\n",
       "      <th>Penalty</th>\n",
       "      <th>Plays Ball in Air</th>\n",
       "      <th>Strips Ball</th>\n",
       "      <th>HtWt</th>\n",
       "      <th>OVR</th>\n",
       "      <th>Position</th>\n",
       "      <th>Team</th>\n",
       "    </tr>\n",
       "  </thead>\n",
       "  <tbody>\n",
       "    <tr>\n",
       "      <th>Bobby Wagner</th>\n",
       "      <td>93</td>\n",
       "      <td>89</td>\n",
       "      <td>98</td>\n",
       "      <td>93</td>\n",
       "      <td>58</td>\n",
       "      <td>81</td>\n",
       "      <td>72</td>\n",
       "      <td>95</td>\n",
       "      <td>80</td>\n",
       "      <td>96</td>\n",
       "      <td>...</td>\n",
       "      <td>No</td>\n",
       "      <td>Yes</td>\n",
       "      <td>Cover LB</td>\n",
       "      <td>Disciplined</td>\n",
       "      <td>Aggressive</td>\n",
       "      <td>No</td>\n",
       "      <td>Ht: 6' 0\" Wt: 245</td>\n",
       "      <td>98</td>\n",
       "      <td>MLB</td>\n",
       "      <td>Seattle Seahawks</td>\n",
       "    </tr>\n",
       "    <tr>\n",
       "      <th>Willie McGinest</th>\n",
       "      <td>88</td>\n",
       "      <td>80</td>\n",
       "      <td>97</td>\n",
       "      <td>92</td>\n",
       "      <td>61</td>\n",
       "      <td>67</td>\n",
       "      <td>92</td>\n",
       "      <td>78</td>\n",
       "      <td>75</td>\n",
       "      <td>91</td>\n",
       "      <td>...</td>\n",
       "      <td>No</td>\n",
       "      <td>Yes</td>\n",
       "      <td>Balanced</td>\n",
       "      <td>Norma</td>\n",
       "      <td>Balanced</td>\n",
       "      <td>Yes</td>\n",
       "      <td>Ht: 6' 5\" Wt: 270</td>\n",
       "      <td>97</td>\n",
       "      <td>ROLB</td>\n",
       "      <td>New England Patriots</td>\n",
       "    </tr>\n",
       "    <tr>\n",
       "      <th>Derrick Brooks</th>\n",
       "      <td>91</td>\n",
       "      <td>88</td>\n",
       "      <td>95</td>\n",
       "      <td>84</td>\n",
       "      <td>69</td>\n",
       "      <td>82</td>\n",
       "      <td>83</td>\n",
       "      <td>81</td>\n",
       "      <td>82</td>\n",
       "      <td>87</td>\n",
       "      <td>...</td>\n",
       "      <td>No</td>\n",
       "      <td>Yes</td>\n",
       "      <td>Balanced</td>\n",
       "      <td>Norma</td>\n",
       "      <td>Balanced</td>\n",
       "      <td>No</td>\n",
       "      <td>Ht: 6' 0\" Wt: 235</td>\n",
       "      <td>96</td>\n",
       "      <td>ROLB</td>\n",
       "      <td>Tampa Bay Buccaneers</td>\n",
       "    </tr>\n",
       "    <tr>\n",
       "      <th>Justin Houston</th>\n",
       "      <td>89</td>\n",
       "      <td>86</td>\n",
       "      <td>95</td>\n",
       "      <td>93</td>\n",
       "      <td>28</td>\n",
       "      <td>52</td>\n",
       "      <td>93</td>\n",
       "      <td>78</td>\n",
       "      <td>68</td>\n",
       "      <td>92</td>\n",
       "      <td>...</td>\n",
       "      <td>Yes</td>\n",
       "      <td>Yes</td>\n",
       "      <td>Pass Rush</td>\n",
       "      <td>Disciplined</td>\n",
       "      <td>Conservative</td>\n",
       "      <td>Yes</td>\n",
       "      <td>Ht: 6' 3\" Wt: 258</td>\n",
       "      <td>96</td>\n",
       "      <td>LOLB</td>\n",
       "      <td>Kansas City Chiefs</td>\n",
       "    </tr>\n",
       "    <tr>\n",
       "      <th>Darius Leonard</th>\n",
       "      <td>91</td>\n",
       "      <td>88</td>\n",
       "      <td>90</td>\n",
       "      <td>89</td>\n",
       "      <td>60</td>\n",
       "      <td>74</td>\n",
       "      <td>87</td>\n",
       "      <td>94</td>\n",
       "      <td>78</td>\n",
       "      <td>90</td>\n",
       "      <td>...</td>\n",
       "      <td>Yes</td>\n",
       "      <td>Yes</td>\n",
       "      <td>Balanced</td>\n",
       "      <td>Norma</td>\n",
       "      <td>Balanced</td>\n",
       "      <td>Yes</td>\n",
       "      <td>Ht: 6' 2\" Wt: 234</td>\n",
       "      <td>96</td>\n",
       "      <td>ROLB</td>\n",
       "      <td>Indianapolis Colts</td>\n",
       "    </tr>\n",
       "  </tbody>\n",
       "</table>\n",
       "<p>5 rows × 33 columns</p>\n",
       "</div>"
      ],
      "text/plain": [
       "                 ACC  AGI  AWR  BKS  CIT  CTH  FNM  JMP  MCV  POW  \\\n",
       "Bobby Wagner      93   89   98   93   58   81   72   95   80   96   \n",
       "Willie McGinest   88   80   97   92   61   67   92   78   75   91   \n",
       "Derrick Brooks    91   88   95   84   69   82   83   81   82   87   \n",
       "Justin Houston    89   86   95   93   28   52   93   78   68   92   \n",
       "Darius Leonard    91   88   90   89   60   74   87   94   78   90   \n",
       "\n",
       "                         ...           DL Swim Move  High Motor   LB Style  \\\n",
       "Bobby Wagner             ...                     No         Yes   Cover LB   \n",
       "Willie McGinest          ...                     No         Yes   Balanced   \n",
       "Derrick Brooks           ...                     No         Yes   Balanced   \n",
       "Justin Houston           ...                    Yes         Yes  Pass Rush   \n",
       "Darius Leonard           ...                    Yes         Yes   Balanced   \n",
       "\n",
       "                     Penalty  Plays Ball in Air  Strips Ball  \\\n",
       "Bobby Wagner     Disciplined         Aggressive           No   \n",
       "Willie McGinest        Norma           Balanced          Yes   \n",
       "Derrick Brooks         Norma           Balanced           No   \n",
       "Justin Houston   Disciplined       Conservative          Yes   \n",
       "Darius Leonard         Norma           Balanced          Yes   \n",
       "\n",
       "                              HtWt  OVR  Position                  Team  \n",
       "Bobby Wagner     Ht: 6' 0\" Wt: 245   98       MLB      Seattle Seahawks  \n",
       "Willie McGinest  Ht: 6' 5\" Wt: 270   97      ROLB  New England Patriots  \n",
       "Derrick Brooks   Ht: 6' 0\" Wt: 235   96      ROLB  Tampa Bay Buccaneers  \n",
       "Justin Houston   Ht: 6' 3\" Wt: 258   96      LOLB    Kansas City Chiefs  \n",
       "Darius Leonard   Ht: 6' 2\" Wt: 234   96      ROLB    Indianapolis Colts  \n",
       "\n",
       "[5 rows x 33 columns]"
      ]
     },
     "execution_count": 6,
     "metadata": {},
     "output_type": "execute_result"
    }
   ],
   "source": [
    "pdf = ph.player_df\n",
    "pdf.head()"
   ]
  },
  {
   "cell_type": "code",
   "execution_count": 14,
   "metadata": {
    "collapsed": true
   },
   "outputs": [],
   "source": [
    "# height\n",
    "htwt = pdf['HtWt'].str.split('Wt: ')\n",
    "ht = htwt.map(lambda x: x[0])\n",
    "wt = htwt.map(lambda x: x[1])\n",
    "\n",
    "ht2 = ht.str.lstrip('Ht: ').str.rstrip('\" ').str.split(\"' \")\n",
    "pdf['Ht'] = ht2.map(lambda x: int(x[0]) * 12 + int(x[1].strip()))\n",
    "pdf['Wt'] = wt.astype(int)\n",
    "pdf['OVR'] = pdf['OVR'].astype(int)\n",
    "\n",
    "lb_groups = pdf.groupby('Position')\n",
    "\n",
    "df_dict = {}\n",
    "\n",
    "for name, group in lb_groups:\n",
    "    df_dict.update({name: group})"
   ]
  },
  {
   "cell_type": "code",
   "execution_count": 44,
   "metadata": {
    "collapsed": true
   },
   "outputs": [],
   "source": [
    "pdf.to_csv('mut19_linebackers_jan19.csv')"
   ]
  },
  {
   "cell_type": "code",
   "execution_count": 30,
   "metadata": {
    "collapsed": true
   },
   "outputs": [],
   "source": [
    "def attribute_restriction(dat, attrib, rating):\n",
    "    df = dat.copy()\n",
    "    df = df[ df[attrib] >= rating]\n",
    "    return df"
   ]
  },
  {
   "cell_type": "code",
   "execution_count": 40,
   "metadata": {
    "collapsed": true
   },
   "outputs": [],
   "source": [
    "pdf2 = attribute_restriction(pdf, 'AGI', 87)\n",
    "pdf2 = attribute_restriction(pdf2, 'SPD', 85)\n",
    "\n",
    "df = pdf2\n",
    "\n",
    "color_map = {'ROLB': 'rgb(230,0,230)', 'MLB': 'rgb(230,230,230)', 'LOLB': 'rgb(240,5,30)'}\n",
    "\n",
    "attrib_list = ['SPD', 'Ht', 'AGI', 'JMP']\n",
    "\n",
    "def get_trace(pos):\n",
    "    df0 = df_dict.get(pos)\n",
    "\n",
    "    trace = go.Splom(dimensions=[dict(label=attrib, values=df0[attrib]) for attrib in attrib_list],\n",
    "                text=df0.index.values,\n",
    "                name=pos,\n",
    "                marker=dict(size=6,\n",
    "                            showscale=False,\n",
    "                            line=dict(width=0.5,\n",
    "                                      color=color_map.get(pos)))\n",
    "                )\n",
    "    return trace"
   ]
  },
  {
   "cell_type": "code",
   "execution_count": null,
   "metadata": {
    "collapsed": true
   },
   "outputs": [],
   "source": []
  },
  {
   "cell_type": "code",
   "execution_count": 45,
   "metadata": {
    "scrolled": false
   },
   "outputs": [
    {
     "data": {
      "text/html": [
       "<iframe id=\"igraph\" scrolling=\"no\" style=\"border:none;\" seamless=\"seamless\" src=\"https://plot.ly/~perronfrobenius/118.embed\" height=\"800px\" width=\"1000px\"></iframe>"
      ],
      "text/plain": [
       "<plotly.tools.PlotlyDisplay object>"
      ]
     },
     "execution_count": 45,
     "metadata": {},
     "output_type": "execute_result"
    }
   ],
   "source": [
    "# Trace\n",
    "trace0 = get_trace('ROLB')\n",
    "trace1 = get_trace('MLB')\n",
    "trace2 = get_trace('LOLB')\n",
    "traces = [trace0, trace1, trace2]\n",
    "\n",
    "# Axis\n",
    "axis = dict(showline=True,\n",
    "          zeroline=False,\n",
    "          gridcolor='#fff',\n",
    "          ticklen=4)\n",
    "\n",
    "layout = go.Layout(\n",
    "    title='MUT19 Offensive Lineman (90+ OVR)',\n",
    "    dragmode='select',\n",
    "    width=1000,\n",
    "    height=800,\n",
    "    autosize=False,\n",
    "    hovermode='closest',\n",
    "    plot_bgcolor='rgba(240,240,240, 0.95)',\n",
    "    xaxis1=dict(axis), xaxis2=dict(axis), xaxis3=dict(axis), xaxis4=dict(axis),\n",
    "    xaxis5=dict(axis), #xaxis6=dict(axis), xaxis7=dict(axis), xaxis8=dict(axis),\n",
    "    yaxis1=dict(axis), yaxis2=dict(axis), yaxis3=dict(axis), yaxis4=dict(axis),\n",
    "    yaxis5=dict(axis), #yaxis6=dict(axis), yaxis7=dict(axis), yaxis8=dict(axis)\n",
    ")\n",
    "\n",
    "for trace in traces:\n",
    "    trace['diagonal'].update(visible=False)\n",
    "    trace['showupperhalf']=False\n",
    "\n",
    "fig = dict(data=traces, layout=layout)\n",
    "\n",
    "py.iplot(fig)"
   ]
  },
  {
   "cell_type": "code",
   "execution_count": null,
   "metadata": {
    "collapsed": true
   },
   "outputs": [],
   "source": []
  },
  {
   "cell_type": "code",
   "execution_count": 39,
   "metadata": {},
   "outputs": [
    {
     "data": {
      "text/html": [
       "<iframe id=\"igraph\" scrolling=\"no\" style=\"border:none;\" seamless=\"seamless\" src=\"https://plot.ly/~perronfrobenius/96.embed\" height=\"800px\" width=\"1000px\"></iframe>"
      ],
      "text/plain": [
       "<plotly.tools.PlotlyDisplay object>"
      ]
     },
     "execution_count": 39,
     "metadata": {},
     "output_type": "execute_result"
    }
   ],
   "source": [
    "\n",
    "f = go.FigureWidget(data=fig['data'], layout=fig['layout'])\n",
    "\n",
    "slider = widgets.IntSlider(\n",
    "    value=90,\n",
    "    min=89,\n",
    "    max=99,\n",
    "    step=1,\n",
    "    description='SPD',\n",
    "    disabled=False,\n",
    "    continuous_update=False,\n",
    "    orientation='horizontal',\n",
    "    readout=True,\n",
    "    readout_format='d'\n",
    ")\n",
    "\n",
    "\n",
    "slider.layout.width = '600px'\n",
    "\n",
    "def update_range():\n",
    "    f.data[0].z = np.cos(x * yt * frequency / 10.0) + np.sin(x * yt * frequency / 10.0) * 2\n",
    "\n",
    "\n",
    "# display the FigureWidget and slider with center justification\n",
    "vb = VBox((f, interactive(update_range, y=slider)))\n",
    "vb.layout.align_items = 'center'\n",
    "vb\n",
    "'''\n",
    "py.iplot(fig)"
   ]
  },
  {
   "cell_type": "code",
   "execution_count": null,
   "metadata": {
    "collapsed": true
   },
   "outputs": [],
   "source": []
  }
 ],
 "metadata": {
  "kernelspec": {
   "display_name": "Python 3",
   "language": "python",
   "name": "python3"
  },
  "language_info": {
   "codemirror_mode": {
    "name": "ipython",
    "version": 3
   },
   "file_extension": ".py",
   "mimetype": "text/x-python",
   "name": "python",
   "nbconvert_exporter": "python",
   "pygments_lexer": "ipython3",
   "version": "3.6.3"
  }
 },
 "nbformat": 4,
 "nbformat_minor": 2
}
