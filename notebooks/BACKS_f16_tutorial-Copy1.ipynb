{
 "cells": [
  {
   "cell_type": "markdown",
   "metadata": {},
   "source": [
    "# MUT Scraper\n",
    "### A short tutorial for the MUTScraper module with visualizations in Plotly\n",
    "#### Matt Johnson Jan 20, 2019\n",
    "\n",
    "-------------\n",
    "\n",
    "Available Position Options:\n",
    "- WR\n",
    "- RB\n",
    "- QB\n",
    "- FB\n",
    "- TE\n",
    "- BACKS (RB, FB)\n",
    "- OL (LT, LG, C, RG, RT)\n",
    "- DB (SS, FS, CB)\n",
    "- LB (ROLB, MLB, LOLB)\n",
    "- DL (RE, DT, LE)\n",
    "- ST (K, P)"
   ]
  },
  {
   "cell_type": "code",
   "execution_count": 1,
   "metadata": {},
   "outputs": [
    {
     "name": "stdout",
     "output_type": "stream",
     "text": [
      "Choices: ['WR', 'RB', 'QB', 'FB', 'BACKS', 'TE', 'OL', 'DB', 'LB', 'DL', 'ST']\n"
     ]
    }
   ],
   "source": [
    "# Import Libraries\n",
    "%matplotlib inline\n",
    "%load_ext autoreload\n",
    "%autoreload 2\n",
    "import pandas as pd\n",
    "import matplotlib.pyplot as plt\n",
    "import plotly as py\n",
    "import plotly.plotly as py\n",
    "import plotly.graph_objs as go\n",
    "from ipywidgets import interactive, HBox, VBox, widgets, interact\n",
    "from MUTScraper import Player, PlayerHandler"
   ]
  },
  {
   "cell_type": "markdown",
   "metadata": {},
   "source": [
    "#### Input position, minimum overall, and date:\n",
    "Click the link and get the number of pages (TODO: this is not great, fix).\n",
    "\n",
    "Here we have chosen to look at Defensive Line (DL) players:"
   ]
  },
  {
   "cell_type": "code",
   "execution_count": 2,
   "metadata": {},
   "outputs": [
    {
     "name": "stdout",
     "output_type": "stream",
     "text": [
      "Retrieve the number of pages...\n",
      "https://www.muthead.com/19/players?filter-market=3&filter-ovr-min=90&filter-position=6&page=1\n"
     ]
    }
   ],
   "source": [
    "ph = PlayerHandler(position='BACKS', min_ovr=90, date='feb16')"
   ]
  },
  {
   "cell_type": "markdown",
   "metadata": {},
   "source": [
    "#### Start Scraping\n",
    "Calling handle_players(pages=numberOfPages) starts the scraping process:"
   ]
  },
  {
   "cell_type": "code",
   "execution_count": 3,
   "metadata": {},
   "outputs": [
    {
     "name": "stdout",
     "output_type": "stream",
     "text": [
      " 100 player links gathered.\n"
     ]
    }
   ],
   "source": [
    "ph.handle_players(pages=4)"
   ]
  },
  {
   "cell_type": "markdown",
   "metadata": {},
   "source": [
    "#### Data\n",
    "We now have the defensive attributes and traits for the players.<br>\n",
    "Here is the DataFrame holding the player data:"
   ]
  },
  {
   "cell_type": "code",
   "execution_count": 4,
   "metadata": {},
   "outputs": [
    {
     "name": "stdout",
     "output_type": "stream",
     "text": [
      "Available Positions: ['WR', 'RB', 'QB', 'FB', 'BACKS', 'TE', 'OL', 'DB', 'LB', 'DL', 'ST']\n"
     ]
    },
    {
     "data": {
      "text/html": [
       "<div>\n",
       "<style scoped>\n",
       "    .dataframe tbody tr th:only-of-type {\n",
       "        vertical-align: middle;\n",
       "    }\n",
       "\n",
       "    .dataframe tbody tr th {\n",
       "        vertical-align: top;\n",
       "    }\n",
       "\n",
       "    .dataframe thead th {\n",
       "        text-align: right;\n",
       "    }\n",
       "</style>\n",
       "<table border=\"1\" class=\"dataframe\">\n",
       "  <thead>\n",
       "    <tr style=\"text-align: right;\">\n",
       "      <th></th>\n",
       "      <th>ACC</th>\n",
       "      <th>AGI</th>\n",
       "      <th>AWR</th>\n",
       "      <th>BCV</th>\n",
       "      <th>BTK</th>\n",
       "      <th>CAR</th>\n",
       "      <th>CIT</th>\n",
       "      <th>CTH</th>\n",
       "      <th>DRR</th>\n",
       "      <th>ELU</th>\n",
       "      <th>...</th>\n",
       "      <th>Makes Possession Catche</th>\n",
       "      <th>Makes RAC Catche</th>\n",
       "      <th>Makes Sideline Catche</th>\n",
       "      <th>Penalty</th>\n",
       "      <th>HtWt</th>\n",
       "      <th>OVR</th>\n",
       "      <th>Position</th>\n",
       "      <th>Team</th>\n",
       "      <th>Ht</th>\n",
       "      <th>Wt</th>\n",
       "    </tr>\n",
       "  </thead>\n",
       "  <tbody>\n",
       "    <tr>\n",
       "      <th>Saquon Barkley</th>\n",
       "      <td>96</td>\n",
       "      <td>97</td>\n",
       "      <td>0</td>\n",
       "      <td>85</td>\n",
       "      <td>93</td>\n",
       "      <td>97</td>\n",
       "      <td>79</td>\n",
       "      <td>80</td>\n",
       "      <td>70</td>\n",
       "      <td>90</td>\n",
       "      <td>...</td>\n",
       "      <td>No</td>\n",
       "      <td>No</td>\n",
       "      <td>No</td>\n",
       "      <td>Norma</td>\n",
       "      <td>Ht: 5' 11\" Wt: 233</td>\n",
       "      <td>98</td>\n",
       "      <td>HB</td>\n",
       "      <td>New York Giants</td>\n",
       "      <td>71</td>\n",
       "      <td>233</td>\n",
       "    </tr>\n",
       "    <tr>\n",
       "      <th>Saquon Barkley</th>\n",
       "      <td>96</td>\n",
       "      <td>97</td>\n",
       "      <td>0</td>\n",
       "      <td>85</td>\n",
       "      <td>93</td>\n",
       "      <td>97</td>\n",
       "      <td>79</td>\n",
       "      <td>80</td>\n",
       "      <td>70</td>\n",
       "      <td>90</td>\n",
       "      <td>...</td>\n",
       "      <td>No</td>\n",
       "      <td>No</td>\n",
       "      <td>No</td>\n",
       "      <td>Norma</td>\n",
       "      <td>Ht: 5' 11\" Wt: 233</td>\n",
       "      <td>98</td>\n",
       "      <td>HB</td>\n",
       "      <td>New York Giants</td>\n",
       "      <td>71</td>\n",
       "      <td>233</td>\n",
       "    </tr>\n",
       "    <tr>\n",
       "      <th>Todd Gurley II</th>\n",
       "      <td>95</td>\n",
       "      <td>96</td>\n",
       "      <td>0</td>\n",
       "      <td>97</td>\n",
       "      <td>96</td>\n",
       "      <td>97</td>\n",
       "      <td>68</td>\n",
       "      <td>77</td>\n",
       "      <td>52</td>\n",
       "      <td>96</td>\n",
       "      <td>...</td>\n",
       "      <td>No</td>\n",
       "      <td>No</td>\n",
       "      <td>No</td>\n",
       "      <td>Norma</td>\n",
       "      <td>Ht: 6' 1\" Wt: 227</td>\n",
       "      <td>98</td>\n",
       "      <td>HB</td>\n",
       "      <td>Los Angeles Rams</td>\n",
       "      <td>73</td>\n",
       "      <td>227</td>\n",
       "    </tr>\n",
       "    <tr>\n",
       "      <th>Mike Alstott</th>\n",
       "      <td>90</td>\n",
       "      <td>86</td>\n",
       "      <td>96</td>\n",
       "      <td>95</td>\n",
       "      <td>84</td>\n",
       "      <td>96</td>\n",
       "      <td>84</td>\n",
       "      <td>86</td>\n",
       "      <td>63</td>\n",
       "      <td>69</td>\n",
       "      <td>...</td>\n",
       "      <td>No</td>\n",
       "      <td>No</td>\n",
       "      <td>No</td>\n",
       "      <td>Norma</td>\n",
       "      <td>Ht: 6' 1\" Wt: 248</td>\n",
       "      <td>97</td>\n",
       "      <td>FB</td>\n",
       "      <td>Tampa Bay Buccaneers</td>\n",
       "      <td>73</td>\n",
       "      <td>248</td>\n",
       "    </tr>\n",
       "    <tr>\n",
       "      <th>Franco Harris</th>\n",
       "      <td>93</td>\n",
       "      <td>90</td>\n",
       "      <td>97</td>\n",
       "      <td>97</td>\n",
       "      <td>91</td>\n",
       "      <td>96</td>\n",
       "      <td>82</td>\n",
       "      <td>84</td>\n",
       "      <td>76</td>\n",
       "      <td>87</td>\n",
       "      <td>...</td>\n",
       "      <td>No</td>\n",
       "      <td>No</td>\n",
       "      <td>Yes</td>\n",
       "      <td>Norma</td>\n",
       "      <td>Ht: 6' 2\" Wt: 230</td>\n",
       "      <td>97</td>\n",
       "      <td>FB</td>\n",
       "      <td>Pittsburgh Steelers</td>\n",
       "      <td>74</td>\n",
       "      <td>230</td>\n",
       "    </tr>\n",
       "  </tbody>\n",
       "</table>\n",
       "<p>5 rows × 44 columns</p>\n",
       "</div>"
      ],
      "text/plain": [
       "                ACC  AGI  AWR  BCV  BTK  CAR  CIT  CTH  DRR  ELU ...   \\\n",
       "Saquon Barkley   96   97    0   85   93   97   79   80   70   90 ...    \n",
       "Saquon Barkley   96   97    0   85   93   97   79   80   70   90 ...    \n",
       "Todd Gurley II   95   96    0   97   96   97   68   77   52   96 ...    \n",
       "Mike Alstott     90   86   96   95   84   96   84   86   63   69 ...    \n",
       "Franco Harris    93   90   97   97   91   96   82   84   76   87 ...    \n",
       "\n",
       "                Makes Possession Catche  Makes RAC Catche  \\\n",
       "Saquon Barkley                       No                No   \n",
       "Saquon Barkley                       No                No   \n",
       "Todd Gurley II                       No                No   \n",
       "Mike Alstott                         No                No   \n",
       "Franco Harris                        No                No   \n",
       "\n",
       "                Makes Sideline Catche  Penalty                HtWt  OVR  \\\n",
       "Saquon Barkley                     No    Norma  Ht: 5' 11\" Wt: 233   98   \n",
       "Saquon Barkley                     No    Norma  Ht: 5' 11\" Wt: 233   98   \n",
       "Todd Gurley II                     No    Norma   Ht: 6' 1\" Wt: 227   98   \n",
       "Mike Alstott                       No    Norma   Ht: 6' 1\" Wt: 248   97   \n",
       "Franco Harris                     Yes    Norma   Ht: 6' 2\" Wt: 230   97   \n",
       "\n",
       "                Position                  Team  Ht   Wt  \n",
       "Saquon Barkley        HB       New York Giants  71  233  \n",
       "Saquon Barkley        HB       New York Giants  71  233  \n",
       "Todd Gurley II        HB      Los Angeles Rams  73  227  \n",
       "Mike Alstott          FB  Tampa Bay Buccaneers  73  248  \n",
       "Franco Harris         FB   Pittsburgh Steelers  74  230  \n",
       "\n",
       "[5 rows x 44 columns]"
      ]
     },
     "execution_count": 4,
     "metadata": {},
     "output_type": "execute_result"
    }
   ],
   "source": [
    "pdf = ph.player_df\n",
    "pdf.head()"
   ]
  },
  {
   "cell_type": "markdown",
   "metadata": {},
   "source": [
    "#### Variables"
   ]
  },
  {
   "cell_type": "code",
   "execution_count": 5,
   "metadata": {},
   "outputs": [
    {
     "name": "stdout",
     "output_type": "stream",
     "text": [
      "Index([ACC, AGI, AWR, BCV, BTK, CAR, CIT, CTH, DRR, ELU, IBL, JKM, JMP, LBK,\n",
      "       MRR, PBF, PBK, PBP, RBF, RBK, RBP, SFA, SPC, SPD, SPM, SRR, STR, TRK,\n",
      "       'Clutch', 'Covers Ball', 'Drops Open Passe', 'Fights for Extra Yard',\n",
      "       'High Motor', 'Makes Aggressive Catche', 'Makes Possession Catche',\n",
      "       'Makes RAC Catche', 'Makes Sideline Catche', 'Penalty', 'HtWt', 'OVR',\n",
      "       'Position', 'Team', 'Ht', 'Wt'],\n",
      "      dtype='object')\n"
     ]
    }
   ],
   "source": [
    "print(pdf.columns)"
   ]
  },
  {
   "cell_type": "code",
   "execution_count": 6,
   "metadata": {},
   "outputs": [
    {
     "data": {
      "text/plain": [
       "(100, 44)"
      ]
     },
     "execution_count": 6,
     "metadata": {},
     "output_type": "execute_result"
    }
   ],
   "source": [
    "pdf.shape"
   ]
  },
  {
   "cell_type": "code",
   "execution_count": 7,
   "metadata": {
    "collapsed": true
   },
   "outputs": [
    {
     "data": {
      "text/plain": [
       "ACC                         int64\n",
       "AGI                         int64\n",
       "AWR                         int64\n",
       "BCV                         int64\n",
       "BTK                         int64\n",
       "CAR                         int64\n",
       "CIT                         int64\n",
       "CTH                         int64\n",
       "DRR                         int64\n",
       "ELU                         int64\n",
       "IBL                         int64\n",
       "JKM                         int64\n",
       "JMP                         int64\n",
       "LBK                         int64\n",
       "MRR                         int64\n",
       "PBF                         int64\n",
       "PBK                         int64\n",
       "PBP                         int64\n",
       "RBF                         int64\n",
       "RBK                         int64\n",
       "RBP                         int64\n",
       "SFA                         int64\n",
       "SPC                         int64\n",
       "SPD                         int64\n",
       "SPM                         int64\n",
       "SRR                         int64\n",
       "STR                         int64\n",
       "TRK                         int64\n",
       "Clutch                     object\n",
       "Covers Ball                object\n",
       "Drops Open Passe           object\n",
       "Fights for Extra Yard      object\n",
       "High Motor                 object\n",
       "Makes Aggressive Catche    object\n",
       "Makes Possession Catche    object\n",
       "Makes RAC Catche           object\n",
       "Makes Sideline Catche      object\n",
       "Penalty                    object\n",
       "HtWt                       object\n",
       "OVR                         int64\n",
       "Position                   object\n",
       "Team                       object\n",
       "Ht                          int64\n",
       "Wt                          int64\n",
       "dtype: object"
      ]
     },
     "execution_count": 7,
     "metadata": {},
     "output_type": "execute_result"
    }
   ],
   "source": [
    "pdf.dtypes"
   ]
  },
  {
   "cell_type": "code",
   "execution_count": 13,
   "metadata": {},
   "outputs": [
    {
     "data": {
      "image/png": "[encoded data removed]",
      "text/plain": [
       "<Figure size 1080x360 with 1 Axes>"
      ]
     },
     "metadata": {},
     "output_type": "display_data"
    }
   ],
   "source": [
    "import seaborn as sns\n",
    "\n",
    "plt.subplots(figsize=(15,5))\n",
    "\n",
    "sns.distplot(pdf['SPD'], bins=20);\n",
    "\n",
    "sns.distplot(pdf['TRK'], bins=20);\n",
    "\n",
    "sns.distplot(pdf['BTK'], bins=20);"
   ]
  },
  {
   "cell_type": "markdown",
   "metadata": {},
   "source": [
    "Grouping players by position:"
   ]
  },
  {
   "cell_type": "code",
   "execution_count": 14,
   "metadata": {
    "collapsed": true
   },
   "outputs": [],
   "source": [
    "position_groups = pdf.groupby('Position')\n",
    "\n",
    "df_dict = {}\n",
    "\n",
    "for name, group in position_groups:\n",
    "    df_dict.update({name: group})"
   ]
  },
  {
   "cell_type": "markdown",
   "metadata": {},
   "source": [
    "Method for filtering dataframe by an attributes rating:"
   ]
  },
  {
   "cell_type": "code",
   "execution_count": 15,
   "metadata": {
    "collapsed": true
   },
   "outputs": [],
   "source": [
    "def attribute_restriction(dat, attrib, rating):\n",
    "    df = dat.copy()\n",
    "    df = df[ df[attrib] >= rating]\n",
    "    return df"
   ]
  },
  {
   "cell_type": "code",
   "execution_count": 33,
   "metadata": {
    "collapsed": true
   },
   "outputs": [],
   "source": [
    "restrict_dict = {'BTK': 80, 'ELU': 60}\n",
    "\n",
    "for k, v in df_dict.items():\n",
    "    for attrib, rating in restrict_dict.items():\n",
    "        df_dict.update({k: attribute_restriction(v, attrib, rating)})"
   ]
  },
  {
   "cell_type": "markdown",
   "metadata": {},
   "source": [
    "### Visualization with Plotly "
   ]
  },
  {
   "cell_type": "code",
   "execution_count": 30,
   "metadata": {},
   "outputs": [],
   "source": [
    "color_map = {'RB': 'rgb(230,0,230)', 'FB': 'rgb(230,230,230)'}\n",
    "\n",
    "attrib_list = ['SPD', 'BTK', 'TRK', 'Wt', 'AGI', 'ELU', 'SFA', 'Ht']\n",
    "\n",
    "def get_trace(pos, df0):\n",
    "\n",
    "    trace = go.Splom(dimensions=[dict(label=attrib, values=df0[attrib]) for attrib in attrib_list],\n",
    "                text=df0.index.values,\n",
    "                name=pos,\n",
    "                marker=dict(size=5,\n",
    "                            showscale=False,\n",
    "                            line=dict(width=0.5,\n",
    "                                      color=color_map.get(pos)))\n",
    "                )\n",
    "    return trace"
   ]
  },
  {
   "cell_type": "code",
   "execution_count": 34,
   "metadata": {
    "scrolled": false
   },
   "outputs": [
    {
     "data": {
      "text/html": [
       "<iframe id=\"igraph\" scrolling=\"no\" style=\"border:none;\" seamless=\"seamless\" src=\"https://plot.ly/~perronfrobenius/136.embed\" height=\"800px\" width=\"1000px\"></iframe>"
      ],
      "text/plain": [
       "<plotly.tools.PlotlyDisplay object>"
      ]
     },
     "execution_count": 34,
     "metadata": {},
     "output_type": "execute_result"
    }
   ],
   "source": [
    "# Trace\n",
    "traces = []\n",
    "\n",
    "for pos in ['HB', 'FB']:\n",
    "    traces.append( get_trace(pos, df_dict.get(pos)))\n",
    "\n",
    "# Axis\n",
    "axis = dict(showline=True,\n",
    "          zeroline=False,\n",
    "          gridcolor='#fff',\n",
    "          ticklen=4)\n",
    "\n",
    "layout = go.Layout(\n",
    "    title='MUT19 RBs/FBs (90+ OVR)',\n",
    "    dragmode='select',\n",
    "    width=1000,\n",
    "    height=800,\n",
    "    autosize=False,\n",
    "    hovermode='closest',\n",
    "    plot_bgcolor='rgba(240,240,240, 0.95)',\n",
    "    xaxis1=dict(axis), xaxis2=dict(axis), xaxis3=dict(axis), xaxis4=dict(axis),\n",
    "    xaxis5=dict(axis), xaxis6=dict(axis), xaxis7=dict(axis), xaxis8=dict(axis),\n",
    "    yaxis1=dict(axis), yaxis2=dict(axis), yaxis3=dict(axis), yaxis4=dict(axis),\n",
    "    yaxis5=dict(axis), yaxis6=dict(axis), yaxis7=dict(axis), yaxis8=dict(axis)\n",
    ")\n",
    "\n",
    "for trace in traces:\n",
    "    trace['diagonal'].update(visible=False)\n",
    "    trace['showupperhalf']=False\n",
    "\n",
    "fig = dict(data=traces, layout=layout)\n",
    "\n",
    "py.iplot(fig)"
   ]
  },
  {
   "cell_type": "markdown",
   "metadata": {},
   "source": [
    "### Correlation between Variables:\n",
    "We can see a correlation of 1 between PRC and AWR and -0.8 between SPD and Wt."
   ]
  },
  {
   "cell_type": "code",
   "execution_count": 39,
   "metadata": {},
   "outputs": [
    {
     "data": {
      "image/png": "[encoded data removed]",
      "text/plain": [
       "<Figure size 864x720 with 2 Axes>"
      ]
     },
     "metadata": {},
     "output_type": "display_data"
    }
   ],
   "source": [
    "plt.subplots(figsize=(12,10))\n",
    "cols = ['ACC', 'AGI', 'BTK', 'CAR', 'ELU', 'BTK', 'TRK', 'Wt', 'STR']\n",
    "sns.heatmap(pdf[cols].corr(), annot=True);"
   ]
  },
  {
   "cell_type": "code",
   "execution_count": null,
   "metadata": {
    "collapsed": true
   },
   "outputs": [],
   "source": []
  }
 ],
 "metadata": {
  "kernelspec": {
   "display_name": "Python 3",
   "language": "python",
   "name": "python3"
  },
  "language_info": {
   "codemirror_mode": {
    "name": "ipython",
    "version": 3
   },
   "file_extension": ".py",
   "mimetype": "text/x-python",
   "name": "python",
   "nbconvert_exporter": "python",
   "pygments_lexer": "ipython3",
   "version": "3.6.3"
  }
 },
 "nbformat": 4,
 "nbformat_minor": 2
}
