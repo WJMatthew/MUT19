{
 "cells": [
  {
   "cell_type": "code",
   "execution_count": 1,
   "metadata": {
    "collapsed": true
   },
   "outputs": [],
   "source": [
    "import bleach\n",
    "from markdown import markdown\n",
    "\n",
    "def htmlize(text):\n",
    "    \"\"\"\n",
    "    This helper method renders Markdown then uses Bleach to sanitize it as\n",
    "    well as converting all links in text to actual anchor tags.\n",
    "    \"\"\"\n",
    "    text = bleach.clean(text, strip=True)    # Clean the text by stripping bad HTML tags\n",
    "    text = markdown(text)                    # Convert the markdown to HTML\n",
    "    text = bleach.linkify(text)              # Add links from the text and add nofollow to existing links\n",
    "\n",
    "    return text"
   ]
  },
  {
   "cell_type": "code",
   "execution_count": 5,
   "metadata": {},
   "outputs": [],
   "source": [
    "with open('/Users/mattjohnson/Downloads/powerup_analysis-nov2/powerup_analysis-nov2.md', 'r') as f:\n",
    "    #print (htmlize(f.read()))\n",
    "    \n",
    "    with open('new_file.md', 'w') as f2:\n",
    "        f2.write(htmlize(f.read()))\n"
   ]
  },
  {
   "cell_type": "code",
   "execution_count": 14,
   "metadata": {},
   "outputs": [],
   "source": [
    "styles = ['<style>', '</style>']\n",
    "\n",
    "with open('/Users/mattjohnson/Downloads/powerup_analysis-nov2/powerup_analysis-nov2.md', 'r') as f:\n",
    "    s = f.read().split(styles[0])\n",
    "    with open('new_markdown.md', 'w') as f2:\n",
    "        f2.write('\\n'.join(s))"
   ]
  },
  {
   "cell_type": "code",
   "execution_count": null,
   "metadata": {},
   "outputs": [],
   "source": []
  },
  {
   "cell_type": "code",
   "execution_count": null,
   "metadata": {
    "collapsed": true
   },
   "outputs": [],
   "source": []
  }
 ],
 "metadata": {
  "kernelspec": {
   "display_name": "Python 3",
   "language": "python",
   "name": "python3"
  },
  "language_info": {
   "codemirror_mode": {
    "name": "ipython",
    "version": 3
   },
   "file_extension": ".py",
   "mimetype": "text/x-python",
   "name": "python",
   "nbconvert_exporter": "python",
   "pygments_lexer": "ipython3",
   "version": "3.6.3"
  }
 },
 "nbformat": 4,
 "nbformat_minor": 2
}
