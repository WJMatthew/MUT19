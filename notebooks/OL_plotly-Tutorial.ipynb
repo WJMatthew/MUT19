{
 "cells": [
  {
   "cell_type": "markdown",
   "metadata": {
    "collapsed": true
   },
   "source": [
    "# MUT Scraper\n",
    "### A short tutorial for using the MUTScraper module\n",
    "#### Matt Johnson. (last updated July 5, 2019)\n",
    "\n",
    "-------------\n",
    "\n",
    "Scrape and save data from desired positions by inputing one of the following position options and a minimum overall to filter for.\n",
    "\n",
    "Scraped data included player ratings and traits and is saved to a csv file.\n",
    "\n",
    "Available Position Options:\n",
    "- WR\n",
    "- RB\n",
    "- QB\n",
    "- FB\n",
    "- TE\n",
    "- OL (LT, LG, C, RG, RT)\n",
    "- DB (SS, FS, CB)\n",
    "- LB (ROLB, MLB, LOLB)\n",
    "- DL (RE, DT, LE)\n",
    "- ST (K, P)"
   ]
  },
  {
   "cell_type": "code",
   "execution_count": 17,
   "metadata": {},
   "outputs": [
    {
     "name": "stdout",
     "output_type": "stream",
     "text": [
      "The autoreload extension is already loaded. To reload it, use:\n",
      "  %reload_ext autoreload\n"
     ]
    }
   ],
   "source": [
    "%matplotlib inline\n",
    "import matplotlib.pyplot as plt\n",
    "from MUTScraper import Player, PlayerHandler\n",
    "%load_ext autoreload\n",
    "%autoreload 2\n",
    "import plotly as py\n",
    "import plotly.plotly as py\n",
    "import plotly.graph_objs as go\n",
    "import pandas as pd\n",
    "from ipywidgets import interactive, HBox, VBox, widgets, interact\n",
    "import time"
   ]
  },
  {
   "cell_type": "markdown",
   "metadata": {},
   "source": [
    "#### Input position, minimum overall, and date:\n",
    "\n",
    "- Here we have chosen to look at Offensive Line (OL) players.\n",
    "- Calling handle_players() starts the scraping process."
   ]
  },
  {
   "cell_type": "code",
   "execution_count": 19,
   "metadata": {},
   "outputs": [
    {
     "name": "stdout",
     "output_type": "stream",
     "text": [
      "Number of pages: 6\n",
      "https://www.muthead.com/19/players?filter-market=3&filter-ovr-min=93&filter-position=992&page=1\n",
      " 129 player links gathered.\n",
      "Time elapsed: 357.39 sec\n"
     ]
    }
   ],
   "source": [
    "start = time.time()\n",
    "\n",
    "ph = PlayerHandler(position='OL', min_ovr=93, date='july5')\n",
    "ph.handle_players()\n",
    "\n",
    "finish = time.time()\n",
    "\n",
    "print(f'Time elapsed: {finish-start:.2f} sec')"
   ]
  },
  {
   "cell_type": "markdown",
   "metadata": {},
   "source": [
    "### Data\n",
    "We now have the ratings, attributes, and traits for the players.<br>\n",
    "Here is the DataFrame holding the player data:"
   ]
  },
  {
   "cell_type": "code",
   "execution_count": 21,
   "metadata": {},
   "outputs": [
    {
     "data": {
      "text/html": [
       "<div>\n",
       "<style scoped>\n",
       "    .dataframe tbody tr th:only-of-type {\n",
       "        vertical-align: middle;\n",
       "    }\n",
       "\n",
       "    .dataframe tbody tr th {\n",
       "        vertical-align: top;\n",
       "    }\n",
       "\n",
       "    .dataframe thead th {\n",
       "        text-align: right;\n",
       "    }\n",
       "</style>\n",
       "<table border=\"1\" class=\"dataframe\">\n",
       "  <thead>\n",
       "    <tr style=\"text-align: right;\">\n",
       "      <th></th>\n",
       "      <th>ACC</th>\n",
       "      <th>AGI</th>\n",
       "      <th>AWR</th>\n",
       "      <th>IBL</th>\n",
       "      <th>LBK</th>\n",
       "      <th>PBF</th>\n",
       "      <th>PBK</th>\n",
       "      <th>PBP</th>\n",
       "      <th>RBF</th>\n",
       "      <th>RBK</th>\n",
       "      <th>...</th>\n",
       "      <th>SPD</th>\n",
       "      <th>STR</th>\n",
       "      <th>High Motor</th>\n",
       "      <th>Penalty</th>\n",
       "      <th>HtWt</th>\n",
       "      <th>OVR</th>\n",
       "      <th>Position</th>\n",
       "      <th>Team</th>\n",
       "      <th>Ht</th>\n",
       "      <th>Wt</th>\n",
       "    </tr>\n",
       "  </thead>\n",
       "  <tbody>\n",
       "    <tr>\n",
       "      <th>Willie Anderson</th>\n",
       "      <td>69</td>\n",
       "      <td>57</td>\n",
       "      <td>99</td>\n",
       "      <td>99</td>\n",
       "      <td>90</td>\n",
       "      <td>97</td>\n",
       "      <td>98</td>\n",
       "      <td>99</td>\n",
       "      <td>97</td>\n",
       "      <td>98</td>\n",
       "      <td>...</td>\n",
       "      <td>59</td>\n",
       "      <td>99</td>\n",
       "      <td>Yes</td>\n",
       "      <td>Norma</td>\n",
       "      <td>Ht: 6' 5\" Wt: 340</td>\n",
       "      <td>99</td>\n",
       "      <td>RT</td>\n",
       "      <td>Cincinnati Bengals</td>\n",
       "      <td>77</td>\n",
       "      <td>340</td>\n",
       "    </tr>\n",
       "    <tr>\n",
       "      <th>David Andrews</th>\n",
       "      <td>89</td>\n",
       "      <td>63</td>\n",
       "      <td>99</td>\n",
       "      <td>96</td>\n",
       "      <td>98</td>\n",
       "      <td>99</td>\n",
       "      <td>98</td>\n",
       "      <td>97</td>\n",
       "      <td>99</td>\n",
       "      <td>99</td>\n",
       "      <td>...</td>\n",
       "      <td>73</td>\n",
       "      <td>91</td>\n",
       "      <td>Yes</td>\n",
       "      <td>Norma</td>\n",
       "      <td>Ht: 6' 3\" Wt: 295</td>\n",
       "      <td>99</td>\n",
       "      <td>C</td>\n",
       "      <td>New England Patriots</td>\n",
       "      <td>75</td>\n",
       "      <td>295</td>\n",
       "    </tr>\n",
       "    <tr>\n",
       "      <th>Steve Hutchinson</th>\n",
       "      <td>80</td>\n",
       "      <td>65</td>\n",
       "      <td>99</td>\n",
       "      <td>99</td>\n",
       "      <td>98</td>\n",
       "      <td>95</td>\n",
       "      <td>97</td>\n",
       "      <td>98</td>\n",
       "      <td>96</td>\n",
       "      <td>99</td>\n",
       "      <td>...</td>\n",
       "      <td>67</td>\n",
       "      <td>97</td>\n",
       "      <td>Yes</td>\n",
       "      <td>Disciplined</td>\n",
       "      <td>Ht: 6' 5\" Wt: 313</td>\n",
       "      <td>99</td>\n",
       "      <td>LG</td>\n",
       "      <td>Seattle Seahawks</td>\n",
       "      <td>77</td>\n",
       "      <td>313</td>\n",
       "    </tr>\n",
       "    <tr>\n",
       "      <th>Chris Lindstrom</th>\n",
       "      <td>89</td>\n",
       "      <td>74</td>\n",
       "      <td>99</td>\n",
       "      <td>99</td>\n",
       "      <td>99</td>\n",
       "      <td>97</td>\n",
       "      <td>96</td>\n",
       "      <td>96</td>\n",
       "      <td>99</td>\n",
       "      <td>99</td>\n",
       "      <td>...</td>\n",
       "      <td>81</td>\n",
       "      <td>93</td>\n",
       "      <td>Yes</td>\n",
       "      <td>Norma</td>\n",
       "      <td>Ht: 6' 4\" Wt: 308</td>\n",
       "      <td>99</td>\n",
       "      <td>RG</td>\n",
       "      <td>Atlanta Falcons</td>\n",
       "      <td>76</td>\n",
       "      <td>308</td>\n",
       "    </tr>\n",
       "    <tr>\n",
       "      <th>Kevin Mawae</th>\n",
       "      <td>82</td>\n",
       "      <td>68</td>\n",
       "      <td>98</td>\n",
       "      <td>94</td>\n",
       "      <td>97</td>\n",
       "      <td>99</td>\n",
       "      <td>99</td>\n",
       "      <td>98</td>\n",
       "      <td>98</td>\n",
       "      <td>96</td>\n",
       "      <td>...</td>\n",
       "      <td>69</td>\n",
       "      <td>97</td>\n",
       "      <td>Yes</td>\n",
       "      <td>Norma</td>\n",
       "      <td>Ht: 6' 4\" Wt: 289</td>\n",
       "      <td>99</td>\n",
       "      <td>C</td>\n",
       "      <td>New York Jets</td>\n",
       "      <td>76</td>\n",
       "      <td>289</td>\n",
       "    </tr>\n",
       "  </tbody>\n",
       "</table>\n",
       "<p>5 rows × 21 columns</p>\n",
       "</div>"
      ],
      "text/plain": [
       "                  ACC  AGI  AWR  IBL  LBK  PBF  PBK  PBP  RBF  RBK ...   SPD  \\\n",
       "Willie Anderson    69   57   99   99   90   97   98   99   97   98 ...    59   \n",
       "David Andrews      89   63   99   96   98   99   98   97   99   99 ...    73   \n",
       "Steve Hutchinson   80   65   99   99   98   95   97   98   96   99 ...    67   \n",
       "Chris Lindstrom    89   74   99   99   99   97   96   96   99   99 ...    81   \n",
       "Kevin Mawae        82   68   98   94   97   99   99   98   98   96 ...    69   \n",
       "\n",
       "                  STR  High Motor      Penalty               HtWt OVR  \\\n",
       "Willie Anderson    99         Yes        Norma  Ht: 6' 5\" Wt: 340  99   \n",
       "David Andrews      91         Yes        Norma  Ht: 6' 3\" Wt: 295  99   \n",
       "Steve Hutchinson   97         Yes  Disciplined  Ht: 6' 5\" Wt: 313  99   \n",
       "Chris Lindstrom    93         Yes        Norma  Ht: 6' 4\" Wt: 308  99   \n",
       "Kevin Mawae        97         Yes        Norma  Ht: 6' 4\" Wt: 289  99   \n",
       "\n",
       "                  Position                  Team  Ht   Wt  \n",
       "Willie Anderson         RT    Cincinnati Bengals  77  340  \n",
       "David Andrews            C  New England Patriots  75  295  \n",
       "Steve Hutchinson        LG      Seattle Seahawks  77  313  \n",
       "Chris Lindstrom         RG       Atlanta Falcons  76  308  \n",
       "Kevin Mawae              C         New York Jets  76  289  \n",
       "\n",
       "[5 rows x 21 columns]"
      ]
     },
     "execution_count": 21,
     "metadata": {},
     "output_type": "execute_result"
    }
   ],
   "source": [
    "pdf = ph.player_df\n",
    "pdf.head()"
   ]
  },
  {
   "cell_type": "code",
   "execution_count": 28,
   "metadata": {},
   "outputs": [
    {
     "data": {
      "image/png": "[encoded data removed]",
      "text/plain": [
       "<Figure size 864x360 with 6 Axes>"
      ]
     },
     "metadata": {},
     "output_type": "display_data"
    }
   ],
   "source": [
    "import seaborn as sns\n",
    "\n",
    "plt.figure(figsize=(12,5))\n",
    "\n",
    "attribs = ['SPD', 'STR', 'LBK', 'IBL', 'RBK', 'PBK']\n",
    "\n",
    "for i in range(len(attribs)):\n",
    "    plt.subplot(2, 3, i+1)\n",
    "    sns.distplot(pdf[attribs[i]]);\n",
    "plt.tight_layout();"
   ]
  },
  {
   "cell_type": "markdown",
   "metadata": {},
   "source": [
    "#### Filtering data to fit our needs\n",
    "- Lead the Way requires 90 LBK and is a must we filter for 89 as to keep players with Power-Ups in play (which would give them a +1). \n",
    "- Speed is important for pulling and getting blocks so we remove the slower players to clean up our visualization"
   ]
  },
  {
   "cell_type": "code",
   "execution_count": 22,
   "metadata": {
    "collapsed": true
   },
   "outputs": [],
   "source": [
    "def attribute_restriction(dat, attrib, rating):\n",
    "    df = dat.copy()\n",
    "    df = df[ df[attrib] >= rating]\n",
    "    return df"
   ]
  },
  {
   "cell_type": "code",
   "execution_count": 23,
   "metadata": {
    "collapsed": true
   },
   "outputs": [],
   "source": [
    "pdf2 = attribute_restriction(pdf, 'LBK', 89)\n",
    "pdf2 = attribute_restriction(pdf2, 'SPD', 70)"
   ]
  },
  {
   "cell_type": "markdown",
   "metadata": {},
   "source": [
    "#### Grouping players by position:\n",
    "- This is just for coloring in Plotly"
   ]
  },
  {
   "cell_type": "code",
   "execution_count": 24,
   "metadata": {
    "collapsed": true
   },
   "outputs": [],
   "source": [
    "ol_groups = pdf2.groupby('Position')\n",
    "\n",
    "df_dict = {}\n",
    "\n",
    "for name, group in ol_groups:\n",
    "    df_dict.update({name: group})"
   ]
  },
  {
   "cell_type": "markdown",
   "metadata": {},
   "source": [
    "### Visualization with Plotly "
   ]
  },
  {
   "cell_type": "code",
   "execution_count": 33,
   "metadata": {},
   "outputs": [
    {
     "data": {
      "text/html": [
       "<iframe id=\"igraph\" scrolling=\"no\" style=\"border:none;\" seamless=\"seamless\" src=\"https://plot.ly/~perronfrobenius/144.embed\" height=\"800px\" width=\"1000px\"></iframe>"
      ],
      "text/plain": [
       "<plotly.tools.PlotlyDisplay object>"
      ]
     },
     "execution_count": 33,
     "metadata": {},
     "output_type": "execute_result"
    }
   ],
   "source": [
    "positions = ['LT', 'LG', 'C', 'RG', 'RT']\n",
    "attribs = ['RBK', 'Wt', 'PBK', 'LBK', 'SPD', 'IBL', 'STR', 'AGI']\n",
    "color_map = {'LT': 'rgb(230,0,230)', 'LG': 'rgb(230,230,230)', 'C': 'rgb(20,230,100)', \n",
    "             'RG': 'rgb(240,5,30)', 'RT': 'rgb(0,50,240)'}\n",
    "\n",
    "def get_trace(df, pos):\n",
    "    trace = go.Splom(dimensions = [dict(label=attrib, values=df[attrib]) for attrib in attribs],\n",
    "                text=df.index.values,\n",
    "                name=pos,\n",
    "                marker=dict(size=6,\n",
    "                            showscale=False,\n",
    "                            line=dict(width=0.5,\n",
    "                                      color=color_map[pos])))\n",
    "    trace['diagonal'].update(visible=False)\n",
    "    trace['showupperhalf']=False\n",
    "    return trace\n",
    "\n",
    "    \n",
    "traces = [get_trace(df_dict.get(pos), pos) for pos in positions]\n",
    "\n",
    "axis = dict(showline=True,\n",
    "          zeroline=False,\n",
    "          gridcolor='#fff',\n",
    "          ticklen=4)\n",
    "\n",
    "\n",
    "layout = go.Layout(\n",
    "    title='MUT19 Offensive Lineman (93+ OVR)',\n",
    "    dragmode='select',\n",
    "    width=1000,\n",
    "    height=800,\n",
    "    autosize=False,\n",
    "    hovermode='closest',\n",
    "    plot_bgcolor='rgba(240,240,240, 0.95)',\n",
    "    xaxis1=dict(axis), xaxis2=dict(axis), xaxis3=dict(axis), xaxis4=dict(axis),\n",
    "    xaxis5=dict(axis), xaxis6=dict(axis), xaxis7=dict(axis), xaxis8=dict(axis),\n",
    "    yaxis1=dict(axis), yaxis2=dict(axis), yaxis3=dict(axis), yaxis4=dict(axis),\n",
    "    yaxis5=dict(axis), yaxis6=dict(axis), yaxis7=dict(axis), yaxis8=dict(axis)\n",
    ")\n",
    "\n",
    "fig = dict(data=traces, layout=layout)\n",
    "\n",
    "py.iplot(fig)"
   ]
  },
  {
   "cell_type": "code",
   "execution_count": null,
   "metadata": {
    "collapsed": true
   },
   "outputs": [],
   "source": []
  },
  {
   "cell_type": "code",
   "execution_count": null,
   "metadata": {
    "collapsed": true
   },
   "outputs": [],
   "source": []
  },
  {
   "cell_type": "code",
   "execution_count": 34,
   "metadata": {},
   "outputs": [
    {
     "data": {
      "text/plain": [
       "\"\\nf = go.FigureWidget(data=fig['data'], layout=fig['layout'])\\n\\nslider = widgets.IntSlider(\\n    value=88,\\n    min=86,\\n    max=99,\\n    step=1,\\n    description='OVR',\\n    disabled=False,\\n    continuous_update=False,\\n    orientation='horizontal',\\n    readout=True,\\n    readout_format='d'\\n)\\n\\n\\nslider.layout.width = '600px'\\n\\ndef update_range():\\n    f.data[0].z = np.cos(x * yt * frequency / 10.0) + np.sin(x * yt * frequency / 10.0) * 2\\n\\n\\n# display the FigureWidget and slider with center justification\\nvb = VBox((f, interactive(update_range, y=slider)))\\nvb.layout.align_items = 'center'\\nvb\\n\""
      ]
     },
     "execution_count": 34,
     "metadata": {},
     "output_type": "execute_result"
    }
   ],
   "source": [
    "\n",
    "'''\n",
    "f = go.FigureWidget(data=fig['data'], layout=fig['layout'])\n",
    "\n",
    "slider = widgets.IntSlider(\n",
    "    value=88,\n",
    "    min=86,\n",
    "    max=99,\n",
    "    step=1,\n",
    "    description='OVR',\n",
    "    disabled=False,\n",
    "    continuous_update=False,\n",
    "    orientation='horizontal',\n",
    "    readout=True,\n",
    "    readout_format='d'\n",
    ")\n",
    "\n",
    "\n",
    "slider.layout.width = '600px'\n",
    "\n",
    "def update_range():\n",
    "    f.data[0].z = np.cos(x * yt * frequency / 10.0) + np.sin(x * yt * frequency / 10.0) * 2\n",
    "\n",
    "\n",
    "# display the FigureWidget and slider with center justification\n",
    "vb = VBox((f, interactive(update_range, y=slider)))\n",
    "vb.layout.align_items = 'center'\n",
    "vb\n",
    "'''\n"
   ]
  },
  {
   "cell_type": "code",
   "execution_count": null,
   "metadata": {
    "collapsed": true
   },
   "outputs": [],
   "source": []
  }
 ],
 "metadata": {
  "kernelspec": {
   "display_name": "Python 3",
   "language": "python",
   "name": "python3"
  }
 },
 "nbformat": 4,
 "nbformat_minor": 2
}
