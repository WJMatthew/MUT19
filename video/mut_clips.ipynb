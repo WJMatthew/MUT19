{
 "cells": [
  {
   "cell_type": "markdown",
   "metadata": {},
   "source": [
    "# Taking frames from video clips using CV2\n",
    "\n",
    "##### Matthew Johnson, 2019\n",
    "\n",
    "\n",
    "TODO:\n",
    "- Cropping:\n",
    "    - Top piece - Classify as H2H, Squads, or Solo.\n",
    "    - Bottom piece - Classify as Verticals, WR Post, HB Pitch, Fake FG, etc."
   ]
  },
  {
   "cell_type": "code",
   "execution_count": 22,
   "metadata": {
    "collapsed": true
   },
   "outputs": [],
   "source": [
    "import cv2\n",
    "import os\n",
    "import pandas as pd\n",
    "RUN_INDEX=2\n",
    "\n",
    "save_path = 'saved_frames'\n",
    "if not os.path.isdir(save_path):\n",
    "    os.mkdir(save_path)\n",
    "\n",
    "\n",
    "def extract_final_frame(video_file):\n",
    "    \n",
    "    folder_path = '/Volumes/PS4 MyPassp/PS4/SHARE/Video Clips/Madden NFL 19'\n",
    "    #video_file = 'Madden NFL 19_20190202233415.mp4'\n",
    "    video_path = os.path.join(folder_path, video_file)\n",
    "\n",
    "    # Opens the Video file\n",
    "    cap= cv2.VideoCapture(video_path)\n",
    "    i=0\n",
    "    frame_holder = None\n",
    "    \n",
    "    while(cap.isOpened()):\n",
    "        ret, frame = cap.read()\n",
    "        \n",
    "        if ret:\n",
    "            frame_holder = frame  \n",
    "        else:\n",
    "            break    \n",
    "        i+=1\n",
    "\n",
    "    save_prefix = video_file.rstrip('.mp4')\n",
    "    save_filename = f'{save_path}/{save_prefix}-frame{i}.jpg'\n",
    "    cv2.imwrite(save_filename, frame_holder)\n",
    "    cap.release()\n",
    "    cv2.destroyAllWindows()\n",
    "    \n",
    "    # \n",
    "    suffix = video_file.rstrip('.mp4').split('_')[-1]\n",
    "    entry = {'video_file': video_file,\n",
    "              'cap_file': save_filename,\n",
    "              'date': suffix\n",
    "             }\n",
    "    return entry\n",
    "\n",
    "\n",
    "def get_todo_filenames():\n",
    "    \n",
    "    clip_file = f'may19_caps_100.csv'\n",
    "    if os.path.isfile(clip_file):\n",
    "        all_clips = pd.read_csv(clip_file)\n",
    "        all_clips = all_clips[ pd.isnull(all_clips['cap_file'])]\n",
    "        todo_files = all_clips['video_file'].values\n",
    "    else:\n",
    "        #source_path = '/Volumes/PS4 MyPassp/PS4/SHARE/Video Clips/Madden NFL 19'\n",
    "        #todo_files = [f for f in os.listdir(source_path) if f.endswith('.mp4')]\n",
    "        print('ERROR')\n",
    "        \n",
    "    return todo_files\n"
   ]
  },
  {
   "cell_type": "markdown",
   "metadata": {},
   "source": [
    "# ..."
   ]
  },
  {
   "cell_type": "code",
   "execution_count": 23,
   "metadata": {},
   "outputs": [],
   "source": [
    "#pd.read_csv('may19_caps_100.csv')"
   ]
  },
  {
   "cell_type": "code",
   "execution_count": 28,
   "metadata": {},
   "outputs": [],
   "source": [
    "#\n",
    "save_name = 'may19_capped_videos'\n",
    "\n",
    "filenames = get_todo_filenames()\n",
    "\n",
    "df2 = pd.DataFrame({'video_file': filenames})\n",
    "df2['date'] = df2['video_file'].str.split('Madden NFL 19_').apply(lambda x: x[1]).str[:8]\n",
    "df2['date'] = pd.to_datetime(df2['date'], format='%Y%m%d', errors='coerce')\n",
    "df2.sort_values('date', ascending=False, inplace=True)\n",
    "df2.reset_index(drop=True, inplace=True)"
   ]
  },
  {
   "cell_type": "code",
   "execution_count": null,
   "metadata": {},
   "outputs": [],
   "source": []
  },
  {
   "cell_type": "code",
   "execution_count": 29,
   "metadata": {
    "collapsed": true
   },
   "outputs": [],
   "source": [
    "filenames = df2['video_file'].values"
   ]
  },
  {
   "cell_type": "code",
   "execution_count": 31,
   "metadata": {},
   "outputs": [
    {
     "name": "stdout",
     "output_type": "stream",
     "text": [
      "1921 video files available... extracting 300.\n"
     ]
    }
   ],
   "source": [
    "stop_idx = min(300, len(filenames))\n",
    "print(f'{len(filenames)} video files available... extracting {stop_idx}.')\n",
    "data_entries = [extract_final_frame(file) for file in filenames[:stop_idx]]\n",
    "df = pd.DataFrame(data_entries)"
   ]
  },
  {
   "cell_type": "code",
   "execution_count": null,
   "metadata": {
    "collapsed": true
   },
   "outputs": [],
   "source": []
  },
  {
   "cell_type": "code",
   "execution_count": 32,
   "metadata": {},
   "outputs": [
    {
     "data": {
      "text/html": [
       "<div>\n",
       "<style scoped>\n",
       "    .dataframe tbody tr th:only-of-type {\n",
       "        vertical-align: middle;\n",
       "    }\n",
       "\n",
       "    .dataframe tbody tr th {\n",
       "        vertical-align: top;\n",
       "    }\n",
       "\n",
       "    .dataframe thead th {\n",
       "        text-align: right;\n",
       "    }\n",
       "</style>\n",
       "<table border=\"1\" class=\"dataframe\">\n",
       "  <thead>\n",
       "    <tr style=\"text-align: right;\">\n",
       "      <th></th>\n",
       "      <th>video_file</th>\n",
       "      <th>date</th>\n",
       "      <th>cap_file</th>\n",
       "    </tr>\n",
       "  </thead>\n",
       "  <tbody>\n",
       "    <tr>\n",
       "      <th>0</th>\n",
       "      <td>Madden NFL 19_20190504203310.mp4</td>\n",
       "      <td>2019-05-04</td>\n",
       "      <td>saved_frames/Madden NFL 19_20190504203310-fram...</td>\n",
       "    </tr>\n",
       "    <tr>\n",
       "      <th>1</th>\n",
       "      <td>Madden NFL 19_20190504211147.mp4</td>\n",
       "      <td>2019-05-04</td>\n",
       "      <td>saved_frames/Madden NFL 19_20190504211147-fram...</td>\n",
       "    </tr>\n",
       "    <tr>\n",
       "      <th>2</th>\n",
       "      <td>Madden NFL 19_20190504211342.mp4</td>\n",
       "      <td>2019-05-04</td>\n",
       "      <td>saved_frames/Madden NFL 19_20190504211342-fram...</td>\n",
       "    </tr>\n",
       "    <tr>\n",
       "      <th>3</th>\n",
       "      <td>Madden NFL 19_20190504205933.mp4</td>\n",
       "      <td>2019-05-04</td>\n",
       "      <td>saved_frames/Madden NFL 19_20190504205933-fram...</td>\n",
       "    </tr>\n",
       "    <tr>\n",
       "      <th>4</th>\n",
       "      <td>Madden NFL 19_20190504210403.mp4</td>\n",
       "      <td>2019-05-04</td>\n",
       "      <td>saved_frames/Madden NFL 19_20190504210403-fram...</td>\n",
       "    </tr>\n",
       "  </tbody>\n",
       "</table>\n",
       "</div>"
      ],
      "text/plain": [
       "                         video_file       date  \\\n",
       "0  Madden NFL 19_20190504203310.mp4 2019-05-04   \n",
       "1  Madden NFL 19_20190504211147.mp4 2019-05-04   \n",
       "2  Madden NFL 19_20190504211342.mp4 2019-05-04   \n",
       "3  Madden NFL 19_20190504205933.mp4 2019-05-04   \n",
       "4  Madden NFL 19_20190504210403.mp4 2019-05-04   \n",
       "\n",
       "                                            cap_file  \n",
       "0  saved_frames/Madden NFL 19_20190504203310-fram...  \n",
       "1  saved_frames/Madden NFL 19_20190504211147-fram...  \n",
       "2  saved_frames/Madden NFL 19_20190504211342-fram...  \n",
       "3  saved_frames/Madden NFL 19_20190504205933-fram...  \n",
       "4  saved_frames/Madden NFL 19_20190504210403-fram...  "
      ]
     },
     "execution_count": 32,
     "metadata": {},
     "output_type": "execute_result"
    }
   ],
   "source": [
    "newdf = pd.concat([df2, df], axis=1).iloc[:,:-2]\n",
    "newdf.head()"
   ]
  },
  {
   "cell_type": "code",
   "execution_count": 33,
   "metadata": {
    "collapsed": true
   },
   "outputs": [],
   "source": [
    "newdf.to_csv(f'may19_caps_{RUN_INDEX}.csv')"
   ]
  },
  {
   "cell_type": "code",
   "execution_count": null,
   "metadata": {
    "collapsed": true
   },
   "outputs": [],
   "source": []
  },
  {
   "cell_type": "markdown",
   "metadata": {},
   "source": [
    "## Cropping"
   ]
  },
  {
   "cell_type": "code",
   "execution_count": 34,
   "metadata": {
    "collapsed": true
   },
   "outputs": [],
   "source": [
    "import cv2\n",
    "import os\n",
    "import numpy as np\n",
    "import matplotlib.pyplot as plt\n",
    "%matplotlib inline\n",
    "\n",
    "save_path = 'saved_plays'\n",
    "if not os.path.isdir(save_path):\n",
    "    os.mkdir(save_path)\n",
    "\n",
    "x = 0\n",
    "y = 25\n",
    "h = 140-y\n",
    "w = 1280\n",
    "play_width = 347\n",
    "play_height = 206\n",
    "play_loc_r = (423, 821)\n",
    "play_loc_l = (423, 94)\n",
    "\n",
    "def crop_image_top(img_name):\n",
    "    # Open Image\n",
    "    image = cv2.imread(img_name)\n",
    "    # Crop Image\n",
    "    crop_img = image[y:y+h, :]\n",
    "    \n",
    "    left = crop_img[:, 72:262]\n",
    "    right = crop_img[:, 1015:1208]\n",
    "    \n",
    "    return crop_img, left, right\n",
    "\n",
    "def crop_image_play(img_name):\n",
    "    # Open Image\n",
    "    image = cv2.imread(img_name)\n",
    "    # Crop Image\n",
    "    left = image[play_loc_l[0]:play_loc_l[0]+play_height, play_loc_l[1]:play_loc_l[1]+play_width]\n",
    "    right = image[play_loc_r[0]:play_loc_r[0]+play_height, play_loc_r[1]:play_loc_r[1]+play_width]\n",
    "    # Combine\n",
    "    concat_img = np.concatenate([left, right], axis=1) #\n",
    "    fn = save_file(concat_img, img_name)\n",
    "    return fn\n",
    "\n",
    "def save_file(item, filename):\n",
    "    filename = filename.lstrip('saved_frames/')\n",
    "    save_filename = f'{save_path}/{filename.rstrip(\".jpg\")}-play.jpg'\n",
    "    cv2.imwrite(save_filename, item)\n",
    "    return save_filename"
   ]
  },
  {
   "cell_type": "code",
   "execution_count": 38,
   "metadata": {},
   "outputs": [
    {
     "data": {
      "text/plain": [
       "'saved_plays/Madden NFL 19_20190411182840-frame1792-play.jpg'"
      ]
     },
     "execution_count": 38,
     "metadata": {},
     "output_type": "execute_result"
    }
   ],
   "source": [
    "crop_image_play('saved_frames/Madden NFL 19_20190411182840-frame1792.jpg')"
   ]
  },
  {
   "cell_type": "code",
   "execution_count": 36,
   "metadata": {
    "collapsed": true
   },
   "outputs": [],
   "source": [
    "newdf2 = newdf.dropna().copy()\n",
    "newdf2['play_image'] = newdf2['cap_file'].apply(lambda x: crop_image_play(x))"
   ]
  },
  {
   "cell_type": "code",
   "execution_count": 32,
   "metadata": {
    "collapsed": true
   },
   "outputs": [],
   "source": [
    "#newdf2.to_csv('may19_with_plays_{RUN_INDEX}.csv')"
   ]
  },
  {
   "cell_type": "code",
   "execution_count": 37,
   "metadata": {},
   "outputs": [
    {
     "data": {
      "text/html": [
       "<div>\n",
       "<style scoped>\n",
       "    .dataframe tbody tr th:only-of-type {\n",
       "        vertical-align: middle;\n",
       "    }\n",
       "\n",
       "    .dataframe tbody tr th {\n",
       "        vertical-align: top;\n",
       "    }\n",
       "\n",
       "    .dataframe thead th {\n",
       "        text-align: right;\n",
       "    }\n",
       "</style>\n",
       "<table border=\"1\" class=\"dataframe\">\n",
       "  <thead>\n",
       "    <tr style=\"text-align: right;\">\n",
       "      <th></th>\n",
       "      <th>video_file</th>\n",
       "      <th>date</th>\n",
       "      <th>cap_file</th>\n",
       "      <th>play_image</th>\n",
       "    </tr>\n",
       "  </thead>\n",
       "  <tbody>\n",
       "    <tr>\n",
       "      <th>0</th>\n",
       "      <td>Madden NFL 19_20190504203310.mp4</td>\n",
       "      <td>2019-05-04</td>\n",
       "      <td>saved_frames/Madden NFL 19_20190504203310-fram...</td>\n",
       "      <td>saved_plays/Madden NFL 19_20190504203310-frame...</td>\n",
       "    </tr>\n",
       "    <tr>\n",
       "      <th>1</th>\n",
       "      <td>Madden NFL 19_20190504211147.mp4</td>\n",
       "      <td>2019-05-04</td>\n",
       "      <td>saved_frames/Madden NFL 19_20190504211147-fram...</td>\n",
       "      <td>saved_plays/Madden NFL 19_20190504211147-frame...</td>\n",
       "    </tr>\n",
       "    <tr>\n",
       "      <th>2</th>\n",
       "      <td>Madden NFL 19_20190504211342.mp4</td>\n",
       "      <td>2019-05-04</td>\n",
       "      <td>saved_frames/Madden NFL 19_20190504211342-fram...</td>\n",
       "      <td>saved_plays/Madden NFL 19_20190504211342-frame...</td>\n",
       "    </tr>\n",
       "    <tr>\n",
       "      <th>3</th>\n",
       "      <td>Madden NFL 19_20190504205933.mp4</td>\n",
       "      <td>2019-05-04</td>\n",
       "      <td>saved_frames/Madden NFL 19_20190504205933-fram...</td>\n",
       "      <td>saved_plays/Madden NFL 19_20190504205933-frame...</td>\n",
       "    </tr>\n",
       "    <tr>\n",
       "      <th>4</th>\n",
       "      <td>Madden NFL 19_20190504210403.mp4</td>\n",
       "      <td>2019-05-04</td>\n",
       "      <td>saved_frames/Madden NFL 19_20190504210403-fram...</td>\n",
       "      <td>saved_plays/Madden NFL 19_20190504210403-frame...</td>\n",
       "    </tr>\n",
       "  </tbody>\n",
       "</table>\n",
       "</div>"
      ],
      "text/plain": [
       "                         video_file       date  \\\n",
       "0  Madden NFL 19_20190504203310.mp4 2019-05-04   \n",
       "1  Madden NFL 19_20190504211147.mp4 2019-05-04   \n",
       "2  Madden NFL 19_20190504211342.mp4 2019-05-04   \n",
       "3  Madden NFL 19_20190504205933.mp4 2019-05-04   \n",
       "4  Madden NFL 19_20190504210403.mp4 2019-05-04   \n",
       "\n",
       "                                            cap_file  \\\n",
       "0  saved_frames/Madden NFL 19_20190504203310-fram...   \n",
       "1  saved_frames/Madden NFL 19_20190504211147-fram...   \n",
       "2  saved_frames/Madden NFL 19_20190504211342-fram...   \n",
       "3  saved_frames/Madden NFL 19_20190504205933-fram...   \n",
       "4  saved_frames/Madden NFL 19_20190504210403-fram...   \n",
       "\n",
       "                                          play_image  \n",
       "0  saved_plays/Madden NFL 19_20190504203310-frame...  \n",
       "1  saved_plays/Madden NFL 19_20190504211147-frame...  \n",
       "2  saved_plays/Madden NFL 19_20190504211342-frame...  \n",
       "3  saved_plays/Madden NFL 19_20190504205933-frame...  \n",
       "4  saved_plays/Madden NFL 19_20190504210403-frame...  "
      ]
     },
     "execution_count": 37,
     "metadata": {},
     "output_type": "execute_result"
    }
   ],
   "source": [
    "newdf2.head()"
   ]
  },
  {
   "cell_type": "markdown",
   "metadata": {},
   "source": [
    "## Labeling\n",
    "Do Manual Labelling by dragging and dropping into subfolders of saved_plays: left, right, neither"
   ]
  },
  {
   "cell_type": "code",
   "execution_count": 39,
   "metadata": {
    "collapsed": true
   },
   "outputs": [],
   "source": [
    "dic = {}\n",
    "for _ in ['left', 'right', 'neither']:\n",
    "    files = os.listdir(os.path.join('saved_plays', _))\n",
    "    files = [f for f in files if f.endswith('.jpg')]\n",
    "\n",
    "    for file in files:\n",
    "        dic[file] = _"
   ]
  },
  {
   "cell_type": "code",
   "execution_count": 40,
   "metadata": {
    "collapsed": true
   },
   "outputs": [],
   "source": [
    "newdf2['play_side'] = newdf2['play_image'].apply(lambda x: dic[x.lstrip('saved_plays/')])"
   ]
  },
  {
   "cell_type": "code",
   "execution_count": 41,
   "metadata": {},
   "outputs": [
    {
     "data": {
      "text/html": [
       "<div>\n",
       "<style scoped>\n",
       "    .dataframe tbody tr th:only-of-type {\n",
       "        vertical-align: middle;\n",
       "    }\n",
       "\n",
       "    .dataframe tbody tr th {\n",
       "        vertical-align: top;\n",
       "    }\n",
       "\n",
       "    .dataframe thead th {\n",
       "        text-align: right;\n",
       "    }\n",
       "</style>\n",
       "<table border=\"1\" class=\"dataframe\">\n",
       "  <thead>\n",
       "    <tr style=\"text-align: right;\">\n",
       "      <th></th>\n",
       "      <th>video_file</th>\n",
       "      <th>date</th>\n",
       "      <th>cap_file</th>\n",
       "      <th>play_image</th>\n",
       "      <th>play_side</th>\n",
       "    </tr>\n",
       "  </thead>\n",
       "  <tbody>\n",
       "    <tr>\n",
       "      <th>0</th>\n",
       "      <td>Madden NFL 19_20190504203310.mp4</td>\n",
       "      <td>2019-05-04</td>\n",
       "      <td>saved_frames/Madden NFL 19_20190504203310-fram...</td>\n",
       "      <td>saved_plays/Madden NFL 19_20190504203310-frame...</td>\n",
       "      <td>left</td>\n",
       "    </tr>\n",
       "    <tr>\n",
       "      <th>1</th>\n",
       "      <td>Madden NFL 19_20190504211147.mp4</td>\n",
       "      <td>2019-05-04</td>\n",
       "      <td>saved_frames/Madden NFL 19_20190504211147-fram...</td>\n",
       "      <td>saved_plays/Madden NFL 19_20190504211147-frame...</td>\n",
       "      <td>right</td>\n",
       "    </tr>\n",
       "    <tr>\n",
       "      <th>2</th>\n",
       "      <td>Madden NFL 19_20190504211342.mp4</td>\n",
       "      <td>2019-05-04</td>\n",
       "      <td>saved_frames/Madden NFL 19_20190504211342-fram...</td>\n",
       "      <td>saved_plays/Madden NFL 19_20190504211342-frame...</td>\n",
       "      <td>right</td>\n",
       "    </tr>\n",
       "    <tr>\n",
       "      <th>3</th>\n",
       "      <td>Madden NFL 19_20190504205933.mp4</td>\n",
       "      <td>2019-05-04</td>\n",
       "      <td>saved_frames/Madden NFL 19_20190504205933-fram...</td>\n",
       "      <td>saved_plays/Madden NFL 19_20190504205933-frame...</td>\n",
       "      <td>right</td>\n",
       "    </tr>\n",
       "    <tr>\n",
       "      <th>4</th>\n",
       "      <td>Madden NFL 19_20190504210403.mp4</td>\n",
       "      <td>2019-05-04</td>\n",
       "      <td>saved_frames/Madden NFL 19_20190504210403-fram...</td>\n",
       "      <td>saved_plays/Madden NFL 19_20190504210403-frame...</td>\n",
       "      <td>neither</td>\n",
       "    </tr>\n",
       "  </tbody>\n",
       "</table>\n",
       "</div>"
      ],
      "text/plain": [
       "                         video_file       date  \\\n",
       "0  Madden NFL 19_20190504203310.mp4 2019-05-04   \n",
       "1  Madden NFL 19_20190504211147.mp4 2019-05-04   \n",
       "2  Madden NFL 19_20190504211342.mp4 2019-05-04   \n",
       "3  Madden NFL 19_20190504205933.mp4 2019-05-04   \n",
       "4  Madden NFL 19_20190504210403.mp4 2019-05-04   \n",
       "\n",
       "                                            cap_file  \\\n",
       "0  saved_frames/Madden NFL 19_20190504203310-fram...   \n",
       "1  saved_frames/Madden NFL 19_20190504211147-fram...   \n",
       "2  saved_frames/Madden NFL 19_20190504211342-fram...   \n",
       "3  saved_frames/Madden NFL 19_20190504205933-fram...   \n",
       "4  saved_frames/Madden NFL 19_20190504210403-fram...   \n",
       "\n",
       "                                          play_image play_side  \n",
       "0  saved_plays/Madden NFL 19_20190504203310-frame...      left  \n",
       "1  saved_plays/Madden NFL 19_20190504211147-frame...     right  \n",
       "2  saved_plays/Madden NFL 19_20190504211342-frame...     right  \n",
       "3  saved_plays/Madden NFL 19_20190504205933-frame...     right  \n",
       "4  saved_plays/Madden NFL 19_20190504210403-frame...   neither  "
      ]
     },
     "execution_count": 41,
     "metadata": {},
     "output_type": "execute_result"
    }
   ],
   "source": [
    "newdf2.head()"
   ]
  },
  {
   "cell_type": "code",
   "execution_count": 49,
   "metadata": {},
   "outputs": [
    {
     "data": {
      "text/html": [
       "<div>\n",
       "<style scoped>\n",
       "    .dataframe tbody tr th:only-of-type {\n",
       "        vertical-align: middle;\n",
       "    }\n",
       "\n",
       "    .dataframe tbody tr th {\n",
       "        vertical-align: top;\n",
       "    }\n",
       "\n",
       "    .dataframe thead th {\n",
       "        text-align: right;\n",
       "    }\n",
       "</style>\n",
       "<table border=\"1\" class=\"dataframe\">\n",
       "  <thead>\n",
       "    <tr style=\"text-align: right;\">\n",
       "      <th></th>\n",
       "      <th>video_file</th>\n",
       "      <th>date</th>\n",
       "      <th>cap_file</th>\n",
       "      <th>play_image</th>\n",
       "      <th>play_side</th>\n",
       "    </tr>\n",
       "  </thead>\n",
       "  <tbody>\n",
       "    <tr>\n",
       "      <th>295</th>\n",
       "      <td>Madden NFL 19_20190411191941.mp4</td>\n",
       "      <td>2019-04-11</td>\n",
       "      <td>saved_frames/Madden NFL 19_20190411191941-fram...</td>\n",
       "      <td>saved_plays/Madden NFL 19_20190411191941-frame...</td>\n",
       "      <td>left</td>\n",
       "    </tr>\n",
       "    <tr>\n",
       "      <th>296</th>\n",
       "      <td>Madden NFL 19_20190411183355.mp4</td>\n",
       "      <td>2019-04-11</td>\n",
       "      <td>saved_frames/Madden NFL 19_20190411183355-fram...</td>\n",
       "      <td>saved_plays/Madden NFL 19_20190411183355-frame...</td>\n",
       "      <td>neither</td>\n",
       "    </tr>\n",
       "    <tr>\n",
       "      <th>297</th>\n",
       "      <td>Madden NFL 19_20190411194300.mp4</td>\n",
       "      <td>2019-04-11</td>\n",
       "      <td>saved_frames/Madden NFL 19_20190411194300-fram...</td>\n",
       "      <td>saved_plays/Madden NFL 19_20190411194300-frame...</td>\n",
       "      <td>right</td>\n",
       "    </tr>\n",
       "    <tr>\n",
       "      <th>298</th>\n",
       "      <td>Madden NFL 19_20190411194114.mp4</td>\n",
       "      <td>2019-04-11</td>\n",
       "      <td>saved_frames/Madden NFL 19_2019041119411-frame...</td>\n",
       "      <td>saved_plays/Madden NFL 19_2019041119411-frame1...</td>\n",
       "      <td>neither</td>\n",
       "    </tr>\n",
       "    <tr>\n",
       "      <th>299</th>\n",
       "      <td>Madden NFL 19_20190411192820.mp4</td>\n",
       "      <td>2019-04-11</td>\n",
       "      <td>saved_frames/Madden NFL 19_20190411192820-fram...</td>\n",
       "      <td>saved_plays/Madden NFL 19_20190411192820-frame...</td>\n",
       "      <td>neither</td>\n",
       "    </tr>\n",
       "  </tbody>\n",
       "</table>\n",
       "</div>"
      ],
      "text/plain": [
       "                           video_file       date  \\\n",
       "295  Madden NFL 19_20190411191941.mp4 2019-04-11   \n",
       "296  Madden NFL 19_20190411183355.mp4 2019-04-11   \n",
       "297  Madden NFL 19_20190411194300.mp4 2019-04-11   \n",
       "298  Madden NFL 19_20190411194114.mp4 2019-04-11   \n",
       "299  Madden NFL 19_20190411192820.mp4 2019-04-11   \n",
       "\n",
       "                                              cap_file  \\\n",
       "295  saved_frames/Madden NFL 19_20190411191941-fram...   \n",
       "296  saved_frames/Madden NFL 19_20190411183355-fram...   \n",
       "297  saved_frames/Madden NFL 19_20190411194300-fram...   \n",
       "298  saved_frames/Madden NFL 19_2019041119411-frame...   \n",
       "299  saved_frames/Madden NFL 19_20190411192820-fram...   \n",
       "\n",
       "                                            play_image play_side  \n",
       "295  saved_plays/Madden NFL 19_20190411191941-frame...      left  \n",
       "296  saved_plays/Madden NFL 19_20190411183355-frame...   neither  \n",
       "297  saved_plays/Madden NFL 19_20190411194300-frame...     right  \n",
       "298  saved_plays/Madden NFL 19_2019041119411-frame1...   neither  \n",
       "299  saved_plays/Madden NFL 19_20190411192820-frame...   neither  "
      ]
     },
     "execution_count": 49,
     "metadata": {},
     "output_type": "execute_result"
    }
   ],
   "source": [
    "newdf2.tail()"
   ]
  },
  {
   "cell_type": "code",
   "execution_count": 42,
   "metadata": {
    "collapsed": true
   },
   "outputs": [],
   "source": [
    "newdf2.to_csv(f'may19_withplay_{RUN_INDEX}.csv')"
   ]
  },
  {
   "cell_type": "code",
   "execution_count": 43,
   "metadata": {},
   "outputs": [
    {
     "data": {
      "text/plain": [
       "(300, 5)"
      ]
     },
     "execution_count": 43,
     "metadata": {},
     "output_type": "execute_result"
    }
   ],
   "source": [
    "newdf2.shape"
   ]
  },
  {
   "cell_type": "code",
   "execution_count": null,
   "metadata": {
    "collapsed": true
   },
   "outputs": [],
   "source": []
  },
  {
   "cell_type": "code",
   "execution_count": 46,
   "metadata": {
    "collapsed": true
   },
   "outputs": [],
   "source": [
    "a = pd.read_csv('may19_withplay_1.csv', index_col=0)\n",
    "b = pd.read_csv('may19_withplay_2.csv', index_col=0)\n",
    "cdf = pd.concat([a, b], axis=0)"
   ]
  },
  {
   "cell_type": "code",
   "execution_count": 48,
   "metadata": {},
   "outputs": [
    {
     "data": {
      "text/plain": [
       "left       177\n",
       "right      155\n",
       "neither     68\n",
       "Name: play_side, dtype: int64"
      ]
     },
     "execution_count": 48,
     "metadata": {},
     "output_type": "execute_result"
    }
   ],
   "source": [
    "cdf['play_side'].value_counts()"
   ]
  },
  {
   "cell_type": "code",
   "execution_count": null,
   "metadata": {
    "collapsed": true
   },
   "outputs": [],
   "source": []
  }
 ],
 "metadata": {
  "kernelspec": {
   "display_name": "Python 3",
   "language": "python",
   "name": "python3"
  },
  "language_info": {
   "codemirror_mode": {
    "name": "ipython",
    "version": 3
   },
   "file_extension": ".py",
   "mimetype": "text/x-python",
   "name": "python",
   "nbconvert_exporter": "python",
   "pygments_lexer": "ipython3",
   "version": "3.6.3"
  }
 },
 "nbformat": 4,
 "nbformat_minor": 2
}
