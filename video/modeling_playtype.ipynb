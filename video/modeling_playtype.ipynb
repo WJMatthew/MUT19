{
 "cells": [
  {
   "cell_type": "code",
   "execution_count": 10,
   "metadata": {},
   "outputs": [],
   "source": [
    "import os\n",
    "filenames = []\n",
    "for root, dirs, files in os.walk(\"saved_plays\", topdown=True):\n",
    "    if root is not 'neither':\n",
    "        for name in files:\n",
    "            filenames.append(os.path.join(root, name))"
   ]
  },
  {
   "cell_type": "code",
   "execution_count": 11,
   "metadata": {
    "collapsed": true
   },
   "outputs": [],
   "source": [
    "import pandas as pd\n",
    "\n",
    "filenames = [f for f in filenames if 'DS_Store' not in f]\n",
    "df = pd.DataFrame({'filename': filenames})"
   ]
  },
  {
   "cell_type": "code",
   "execution_count": 12,
   "metadata": {
    "collapsed": true
   },
   "outputs": [],
   "source": [
    "df['type'] = df['filename'].str.split('/').apply(lambda x: x[2])\n",
    "df['side'] = df['filename'].str.split('/').apply(lambda x: x[1])"
   ]
  },
  {
   "cell_type": "code",
   "execution_count": 13,
   "metadata": {},
   "outputs": [
    {
     "data": {
      "text/html": [
       "<div>\n",
       "<style scoped>\n",
       "    .dataframe tbody tr th:only-of-type {\n",
       "        vertical-align: middle;\n",
       "    }\n",
       "\n",
       "    .dataframe tbody tr th {\n",
       "        vertical-align: top;\n",
       "    }\n",
       "\n",
       "    .dataframe thead th {\n",
       "        text-align: right;\n",
       "    }\n",
       "</style>\n",
       "<table border=\"1\" class=\"dataframe\">\n",
       "  <thead>\n",
       "    <tr style=\"text-align: right;\">\n",
       "      <th></th>\n",
       "      <th>filename</th>\n",
       "      <th>type</th>\n",
       "      <th>side</th>\n",
       "    </tr>\n",
       "  </thead>\n",
       "  <tbody>\n",
       "    <tr>\n",
       "      <th>0</th>\n",
       "      <td>saved_plays/right/pass/Madden NFL 19_201903151...</td>\n",
       "      <td>pass</td>\n",
       "      <td>right</td>\n",
       "    </tr>\n",
       "    <tr>\n",
       "      <th>1</th>\n",
       "      <td>saved_plays/right/pass/Madden NFL 19_201904031...</td>\n",
       "      <td>pass</td>\n",
       "      <td>right</td>\n",
       "    </tr>\n",
       "    <tr>\n",
       "      <th>2</th>\n",
       "      <td>saved_plays/right/pass/Madden NFL 19_201905011...</td>\n",
       "      <td>pass</td>\n",
       "      <td>right</td>\n",
       "    </tr>\n",
       "    <tr>\n",
       "      <th>3</th>\n",
       "      <td>saved_plays/right/pass/Madden NFL 19_201903232...</td>\n",
       "      <td>pass</td>\n",
       "      <td>right</td>\n",
       "    </tr>\n",
       "    <tr>\n",
       "      <th>4</th>\n",
       "      <td>saved_plays/right/pass/Madden NFL 19_201904271...</td>\n",
       "      <td>pass</td>\n",
       "      <td>right</td>\n",
       "    </tr>\n",
       "  </tbody>\n",
       "</table>\n",
       "</div>"
      ],
      "text/plain": [
       "                                            filename  type   side\n",
       "0  saved_plays/right/pass/Madden NFL 19_201903151...  pass  right\n",
       "1  saved_plays/right/pass/Madden NFL 19_201904031...  pass  right\n",
       "2  saved_plays/right/pass/Madden NFL 19_201905011...  pass  right\n",
       "3  saved_plays/right/pass/Madden NFL 19_201903232...  pass  right\n",
       "4  saved_plays/right/pass/Madden NFL 19_201904271...  pass  right"
      ]
     },
     "execution_count": 13,
     "metadata": {},
     "output_type": "execute_result"
    }
   ],
   "source": [
    "df.head()"
   ]
  },
  {
   "cell_type": "code",
   "execution_count": 16,
   "metadata": {},
   "outputs": [],
   "source": [
    "df['neither'] = df['filename'].apply(lambda x: 'neither' in x)*1\n",
    "df = df[ df['neither'] == 0]\n",
    "df.drop('neither', axis=1, inplace=True)\n",
    "df.reset_index(drop=True, inplace=True)"
   ]
  },
  {
   "cell_type": "code",
   "execution_count": 17,
   "metadata": {},
   "outputs": [
    {
     "data": {
      "text/plain": [
       "pass    382\n",
       "run     161\n",
       "fake     15\n",
       "Name: type, dtype: int64"
      ]
     },
     "execution_count": 17,
     "metadata": {},
     "output_type": "execute_result"
    }
   ],
   "source": [
    "df['type'].value_counts()"
   ]
  },
  {
   "cell_type": "code",
   "execution_count": 18,
   "metadata": {
    "collapsed": true
   },
   "outputs": [],
   "source": [
    "#df.to_csv('type_dataset.csv')"
   ]
  },
  {
   "cell_type": "code",
   "execution_count": 29,
   "metadata": {
    "collapsed": true
   },
   "outputs": [],
   "source": [
    "from torch.utils.data import Dataset\n",
    "import cv2 as cv\n",
    "\n",
    "# Make Dataset class\n",
    "label_map = {'pass': 0, 'run': 1, 'fake': 2}\n",
    "\n",
    "class PlayTypeDataset(Dataset):\n",
    "    \n",
    "    def __init__(self, csv_file, transform=None):\n",
    "        '''\n",
    "        '''\n",
    "        self.dataframe = pd.read_csv(csv_file, index_col=0)\n",
    "        self.transform = transform\n",
    "        self.size = (300,100)\n",
    "        \n",
    "    def __len__(self):\n",
    "        return len(self.dataframe)\n",
    "\n",
    "    def __getitem__(self, idx):\n",
    "        '''\n",
    "        '''\n",
    "        img_name = self.dataframe.iloc[idx, 0]\n",
    "        \n",
    "        image = cv.imread(img_name)\n",
    "        #image = cv.cvtColor(image, cv.COLOR_RGB2BGR)\n",
    "        #\n",
    "        image = cv.resize(image, self.size)\n",
    "\n",
    "        label = self.dataframe.iloc[idx, 1]\n",
    "\n",
    "        if self.transform:\n",
    "            image = self.transform(image)\n",
    "        \n",
    "        return (image, label_map[label])"
   ]
  },
  {
   "cell_type": "code",
   "execution_count": 30,
   "metadata": {
    "collapsed": true
   },
   "outputs": [],
   "source": [
    "from torch.utils.data.sampler import SubsetRandomSampler\n",
    "import torch\n",
    "import numpy as np\n",
    "\n",
    "validation_indices = []\n",
    "\n",
    "def get_training_and_validation_loaders(dataset, batch_size = 16, validation_split = .2):\n",
    "    \n",
    "    shuffle_dataset = True\n",
    "    random_seed = 8\n",
    "\n",
    "    # Creating data indices for training and validation splits:\n",
    "    dataset_size = len(dataset)\n",
    "    indices = list(range(dataset_size))\n",
    "    split = int(np.floor(validation_split * dataset_size))\n",
    "\n",
    "    if shuffle_dataset :\n",
    "        np.random.seed(random_seed)\n",
    "        np.random.shuffle(indices)\n",
    "        \n",
    "    train_indices, val_indices = indices[split:], indices[:split]\n",
    "\n",
    "    # Creating PT data samplers and loaders:\n",
    "    train_sampler = SubsetRandomSampler(train_indices)\n",
    "    valid_sampler = SubsetRandomSampler(val_indices)\n",
    "\n",
    "    train_loader = torch.utils.data.DataLoader(dataset, batch_size=batch_size, \n",
    "                                               sampler=train_sampler)\n",
    "    validation_loader = torch.utils.data.DataLoader(dataset, batch_size=batch_size,\n",
    "                                                    sampler=valid_sampler)\n",
    "    #\n",
    "    validation_indices = val_indices\n",
    "    \n",
    "    return train_loader, validation_loader"
   ]
  },
  {
   "cell_type": "code",
   "execution_count": 31,
   "metadata": {
    "collapsed": true
   },
   "outputs": [],
   "source": [
    "from torchvision import transforms\n",
    "\n",
    "trans = transforms.Compose([transforms.ToTensor(), \n",
    "                            transforms.Normalize((0.5,), (0.5,)),\n",
    "                           ])\n",
    "\n",
    "dset = PlayTypeDataset('type_dataset.csv', trans)"
   ]
  },
  {
   "cell_type": "code",
   "execution_count": 32,
   "metadata": {},
   "outputs": [
    {
     "data": {
      "text/plain": [
       "torch.Size([3, 100, 300])"
      ]
     },
     "execution_count": 32,
     "metadata": {},
     "output_type": "execute_result"
    }
   ],
   "source": [
    "x, y = dset[0]\n",
    "x.shape"
   ]
  },
  {
   "cell_type": "code",
   "execution_count": null,
   "metadata": {
    "collapsed": true
   },
   "outputs": [],
   "source": []
  },
  {
   "cell_type": "code",
   "execution_count": 33,
   "metadata": {
    "collapsed": true
   },
   "outputs": [],
   "source": [
    "\n",
    "# Device configuration\n",
    "device = torch.device('cuda' if torch.cuda.is_available() else 'cpu')\n",
    "\n",
    "# \n",
    "train_loader, validation_loader = get_training_and_validation_loaders(dset, batch_size=15)"
   ]
  },
  {
   "cell_type": "code",
   "execution_count": 34,
   "metadata": {
    "collapsed": true
   },
   "outputs": [],
   "source": [
    "batch, labels = next(iter(train_loader))"
   ]
  },
  {
   "cell_type": "code",
   "execution_count": 75,
   "metadata": {},
   "outputs": [
    {
     "name": "stdout",
     "output_type": "stream",
     "text": [
      "torch.Size([15, 16, 48, 148])\n",
      "torch.Size([15, 32, 22, 72])\n",
      "torch.Size([15, 64, 9, 34])\n",
      "torch.Size([15, 100])\n"
     ]
    }
   ],
   "source": [
    "\n",
    "\n",
    "conv1 = nn.Conv2d(3, 16, kernel_size=5)\n",
    "x = F.relu(F.max_pool2d(conv1(batch), 2))\n",
    "print(x.shape)\n",
    "# torch.Size([15, 16, 48, 148])\n",
    "\n",
    "conv2 = nn.Conv2d(16, 32, kernel_size=5)\n",
    "x = F.relu(F.max_pool2d(conv2(x), 2))\n",
    "print(x.shape)\n",
    "# torch.Size([15, 32, 22, 72])\n",
    "\n",
    "conv3 = nn.Conv2d(32, 64, kernel_size=5)\n",
    "x = F.relu(F.max_pool2d(conv3(x), 2))\n",
    "print(x.shape)\n",
    "# torch.Size([15, 64, 9, 34])\n",
    "\n",
    "x = x.view(15, -1)\n",
    "# torch.Size([15, 19584])\n",
    "\n",
    "fc1 = nn.Linear(19584, 100)\n",
    "x = F.relu(fc1(x))\n",
    "torch.Size([15, 100])\n"
   ]
  },
  {
   "cell_type": "code",
   "execution_count": 74,
   "metadata": {},
   "outputs": [
    {
     "data": {
      "text/plain": [
       "torch.Size([15, 19584])"
      ]
     },
     "execution_count": 74,
     "metadata": {},
     "output_type": "execute_result"
    }
   ],
   "source": [
    "x.view(15, -1).shape"
   ]
  },
  {
   "cell_type": "code",
   "execution_count": 38,
   "metadata": {},
   "outputs": [],
   "source": [
    "import torch.nn as nn\n",
    "import torch.nn.functional as F\n",
    "\n",
    "class Net(nn.Module):\n",
    "    def __init__(self):\n",
    "        super(Net, self).__init__()\n",
    "        self.conv1 = nn.Conv2d(3, 16, kernel_size=5)\n",
    "        self.conv2 = nn.Conv2d(16, 32, kernel_size=5)\n",
    "        self.conv2_drop = nn.Dropout2d()\n",
    "        self.conv3 = nn.Conv2d(32, 64, kernel_size=5)\n",
    "        self.fc1 = nn.Linear(19584, 100)\n",
    "        self.fc2 = nn.Linear(100, 50)\n",
    "        self.fc3 = nn.Linear(50, 3)\n",
    "\n",
    "    def forward(self, x):\n",
    "        x = F.relu(F.max_pool2d(self.conv1(x), 2))\n",
    "        x = F.relu(F.max_pool2d(self.conv2_drop(self.conv2(x)), 2))\n",
    "        #print(x.shape) # [N, 64, 72, 42]\n",
    "        x = F.relu(F.max_pool2d(self.conv3(x), 2))\n",
    "        #print(x.shape) # [N, 128, 34, 19]\n",
    "        #x = F.relu(F.max_pool2d(x, 2))\n",
    "        #print(x.shape) # [N, 128, 17, 9]\n",
    "        x = x.view(-1, 19584)\n",
    "        #print(x.shape) # \n",
    "        x = F.relu(self.fc1(x))\n",
    "        x = F.dropout(x, training=self.training)\n",
    "        x = F.relu(self.fc2(x))\n",
    "        x = self.fc3(x)\n",
    "        #print(x.shape)\n",
    "        return F.log_softmax(x, dim=1)\n",
    "\n",
    "    def name(self):\n",
    "        return \"mutclipside_may19\""
   ]
  },
  {
   "cell_type": "code",
   "execution_count": null,
   "metadata": {
    "collapsed": true
   },
   "outputs": [],
   "source": []
  },
  {
   "cell_type": "code",
   "execution_count": 39,
   "metadata": {},
   "outputs": [
    {
     "name": "stdout",
     "output_type": "stream",
     "text": [
      "Epoch [1/40], Loss: 0.7719, Acc: 0.67\n",
      "Epoch [2/40], Loss: 0.7051, Acc: 0.67\n",
      "Epoch [3/40], Loss: 0.701, Acc: 0.67\n",
      "Epoch [4/40], Loss: 0.7214, Acc: 0.67\n",
      "Epoch [5/40], Loss: 0.7067, Acc: 0.67\n",
      "Epoch [6/40], Loss: 0.6925, Acc: 0.68\n",
      "Epoch [7/40], Loss: 0.6794, Acc: 0.67\n",
      "Epoch [8/40], Loss: 0.6582, Acc: 0.67\n",
      "Epoch [9/40], Loss: 0.6533, Acc: 0.63\n",
      "Epoch [10/40], Loss: 0.665, Acc: 0.65\n",
      "Epoch [11/40], Loss: 0.6748, Acc: 0.68\n",
      "Epoch [12/40], Loss: 0.7935, Acc: 0.69\n",
      "Epoch [13/40], Loss: 0.5899, Acc: 0.67\n"
     ]
    },
    {
     "ename": "KeyboardInterrupt",
     "evalue": "",
     "output_type": "error",
     "traceback": [
      "\u001b[0;31m---------------------------------------------------------------------------\u001b[0m",
      "\u001b[0;31mKeyboardInterrupt\u001b[0m                         Traceback (most recent call last)",
      "\u001b[0;32m<ipython-input-39-c6cc19a98c49>\u001b[0m in \u001b[0;36m<module>\u001b[0;34m()\u001b[0m\n\u001b[1;32m     37\u001b[0m         \u001b[0;31m# Backward and optimize\u001b[0m\u001b[0;34m\u001b[0m\u001b[0;34m\u001b[0m\u001b[0m\n\u001b[1;32m     38\u001b[0m         \u001b[0moptimizer\u001b[0m\u001b[0;34m.\u001b[0m\u001b[0mzero_grad\u001b[0m\u001b[0;34m(\u001b[0m\u001b[0;34m)\u001b[0m\u001b[0;34m\u001b[0m\u001b[0m\n\u001b[0;32m---> 39\u001b[0;31m         \u001b[0mloss\u001b[0m\u001b[0;34m.\u001b[0m\u001b[0mbackward\u001b[0m\u001b[0;34m(\u001b[0m\u001b[0;34m)\u001b[0m\u001b[0;34m\u001b[0m\u001b[0m\n\u001b[0m\u001b[1;32m     40\u001b[0m         \u001b[0moptimizer\u001b[0m\u001b[0;34m.\u001b[0m\u001b[0mstep\u001b[0m\u001b[0;34m(\u001b[0m\u001b[0;34m)\u001b[0m\u001b[0;34m\u001b[0m\u001b[0m\n\u001b[1;32m     41\u001b[0m \u001b[0;34m\u001b[0m\u001b[0m\n",
      "\u001b[0;32m/anaconda3/lib/python3.6/site-packages/torch/tensor.py\u001b[0m in \u001b[0;36mbackward\u001b[0;34m(self, gradient, retain_graph, create_graph)\u001b[0m\n\u001b[1;32m    100\u001b[0m                 \u001b[0mproducts\u001b[0m\u001b[0;34m.\u001b[0m \u001b[0mDefaults\u001b[0m \u001b[0mto\u001b[0m\u001b[0;31m \u001b[0m\u001b[0;31m`\u001b[0m\u001b[0;31m`\u001b[0m\u001b[0;32mFalse\u001b[0m\u001b[0;31m`\u001b[0m\u001b[0;31m`\u001b[0m\u001b[0;34m.\u001b[0m\u001b[0;34m\u001b[0m\u001b[0m\n\u001b[1;32m    101\u001b[0m         \"\"\"\n\u001b[0;32m--> 102\u001b[0;31m         \u001b[0mtorch\u001b[0m\u001b[0;34m.\u001b[0m\u001b[0mautograd\u001b[0m\u001b[0;34m.\u001b[0m\u001b[0mbackward\u001b[0m\u001b[0;34m(\u001b[0m\u001b[0mself\u001b[0m\u001b[0;34m,\u001b[0m \u001b[0mgradient\u001b[0m\u001b[0;34m,\u001b[0m \u001b[0mretain_graph\u001b[0m\u001b[0;34m,\u001b[0m \u001b[0mcreate_graph\u001b[0m\u001b[0;34m)\u001b[0m\u001b[0;34m\u001b[0m\u001b[0m\n\u001b[0m\u001b[1;32m    103\u001b[0m \u001b[0;34m\u001b[0m\u001b[0m\n\u001b[1;32m    104\u001b[0m     \u001b[0;32mdef\u001b[0m \u001b[0mregister_hook\u001b[0m\u001b[0;34m(\u001b[0m\u001b[0mself\u001b[0m\u001b[0;34m,\u001b[0m \u001b[0mhook\u001b[0m\u001b[0;34m)\u001b[0m\u001b[0;34m:\u001b[0m\u001b[0;34m\u001b[0m\u001b[0m\n",
      "\u001b[0;32m/anaconda3/lib/python3.6/site-packages/torch/autograd/__init__.py\u001b[0m in \u001b[0;36mbackward\u001b[0;34m(tensors, grad_tensors, retain_graph, create_graph, grad_variables)\u001b[0m\n\u001b[1;32m     88\u001b[0m     Variable._execution_engine.run_backward(\n\u001b[1;32m     89\u001b[0m         \u001b[0mtensors\u001b[0m\u001b[0;34m,\u001b[0m \u001b[0mgrad_tensors\u001b[0m\u001b[0;34m,\u001b[0m \u001b[0mretain_graph\u001b[0m\u001b[0;34m,\u001b[0m \u001b[0mcreate_graph\u001b[0m\u001b[0;34m,\u001b[0m\u001b[0;34m\u001b[0m\u001b[0m\n\u001b[0;32m---> 90\u001b[0;31m         allow_unreachable=True)  # allow_unreachable flag\n\u001b[0m\u001b[1;32m     91\u001b[0m \u001b[0;34m\u001b[0m\u001b[0m\n\u001b[1;32m     92\u001b[0m \u001b[0;34m\u001b[0m\u001b[0m\n",
      "\u001b[0;31mKeyboardInterrupt\u001b[0m: "
     ]
    }
   ],
   "source": [
    "# HPs\n",
    "lr = 0.01 # 0.001 too small\n",
    "\n",
    "# Model\n",
    "model = Net().to(device)\n",
    "\n",
    "# Loss and optimizer\n",
    "criterion = nn.CrossEntropyLoss()\n",
    "#optimizer = torch.optim.Adam(model.parameters(), lr=lr)\n",
    "optimizer = torch.optim.SGD(model.parameters(), lr = lr, momentum=0.9)\n",
    "\n",
    "loss_list = []\n",
    "acc_list = []\n",
    "train_losses = []\n",
    "train_accuracies = []\n",
    "train_losses2 = []\n",
    "#\n",
    "num_epochs = 40\n",
    "\n",
    "for epoch in range(num_epochs):\n",
    "        \n",
    "    # Train:   \n",
    "    total = 0\n",
    "    correct = 0\n",
    "    trainlosses = []\n",
    "    \n",
    "    for batch_index, (images, labels) in enumerate(train_loader):\n",
    "        # Send to GPU (device)\n",
    "        images, labels = images.to(device), labels.to(device)\n",
    "        \n",
    "        # Forward pass\n",
    "        outputs = model(images.float())\n",
    "        \n",
    "        # Loss\n",
    "        loss = criterion(outputs, labels)\n",
    "\n",
    "        # Backward and optimize\n",
    "        optimizer.zero_grad()\n",
    "        loss.backward()\n",
    "        optimizer.step()\n",
    "        \n",
    "        trainlosses.append(loss.item())\n",
    "        \n",
    "        # Compute accuracy\n",
    "        _, argmax = torch.max(outputs, 1)\n",
    "        correct += (labels == argmax).sum().item() #.mean()\n",
    "        total += len(labels)\n",
    "        \n",
    "    train_losses.append( np.mean(trainlosses) )\n",
    "    train_accuracies.append( correct/total )\n",
    "    train_losses2.extend(trainlosses)\n",
    "                        \n",
    "    with torch.no_grad():\n",
    "        \n",
    "        losses = []\n",
    "        total = 0\n",
    "        correct = 0\n",
    "    \n",
    "        for images, labels in validation_loader:\n",
    "            # \n",
    "            images, labels = images.to(device), labels.to(device)\n",
    "            \n",
    "            # Forward pass\n",
    "            outputs = model(images.float())\n",
    "            \n",
    "            loss = criterion(outputs, labels)\n",
    "        \n",
    "            # Compute accuracy\n",
    "            _, argmax = torch.max(outputs, 1)\n",
    "            correct += (labels == argmax).sum().item() #.mean()\n",
    "            total += len(labels)\n",
    "            \n",
    "            losses.append(loss.item())\n",
    "    \n",
    "        acc = np.round(correct/total, 3)\n",
    "        loss = np.mean(losses)\n",
    "        \n",
    "        acc_list.append(acc)\n",
    "        loss_list.append(loss)\n",
    "\n",
    "        print(f'Epoch [{epoch+1}/{num_epochs}], Loss: {np.mean(losses):.4}, Acc: {correct/total:.2}')"
   ]
  },
  {
   "cell_type": "code",
   "execution_count": 41,
   "metadata": {},
   "outputs": [
    {
     "data": {
      "image/png": "[encoded data removed]",
      "text/plain": [
       "<Figure size 1080x360 with 1 Axes>"
      ]
     },
     "metadata": {},
     "output_type": "display_data"
    }
   ],
   "source": [
    "%matplotlib inline\n",
    "import matplotlib.pyplot as plt\n",
    "\n",
    "plt.subplots(figsize=(15,5))\n",
    "plt.plot(loss_list); # blue\n",
    "plt.plot(train_losses);\n",
    "plt.plot(acc_list); # orange\n",
    "plt.plot(train_accuracies);\n",
    "plt.title('Validation loss and accuracy over number of epochs');\n",
    "plt.xlabel('Number of epochs trained on');\n",
    "plt.ylabel('Cross Entropy Loss (and Accuracy)');\n",
    "plt.legend(['Validation Loss', 'Train Loss', 'Validation Accuracy', 'Train Accuracy'], loc='lower left');"
   ]
  },
  {
   "cell_type": "code",
   "execution_count": null,
   "metadata": {
    "collapsed": true
   },
   "outputs": [],
   "source": []
  },
  {
   "cell_type": "code",
   "execution_count": 42,
   "metadata": {},
   "outputs": [
    {
     "name": "stdout",
     "output_type": "stream",
     "text": [
      "Loss: 0.5014, Acc: 0.81\n"
     ]
    }
   ],
   "source": [
    "# Test\n",
    "model.eval()\n",
    "\n",
    "total = 0\n",
    "correct = 0\n",
    "testlosses = []\n",
    "correct_labels = []\n",
    "predictions = []\n",
    "\n",
    "with torch.no_grad():\n",
    "    \n",
    "    for batch_index, (images, labels) in enumerate(validation_loader):\n",
    "        # Send to GPU (device)\n",
    "        images, labels = images.to(device), labels.to(device)\n",
    "        \n",
    "        # Forward pass\n",
    "        outputs = model(images.float())\n",
    "        \n",
    "        # Loss\n",
    "        loss = criterion(outputs, labels)\n",
    "        \n",
    "        testlosses.append(loss.item())\n",
    "        \n",
    "        # Compute accuracy\n",
    "        _, argmax = torch.max(outputs, 1)\n",
    "        correct += (labels == argmax).sum().item() #.mean()\n",
    "        total += len(labels)\n",
    "        \n",
    "        correct_labels.extend(labels)\n",
    "        predictions.extend(argmax)\n",
    "        \n",
    "\n",
    "test_loss = np.mean(testlosses)\n",
    "accuracy = np.round(correct/total, 2)\n",
    "print(f'Loss: {test_loss:.4}, Acc: {accuracy:.2}')"
   ]
  },
  {
   "cell_type": "code",
   "execution_count": 43,
   "metadata": {},
   "outputs": [
    {
     "data": {
      "text/plain": [
       "array([[72,  2,  0],\n",
       "       [19, 17,  0],\n",
       "       [ 0,  0,  1]])"
      ]
     },
     "execution_count": 43,
     "metadata": {},
     "output_type": "execute_result"
    }
   ],
   "source": [
    "from sklearn.metrics import confusion_matrix\n",
    "\n",
    "y_true = [label.item() for label in correct_labels]\n",
    "y_pred = [label.item() for label in predictions]\n",
    "\n",
    "cm = confusion_matrix(y_true, y_pred)\n",
    "\n",
    "cm"
   ]
  },
  {
   "cell_type": "code",
   "execution_count": 44,
   "metadata": {},
   "outputs": [
    {
     "data": {
      "image/png": "[encoded data removed]",
      "text/plain": [
       "<Figure size 864x576 with 2 Axes>"
      ]
     },
     "metadata": {},
     "output_type": "display_data"
    }
   ],
   "source": [
    "import seaborn as sns\n",
    "\n",
    "plt.subplots(figsize=(12,8));\n",
    "sns.heatmap(cm, annot=True, fmt='g', yticklabels=label_map.keys(),\n",
    "            xticklabels=label_map.keys());\n",
    "\n",
    "plt.xlabel('True');\n",
    "plt.ylabel('Predicted');"
   ]
  },
  {
   "cell_type": "code",
   "execution_count": null,
   "metadata": {
    "collapsed": true
   },
   "outputs": [],
   "source": []
  }
 ],
 "metadata": {
  "kernelspec": {
   "display_name": "Python 3",
   "language": "python",
   "name": "python3"
  },
  "language_info": {
   "codemirror_mode": {
    "name": "ipython",
    "version": 3
   },
   "file_extension": ".py",
   "mimetype": "text/x-python",
   "name": "python",
   "nbconvert_exporter": "python",
   "pygments_lexer": "ipython3",
   "version": "3.6.3"
  }
 },
 "nbformat": 4,
 "nbformat_minor": 2
}
