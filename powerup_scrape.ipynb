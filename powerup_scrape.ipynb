{
 "cells": [
  {
   "cell_type": "markdown",
   "metadata": {
    "collapsed": true
   },
   "source": [
    "## Selenium on footballDB"
   ]
  },
  {
   "cell_type": "code",
   "execution_count": 1,
   "metadata": {
    "collapsed": true
   },
   "outputs": [],
   "source": [
    "%matplotlib inline\n",
    "import pandas as pd\n",
    "import numpy as np\n",
    "import re\n",
    "import time\n",
    "import selenium\n",
    "from selenium import webdriver\n",
    "from selenium.webdriver.common.keys import Keys\n",
    "from selenium.webdriver.support.ui import Select\n",
    "from selenium.webdriver.common.action_chains import ActionChains\n",
    "from selenium.webdriver.support import expected_conditions as EC\n",
    "from selenium.webdriver.common.by import By\n",
    "from selenium.webdriver.support.ui import WebDriverWait\n",
    "from bs4 import BeautifulSoup\n",
    "import warnings\n",
    "warnings.filterwarnings('ignore')"
   ]
  },
  {
   "cell_type": "code",
   "execution_count": 61,
   "metadata": {},
   "outputs": [
    {
     "name": "stdout",
     "output_type": "stream",
     "text": [
      "unfinished:  139 /  155\n"
     ]
    }
   ],
   "source": [
    "data = pd.read_csv('aug16_try1.csv')\n",
    "data['empty'] = np.where(data['len']==0, 1, 0)\n",
    "print('unfinished: ', data['empty'].sum(), '/ ', len(data))\n",
    "\n",
    "unfins = data[ data['empty']==1].index"
   ]
  },
  {
   "cell_type": "markdown",
   "metadata": {},
   "source": [
    "#### Initialize Player List:"
   ]
  },
  {
   "cell_type": "code",
   "execution_count": 21,
   "metadata": {
    "collapsed": true
   },
   "outputs": [],
   "source": [
    "player_list = []"
   ]
  },
  {
   "cell_type": "markdown",
   "metadata": {},
   "source": [
    "#### Create webdriver instance:"
   ]
  },
  {
   "cell_type": "code",
   "execution_count": 5,
   "metadata": {
    "collapsed": true
   },
   "outputs": [],
   "source": [
    "driver = webdriver.Firefox()"
   ]
  },
  {
   "cell_type": "markdown",
   "metadata": {},
   "source": [
    "#### Open up FootballDB webpage to player search page:"
   ]
  },
  {
   "cell_type": "code",
   "execution_count": 6,
   "metadata": {},
   "outputs": [
    {
     "name": "stdout",
     "output_type": "stream",
     "text": [
      "Derrick   Brooks\n"
     ]
    }
   ],
   "source": [
    "first_name = 'Derrick' # Sample first name\n",
    "last_name = 'Brooks' # Sample last name\n",
    "\n",
    "# Webdriver opens up player search page on FootballDB\n",
    "driver.get('https://www.footballdb.com/players/index.html')\n",
    "        \n",
    "#time.sleep(2)  \n",
    "print(first_name, ' ', last_name)"
   ]
  },
  {
   "cell_type": "markdown",
   "metadata": {},
   "source": [
    "#### Send player's last name to search text box:"
   ]
  },
  {
   "cell_type": "code",
   "execution_count": 7,
   "metadata": {
    "collapsed": true
   },
   "outputs": [],
   "source": [
    "driver.find_element_by_xpath('//*[@id=\"leftcol\"]/div[4]/div[5]/form/input[1]').send_keys(last_name)\n",
    "last='lastNameSent'"
   ]
  },
  {
   "cell_type": "markdown",
   "metadata": {},
   "source": [
    "#### Click the submit button to perform search:"
   ]
  },
  {
   "cell_type": "code",
   "execution_count": 8,
   "metadata": {
    "collapsed": true
   },
   "outputs": [],
   "source": [
    "driver.find_element_by_xpath('//*[@id=\"leftcol\"]/div[4]/div[5]/form/input[2]').click()\n",
    "last='submitButton'"
   ]
  },
  {
   "cell_type": "markdown",
   "metadata": {},
   "source": [
    "#### Turn the pages source code into a BeautifulSoup object to find tables and use pandas to convert into dataframe:"
   ]
  },
  {
   "cell_type": "code",
   "execution_count": 9,
   "metadata": {
    "collapsed": true
   },
   "outputs": [],
   "source": [
    "html = driver.page_source\n",
    "soup = BeautifulSoup(html, 'lxml')\n",
    "tables = soup.find_all('table')\n",
    "\n",
    "df = pd.read_html(str(tables[0]))[0]"
   ]
  },
  {
   "cell_type": "code",
   "execution_count": 15,
   "metadata": {},
   "outputs": [
    {
     "data": {
      "text/html": [
       "<div>\n",
       "<style>\n",
       "    .dataframe thead tr:only-child th {\n",
       "        text-align: right;\n",
       "    }\n",
       "\n",
       "    .dataframe thead th {\n",
       "        text-align: left;\n",
       "    }\n",
       "\n",
       "    .dataframe tbody tr th {\n",
       "        vertical-align: top;\n",
       "    }\n",
       "</style>\n",
       "<table border=\"1\" class=\"dataframe\">\n",
       "  <thead>\n",
       "    <tr style=\"text-align: right;\">\n",
       "      <th></th>\n",
       "      <th>Player</th>\n",
       "      <th>Pos</th>\n",
       "      <th>College</th>\n",
       "      <th>Teams</th>\n",
       "    </tr>\n",
       "  </thead>\n",
       "  <tbody>\n",
       "    <tr>\n",
       "      <th>0</th>\n",
       "      <td>Brooks, Aaron</td>\n",
       "      <td>QB</td>\n",
       "      <td>Virginia</td>\n",
       "      <td>2000-2005 NO, 2006 Oak</td>\n",
       "    </tr>\n",
       "    <tr>\n",
       "      <th>1</th>\n",
       "      <td>Brooks, Ahmad</td>\n",
       "      <td>DB</td>\n",
       "      <td>Texas</td>\n",
       "      <td>2002 Buf, NFLE: 2004 Fra</td>\n",
       "    </tr>\n",
       "    <tr>\n",
       "      <th>2</th>\n",
       "      <td>Brooks, Ahmad</td>\n",
       "      <td>LB</td>\n",
       "      <td>Virginia</td>\n",
       "      <td>2006-2007 Cin, 2008-2016 SF, 2017 GB</td>\n",
       "    </tr>\n",
       "    <tr>\n",
       "      <th>3</th>\n",
       "      <td>Brooks, Barrett</td>\n",
       "      <td>OT</td>\n",
       "      <td>Kansas State</td>\n",
       "      <td>1995-1998 Phi, 1999-2000 Det, 2002 GB, 2004-20...</td>\n",
       "    </tr>\n",
       "    <tr>\n",
       "      <th>4</th>\n",
       "      <td>Brooks, Bill</td>\n",
       "      <td>WR</td>\n",
       "      <td>Boston University</td>\n",
       "      <td>1986-1992 Ind, 1993-1995 Buf, 1996 Was</td>\n",
       "    </tr>\n",
       "  </tbody>\n",
       "</table>\n",
       "</div>"
      ],
      "text/plain": [
       "            Player Pos            College  \\\n",
       "0    Brooks, Aaron  QB           Virginia   \n",
       "1    Brooks, Ahmad  DB              Texas   \n",
       "2    Brooks, Ahmad  LB           Virginia   \n",
       "3  Brooks, Barrett  OT       Kansas State   \n",
       "4     Brooks, Bill  WR  Boston University   \n",
       "\n",
       "                                               Teams  \n",
       "0                             2000-2005 NO, 2006 Oak  \n",
       "1                           2002 Buf, NFLE: 2004 Fra  \n",
       "2               2006-2007 Cin, 2008-2016 SF, 2017 GB  \n",
       "3  1995-1998 Phi, 1999-2000 Det, 2002 GB, 2004-20...  \n",
       "4             1986-1992 Ind, 1993-1995 Buf, 1996 Was  "
      ]
     },
     "execution_count": 15,
     "metadata": {},
     "output_type": "execute_result"
    }
   ],
   "source": [
    "df.head()"
   ]
  },
  {
   "cell_type": "markdown",
   "metadata": {},
   "source": [
    "#### We will add the relevant row to our player list like so:"
   ]
  },
  {
   "cell_type": "code",
   "execution_count": 22,
   "metadata": {
    "collapsed": true
   },
   "outputs": [],
   "source": [
    "player = df[ df['Player']==(last_name+', '+first_name)]\n",
    "player_list.append(player)"
   ]
  },
  {
   "cell_type": "markdown",
   "metadata": {},
   "source": [
    "#### Search for next person on same page's text box by:\n",
    "1. Clearing the text box <br>\n",
    "2. Sending the last name of the current player <br>\n",
    "3. Clicking the submit button"
   ]
  },
  {
   "cell_type": "code",
   "execution_count": 27,
   "metadata": {
    "collapsed": true
   },
   "outputs": [],
   "source": [
    "first_name = 'Reggie'\n",
    "last_name = 'White'\n",
    "\n",
    "# Clearing the search field text box\n",
    "driver.find_element_by_xpath( \\\n",
    "    '/html/body/div[1]/div[1]/div[1]/div[3]/div[5]/form/input[1]') \\\n",
    "    .clear()\n",
    "    \n",
    "# Sending the last name of current player\n",
    "driver.find_element_by_xpath( \\\n",
    "    '/html/body/div[1]/div[1]/div[1]/div[3]/div[5]/form/input[1]') \\\n",
    "    .send_keys(last_name)\n",
    "    \n",
    "# Clicking the submit button to search\n",
    "driver.find_element_by_xpath( \\\n",
    "    '/html/body/div[1]/div[1]/div[1]/div[3]/div[5]/form/input[2]') \\\n",
    "    .click()"
   ]
  },
  {
   "cell_type": "code",
   "execution_count": 29,
   "metadata": {
    "collapsed": true
   },
   "outputs": [],
   "source": []
  },
  {
   "cell_type": "code",
   "execution_count": 91,
   "metadata": {
    "collapsed": true
   },
   "outputs": [],
   "source": [
    "playerPos = 'DE'\n",
    "\n",
    "html = driver.page_source\n",
    "soup = BeautifulSoup(html, 'lxml')\n",
    "tables = soup.find_all('table')\n",
    "\n",
    "df = pd.read_html(str(tables[0]))[0]\n",
    "\n",
    "player = df[ df['Player']==(last_name+', '+first_name)]\n",
    "\n",
    "if len(player)>1:\n",
    "    player = player[ player['Pos']==playerPos]\n",
    "player_list.append(player)"
   ]
  },
  {
   "cell_type": "markdown",
   "metadata": {},
   "source": [
    "#### Unfortunately there is more than one Reggie White: "
   ]
  },
  {
   "cell_type": "code",
   "execution_count": 36,
   "metadata": {
    "scrolled": true
   },
   "outputs": [
    {
     "data": {
      "text/html": [
       "<div>\n",
       "<style>\n",
       "    .dataframe thead tr:only-child th {\n",
       "        text-align: right;\n",
       "    }\n",
       "\n",
       "    .dataframe thead th {\n",
       "        text-align: left;\n",
       "    }\n",
       "\n",
       "    .dataframe tbody tr th {\n",
       "        vertical-align: top;\n",
       "    }\n",
       "</style>\n",
       "<table border=\"1\" class=\"dataframe\">\n",
       "  <thead>\n",
       "    <tr style=\"text-align: right;\">\n",
       "      <th></th>\n",
       "      <th>Player</th>\n",
       "      <th>Pos</th>\n",
       "      <th>College</th>\n",
       "      <th>Teams</th>\n",
       "    </tr>\n",
       "  </thead>\n",
       "  <tbody>\n",
       "    <tr>\n",
       "      <th>90</th>\n",
       "      <td>White, Reggie</td>\n",
       "      <td>DE</td>\n",
       "      <td>Tennessee</td>\n",
       "      <td>1985-1992 Phi, 1993-1998 GB, 2000 Car</td>\n",
       "    </tr>\n",
       "    <tr>\n",
       "      <th>91</th>\n",
       "      <td>White, Reggie</td>\n",
       "      <td>RB</td>\n",
       "      <td>Oklahoma State</td>\n",
       "      <td>2001 Jax</td>\n",
       "    </tr>\n",
       "    <tr>\n",
       "      <th>92</th>\n",
       "      <td>White, Reggie</td>\n",
       "      <td>DT</td>\n",
       "      <td>North Carolina A&amp;T</td>\n",
       "      <td>1992-1994 SD, 1995 NE</td>\n",
       "    </tr>\n",
       "  </tbody>\n",
       "</table>\n",
       "</div>"
      ],
      "text/plain": [
       "           Player Pos             College  \\\n",
       "90  White, Reggie  DE           Tennessee   \n",
       "91  White, Reggie  RB      Oklahoma State   \n",
       "92  White, Reggie  DT  North Carolina A&T   \n",
       "\n",
       "                                    Teams  \n",
       "90  1985-1992 Phi, 1993-1998 GB, 2000 Car  \n",
       "91                               2001 Jax  \n",
       "92                  1992-1994 SD, 1995 NE  "
      ]
     },
     "execution_count": 36,
     "metadata": {},
     "output_type": "execute_result"
    }
   ],
   "source": [
    "player_list[1]"
   ]
  },
  {
   "cell_type": "code",
   "execution_count": 37,
   "metadata": {
    "collapsed": true
   },
   "outputs": [],
   "source": [
    "player_list[1].drop([91,92], inplace=True)"
   ]
  },
  {
   "cell_type": "code",
   "execution_count": 63,
   "metadata": {
    "collapsed": true
   },
   "outputs": [],
   "source": [
    "powerups = pd.read_csv('madden19_powerups.csv')\n",
    "cols = powerups.columns.drop('Unnamed: 4')\n",
    "powerups.drop('Name', axis=1, inplace=True)\n",
    "powerups.columns = cols\n",
    "powerups['Name'] = powerups['Name'].str[:-8]\n",
    "\n",
    "df2 = pd.DataFrame(powerups['Name'].str.split())\n",
    "powerups.loc[:, 'firstName'] = df2.Name.map(lambda x: x[0])\n",
    "powerups.loc[:, 'lastName'] = df2.Name.map(lambda x: ' '.join(x[1:]))\n",
    "\n",
    "powerups['POS'].value_counts()\n",
    "\n",
    "position_dict = {'CB':'DB', 'SS':'DB', 'FS':'DB', 'WR':'WR', 'QB':'QB', 'HB':'RB', 'FB':'RB', \n",
    "        'TE':'TE', 'LE':'DE', 'RE':'DE', 'DT':'DT', 'LOLB':'LB', 'ROLB':'LB', 'MLB':'LB', \n",
    "        'LG':'OG', 'RG':'OG', 'LT':'OT', 'RT':'OT', 'C':'C'}\n",
    "\n",
    "powerups['POS2'] = powerups['POS'].map(position_dict)"
   ]
  },
  {
   "cell_type": "code",
   "execution_count": null,
   "metadata": {
    "collapsed": true
   },
   "outputs": [],
   "source": []
  },
  {
   "cell_type": "code",
   "execution_count": 125,
   "metadata": {
    "collapsed": true
   },
   "outputs": [],
   "source": [
    "def get_player_teams(first_name, last_name, playerPos, driver):\n",
    "\n",
    "    try:\n",
    "        # Clearing the search field text box\n",
    "        driver.find_element_by_xpath( \\\n",
    "            '/html/body/div[1]/div[1]/div[1]/div[3]/div[5]/form/input[1]').clear()\n",
    "\n",
    "        # Sending the last name of current player\n",
    "        driver.find_element_by_xpath( \\\n",
    "            '/html/body/div[1]/div[1]/div[1]/div[3]/div[5]/form/input[1]').send_keys(last_name)\n",
    "\n",
    "        # Clicking the submit button to search\n",
    "        driver.find_element_by_xpath( \\\n",
    "        '/html/body/div[1]/div[1]/div[1]/div[3]/div[5]/form/input[2]').click()\n",
    "        time.sleep(2)\n",
    "    \n",
    "        html = driver.page_source\n",
    "        soup = BeautifulSoup(html, 'lxml')\n",
    "        tables = soup.find_all('table')\n",
    "\n",
    "        df = pd.read_html(str(tables[0]))[0]\n",
    "\n",
    "        player = df[ df['Player']==(last_name+', '+first_name)]\n",
    "\n",
    "        if len(player)>1:\n",
    "            player = player[ player['Pos']==playerPos]\n",
    "        \n",
    "        return player\n",
    "    except:\n",
    "        print(\"# ERROR:\")\n",
    "        return []"
   ]
  },
  {
   "cell_type": "code",
   "execution_count": 136,
   "metadata": {
    "collapsed": true
   },
   "outputs": [],
   "source": [
    "#driver = webdriver.Firefox()\n",
    "\n",
    "driver.get('https://www.footballdb.com/players/players.html?q=develin')"
   ]
  },
  {
   "cell_type": "code",
   "execution_count": null,
   "metadata": {
    "collapsed": true
   },
   "outputs": [],
   "source": []
  },
  {
   "cell_type": "code",
   "execution_count": 137,
   "metadata": {
    "collapsed": true
   },
   "outputs": [],
   "source": [
    "player_list = []\n",
    "\n",
    "for player in unfins:\n",
    "    current = all_data.iloc[player]\n",
    "    first, last, pos = current['firstName'], current['lastName'], current['POS2']\n",
    "    \n",
    "    try:\n",
    "        player_list.append(get_player_teams(first, last, pos, driver))\n",
    "    except:\n",
    "        print('# ERROR #')\n",
    "    time.sleep(1)"
   ]
  },
  {
   "cell_type": "code",
   "execution_count": 143,
   "metadata": {
    "collapsed": true
   },
   "outputs": [],
   "source": [
    "player_list = pd.concat(player_list)\n",
    "#player_list.to_csv('player_list.csv')"
   ]
  },
  {
   "cell_type": "code",
   "execution_count": 184,
   "metadata": {
    "collapsed": true
   },
   "outputs": [],
   "source": [
    "all_data['Player'] = all_data['lastName'] + ', '+ all_data['firstName']\n",
    "\n",
    "merged_df = pd.merge(all_data, player_list, on='Player', how='outer')"
   ]
  },
  {
   "cell_type": "code",
   "execution_count": 185,
   "metadata": {
    "collapsed": true
   },
   "outputs": [],
   "source": []
  },
  {
   "cell_type": "code",
   "execution_count": 190,
   "metadata": {
    "collapsed": true
   },
   "outputs": [],
   "source": [
    "fins = all_data[ all_data['empty']==0].index\n",
    "\n",
    "driver = webdriver.Firefox()\n",
    "\n",
    "driver.get('https://www.footballdb.com/players/players.html?q=develin')"
   ]
  },
  {
   "cell_type": "code",
   "execution_count": 191,
   "metadata": {
    "collapsed": true
   },
   "outputs": [],
   "source": [
    "player_list2 = []\n",
    "\n",
    "for player in fins:\n",
    "    current = all_data.iloc[player]\n",
    "    first, last, pos = current['firstName'], current['lastName'], current['POS2']\n",
    "    \n",
    "    try:\n",
    "        player_list2.append(get_player_teams(first, last, pos, driver))\n",
    "    except:\n",
    "        print('# ERROR #')\n",
    "    time.sleep(1)"
   ]
  },
  {
   "cell_type": "code",
   "execution_count": null,
   "metadata": {
    "collapsed": true
   },
   "outputs": [],
   "source": [
    "players2 = pd.concat(player_list2)\n",
    "player_df = pd.concat([players2.reset_index(drop=True), player_list.reset_index(drop=True)])"
   ]
  },
  {
   "cell_type": "code",
   "execution_count": 205,
   "metadata": {},
   "outputs": [
    {
     "data": {
      "text/plain": [
       "(141, 4)"
      ]
     },
     "execution_count": 205,
     "metadata": {},
     "output_type": "execute_result"
    }
   ],
   "source": [
    "player_df.shape"
   ]
  },
  {
   "cell_type": "code",
   "execution_count": null,
   "metadata": {
    "collapsed": true
   },
   "outputs": [],
   "source": [
    "powerups['Player'] = powerups['lastName'] + ', '+ powerups['firstName']"
   ]
  },
  {
   "cell_type": "code",
   "execution_count": 212,
   "metadata": {
    "collapsed": true
   },
   "outputs": [],
   "source": [
    "all_players = set(powerups['Player'].unique())\n",
    "some_players = set(player_df['Player'].unique())"
   ]
  },
  {
   "cell_type": "code",
   "execution_count": 213,
   "metadata": {
    "collapsed": true
   },
   "outputs": [],
   "source": [
    "C = all_players.difference(some_players)"
   ]
  },
  {
   "cell_type": "code",
   "execution_count": null,
   "metadata": {
    "collapsed": true
   },
   "outputs": [],
   "source": []
  },
  {
   "cell_type": "code",
   "execution_count": null,
   "metadata": {
    "collapsed": true
   },
   "outputs": [],
   "source": []
  },
  {
   "cell_type": "code",
   "execution_count": 235,
   "metadata": {
    "collapsed": true
   },
   "outputs": [],
   "source": [
    "merged = pd.merge(powerups, player_df, on='Player', how='outer')\n",
    "merged['Teams'] = merged['Teams'].fillna(' ')\n",
    "merged['Teams'] = merged['Teams'].str.replace('[^a-zA-Z,]', '')"
   ]
  },
  {
   "cell_type": "code",
   "execution_count": null,
   "metadata": {
    "collapsed": true
   },
   "outputs": [],
   "source": []
  },
  {
   "cell_type": "code",
   "execution_count": 285,
   "metadata": {
    "collapsed": true
   },
   "outputs": [],
   "source": [
    "df = merged.Teams.str.split('\\s*,\\s*', expand=True)\\\n",
    "                .apply(pd.Series.value_counts, 1).iloc[:, 1:].fillna(0)\n",
    "    \n",
    "df['LAR'] = df['LA'] + df['LAR'] \n",
    "df['RAMS'] = np.where(df['LAR']+df['Stl']>=1, 1, 0)\n",
    "\n",
    "df['CHARGERS'] = np.where(df['LAC']+df['SD']>=1, 1, 0)\n",
    "\n",
    "df.drop(['LA', 'NFLEHam', 'Stl', 'LAC', 'LAR', 'SD'], axis=1, inplace=True)"
   ]
  },
  {
   "cell_type": "code",
   "execution_count": 286,
   "metadata": {
    "collapsed": true
   },
   "outputs": [],
   "source": [
    "all_df = pd.concat([merged, df], axis=1)\n",
    "#all_df.to_csv('all_powerups.csv')"
   ]
  },
  {
   "cell_type": "code",
   "execution_count": 284,
   "metadata": {
    "collapsed": true
   },
   "outputs": [],
   "source": [
    "remaining = ['Beckham Jr, Odell', 'Brown, Zach', 'Gurley II, Todd', 'Harris Jr, Chris',\n",
    " 'Harrison Sr, Damon', 'Johnson, Lane', 'Johnson, Trumaine', 'Jones, Reshad', 'Slay Jr, Darius',\n",
    " 'Smith, Jimmy', 'Smith, Telvin', 'Smith, Tyron', 'Tate III, Golden', 'Thomas III, Earl',\n",
    " 'Williams, Trent']\n",
    "\n",
    "rem_teams = [['NYG'], ['Ten', 'Buf', 'Was'], ['RAMS'], ['Den'], ['NYJ', 'NYG'], ['Phi'],\n",
    "            ['RAMS', 'NYJ'], ['Mia'], ['Det'], ['Bal'], ['Jax'], ['Dal'], ['Sea', 'Det'], \n",
    "            ['Sea'], ['Was']]"
   ]
  },
  {
   "cell_type": "code",
   "execution_count": 287,
   "metadata": {
    "collapsed": true
   },
   "outputs": [],
   "source": []
  },
  {
   "cell_type": "code",
   "execution_count": 288,
   "metadata": {},
   "outputs": [
    {
     "data": {
      "text/html": [
       "<div>\n",
       "<style>\n",
       "    .dataframe thead tr:only-child th {\n",
       "        text-align: right;\n",
       "    }\n",
       "\n",
       "    .dataframe thead th {\n",
       "        text-align: left;\n",
       "    }\n",
       "\n",
       "    .dataframe tbody tr th {\n",
       "        vertical-align: top;\n",
       "    }\n",
       "</style>\n",
       "<table border=\"1\" class=\"dataframe\">\n",
       "  <thead>\n",
       "    <tr style=\"text-align: right;\">\n",
       "      <th></th>\n",
       "      <th>Name</th>\n",
       "      <th>OVR</th>\n",
       "      <th>POS</th>\n",
       "      <th>PS4</th>\n",
       "      <th>firstName</th>\n",
       "      <th>lastName</th>\n",
       "      <th>POS2</th>\n",
       "      <th>Player</th>\n",
       "      <th>Pos</th>\n",
       "      <th>College</th>\n",
       "      <th>...</th>\n",
       "      <th>Oak</th>\n",
       "      <th>Phi</th>\n",
       "      <th>Pit</th>\n",
       "      <th>SF</th>\n",
       "      <th>Sea</th>\n",
       "      <th>TB</th>\n",
       "      <th>Ten</th>\n",
       "      <th>Was</th>\n",
       "      <th>RAMS</th>\n",
       "      <th>CHARGERS</th>\n",
       "    </tr>\n",
       "  </thead>\n",
       "  <tbody>\n",
       "    <tr>\n",
       "      <th>0</th>\n",
       "      <td>Champ Bailey</td>\n",
       "      <td>73</td>\n",
       "      <td>CB</td>\n",
       "      <td>2,000</td>\n",
       "      <td>Champ</td>\n",
       "      <td>Bailey</td>\n",
       "      <td>DB</td>\n",
       "      <td>Bailey, Champ</td>\n",
       "      <td>DB</td>\n",
       "      <td>Georgia</td>\n",
       "      <td>...</td>\n",
       "      <td>0.0</td>\n",
       "      <td>0.0</td>\n",
       "      <td>0.0</td>\n",
       "      <td>0.0</td>\n",
       "      <td>0.0</td>\n",
       "      <td>0.0</td>\n",
       "      <td>0.0</td>\n",
       "      <td>1.0</td>\n",
       "      <td>0</td>\n",
       "      <td>0</td>\n",
       "    </tr>\n",
       "    <tr>\n",
       "      <th>1</th>\n",
       "      <td>Randy Moss</td>\n",
       "      <td>73</td>\n",
       "      <td>WR</td>\n",
       "      <td>3,400</td>\n",
       "      <td>Randy</td>\n",
       "      <td>Moss</td>\n",
       "      <td>WR</td>\n",
       "      <td>Moss, Randy</td>\n",
       "      <td>WR</td>\n",
       "      <td>Marshall</td>\n",
       "      <td>...</td>\n",
       "      <td>1.0</td>\n",
       "      <td>0.0</td>\n",
       "      <td>0.0</td>\n",
       "      <td>1.0</td>\n",
       "      <td>0.0</td>\n",
       "      <td>0.0</td>\n",
       "      <td>1.0</td>\n",
       "      <td>0.0</td>\n",
       "      <td>0</td>\n",
       "      <td>0</td>\n",
       "    </tr>\n",
       "    <tr>\n",
       "      <th>2</th>\n",
       "      <td>Michael Vick</td>\n",
       "      <td>73</td>\n",
       "      <td>QB</td>\n",
       "      <td>4,100</td>\n",
       "      <td>Michael</td>\n",
       "      <td>Vick</td>\n",
       "      <td>QB</td>\n",
       "      <td>Vick, Michael</td>\n",
       "      <td>QB</td>\n",
       "      <td>Virginia Tech</td>\n",
       "      <td>...</td>\n",
       "      <td>0.0</td>\n",
       "      <td>1.0</td>\n",
       "      <td>1.0</td>\n",
       "      <td>0.0</td>\n",
       "      <td>0.0</td>\n",
       "      <td>0.0</td>\n",
       "      <td>0.0</td>\n",
       "      <td>0.0</td>\n",
       "      <td>0</td>\n",
       "      <td>0</td>\n",
       "    </tr>\n",
       "    <tr>\n",
       "      <th>3</th>\n",
       "      <td>Reggie White</td>\n",
       "      <td>73</td>\n",
       "      <td>LE</td>\n",
       "      <td>1,900</td>\n",
       "      <td>Reggie</td>\n",
       "      <td>White</td>\n",
       "      <td>DE</td>\n",
       "      <td>White, Reggie</td>\n",
       "      <td>DE</td>\n",
       "      <td>Tennessee</td>\n",
       "      <td>...</td>\n",
       "      <td>0.0</td>\n",
       "      <td>1.0</td>\n",
       "      <td>0.0</td>\n",
       "      <td>0.0</td>\n",
       "      <td>0.0</td>\n",
       "      <td>0.0</td>\n",
       "      <td>0.0</td>\n",
       "      <td>0.0</td>\n",
       "      <td>0</td>\n",
       "      <td>0</td>\n",
       "    </tr>\n",
       "    <tr>\n",
       "      <th>4</th>\n",
       "      <td>Derrick Brooks</td>\n",
       "      <td>72</td>\n",
       "      <td>ROLB</td>\n",
       "      <td>2,800</td>\n",
       "      <td>Derrick</td>\n",
       "      <td>Brooks</td>\n",
       "      <td>LB</td>\n",
       "      <td>Brooks, Derrick</td>\n",
       "      <td>LB</td>\n",
       "      <td>Florida State</td>\n",
       "      <td>...</td>\n",
       "      <td>0.0</td>\n",
       "      <td>0.0</td>\n",
       "      <td>0.0</td>\n",
       "      <td>0.0</td>\n",
       "      <td>0.0</td>\n",
       "      <td>1.0</td>\n",
       "      <td>0.0</td>\n",
       "      <td>0.0</td>\n",
       "      <td>0</td>\n",
       "      <td>0</td>\n",
       "    </tr>\n",
       "  </tbody>\n",
       "</table>\n",
       "<p>5 rows × 43 columns</p>\n",
       "</div>"
      ],
      "text/plain": [
       "             Name  OVR   POS    PS4 firstName lastName POS2           Player  \\\n",
       "0    Champ Bailey   73    CB  2,000     Champ   Bailey   DB    Bailey, Champ   \n",
       "1      Randy Moss   73    WR  3,400     Randy     Moss   WR      Moss, Randy   \n",
       "2    Michael Vick   73    QB  4,100   Michael     Vick   QB    Vick, Michael   \n",
       "3    Reggie White   73    LE  1,900    Reggie    White   DE    White, Reggie   \n",
       "4  Derrick Brooks   72  ROLB  2,800   Derrick   Brooks   LB  Brooks, Derrick   \n",
       "\n",
       "  Pos        College    ...     Oak  Phi  Pit   SF  Sea   TB  Ten  Was  RAMS  \\\n",
       "0  DB        Georgia    ...     0.0  0.0  0.0  0.0  0.0  0.0  0.0  1.0     0   \n",
       "1  WR       Marshall    ...     1.0  0.0  0.0  1.0  0.0  0.0  1.0  0.0     0   \n",
       "2  QB  Virginia Tech    ...     0.0  1.0  1.0  0.0  0.0  0.0  0.0  0.0     0   \n",
       "3  DE      Tennessee    ...     0.0  1.0  0.0  0.0  0.0  0.0  0.0  0.0     0   \n",
       "4  LB  Florida State    ...     0.0  0.0  0.0  0.0  0.0  1.0  0.0  0.0     0   \n",
       "\n",
       "   CHARGERS  \n",
       "0         0  \n",
       "1         0  \n",
       "2         0  \n",
       "3         0  \n",
       "4         0  \n",
       "\n",
       "[5 rows x 43 columns]"
      ]
     },
     "execution_count": 288,
     "metadata": {},
     "output_type": "execute_result"
    }
   ],
   "source": [
    "all_df.to_csv('aug17_final_d')"
   ]
  },
  {
   "cell_type": "code",
   "execution_count": null,
   "metadata": {},
   "outputs": [],
   "source": []
  },
  {
   "cell_type": "code",
   "execution_count": null,
   "metadata": {
    "collapsed": true
   },
   "outputs": [],
   "source": []
  },
  {
   "cell_type": "code",
   "execution_count": null,
   "metadata": {
    "collapsed": true
   },
   "outputs": [],
   "source": []
  }
 ],
 "metadata": {
  "kernelspec": {
   "display_name": "Python 3",
   "language": "python",
   "name": "python3"
  },
  "language_info": {
   "codemirror_mode": {
    "name": "ipython",
    "version": 3
   },
   "file_extension": ".py",
   "mimetype": "text/x-python",
   "name": "python",
   "nbconvert_exporter": "python",
   "pygments_lexer": "ipython3",
   "version": "3.6.3"
  }
 },
 "nbformat": 4,
 "nbformat_minor": 2
}
