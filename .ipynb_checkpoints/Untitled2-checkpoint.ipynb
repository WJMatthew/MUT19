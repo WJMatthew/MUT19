{
 "cells": [
  {
   "cell_type": "code",
   "execution_count": 1,
   "metadata": {
    "collapsed": true
   },
   "outputs": [],
   "source": [
    "%matplotlib inline\n",
    "import pandas as pd\n",
    "import numpy as np\n",
    "import matplotlib.pyplot as plt\n",
    "import seaborn as sns\n",
    "import warnings\n",
    "warnings.filterwarnings('ignore')\n",
    "\n",
    "data = pd.read_csv('powerup_data_aug18.csv')\n",
    "data.drop('Unnamed: 0', axis=1, inplace=True)\n",
    "numeric_data = data.select_dtypes(include=['int64', 'float64']).drop('OVR', axis=1)\n",
    "numeric_data.sum().sort_values(ascending=False)\n",
    "teams = numeric_data.columns\n",
    "data['numTeams'] = numeric_data.sum(axis=1)"
   ]
  },
  {
   "cell_type": "code",
   "execution_count": 58,
   "metadata": {
    "collapsed": true
   },
   "outputs": [],
   "source": []
  },
  {
   "cell_type": "code",
   "execution_count": null,
   "metadata": {
    "collapsed": true
   },
   "outputs": [],
   "source": []
  },
  {
   "cell_type": "code",
   "execution_count": null,
   "metadata": {
    "collapsed": true
   },
   "outputs": [],
   "source": []
  },
  {
   "cell_type": "code",
   "execution_count": 60,
   "metadata": {
    "collapsed": true
   },
   "outputs": [],
   "source": [
    "for player in range(0, 8):\n",
    "    teams = x.iloc[player]['Teams'].split(',')\n",
    "    for team in teams:\n",
    "        data.set_value(player+155, team.strip(), 1)\n"
   ]
  },
  {
   "cell_type": "code",
   "execution_count": 61,
   "metadata": {
    "collapsed": true
   },
   "outputs": [],
   "source": [
    "data.fillna(0, inplace=True)\n",
    "data.drop('numTeams', axis=1, inplace=True)"
   ]
  },
  {
   "cell_type": "code",
   "execution_count": 64,
   "metadata": {
    "collapsed": true
   },
   "outputs": [],
   "source": [
    "data.to_csv('powerup_data_aug18.csv')"
   ]
  },
  {
   "cell_type": "code",
   "execution_count": 63,
   "metadata": {},
   "outputs": [
    {
     "data": {
      "text/plain": [
       "Index(['Name', 'OVR', 'POS', 'PS4', 'firstName', 'lastName', 'POS2', 'Player',\n",
       "       'Pos', 'College', 'Teams', 'Ari', 'Atl', 'Bal', 'Buf', 'Car', 'Chi',\n",
       "       'Cin', 'Cle', 'Dal', 'Den', 'Det', 'GB', 'Hou', 'Ind', 'Jax', 'KC',\n",
       "       'Mia', 'Min', 'NE', 'NO', 'NYG', 'NYJ', 'Oak', 'Phi', 'Pit', 'SF',\n",
       "       'Sea', 'TB', 'Ten', 'Was', 'RAMS', 'CHARGERS'],\n",
       "      dtype='object')"
      ]
     },
     "execution_count": 63,
     "metadata": {},
     "output_type": "execute_result"
    }
   ],
   "source": [
    "data.columns"
   ]
  },
  {
   "cell_type": "code",
   "execution_count": null,
   "metadata": {
    "collapsed": true
   },
   "outputs": [],
   "source": []
  }
 ],
 "metadata": {
  "kernelspec": {
   "display_name": "Python 3",
   "language": "python",
   "name": "python3"
  },
  "language_info": {
   "codemirror_mode": {
    "name": "ipython",
    "version": 3
   },
   "file_extension": ".py",
   "mimetype": "text/x-python",
   "name": "python",
   "nbconvert_exporter": "python",
   "pygments_lexer": "ipython3",
   "version": "3.6.3"
  }
 },
 "nbformat": 4,
 "nbformat_minor": 2
}
